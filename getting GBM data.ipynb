{
 "cells": [
  {
   "cell_type": "code",
   "execution_count": 1,
   "id": "4d67d2a9",
   "metadata": {},
   "outputs": [
    {
     "name": "stderr",
     "output_type": "stream",
     "text": [
      "/Users/tahumada/Research/GBM/gbm_data_tools-1.1.1/gbm/plot/lal_post_subs.py:184: UserWarning: Basemap not installed. Some functionality not available.\n",
      "  warnings.warn('Basemap not installed. Some functionality not available.')\n"
     ]
    },
    {
     "name": "stdout",
     "output_type": "stream",
     "text": [
      "Downloading Catalog from HEASARC via w3query.pl...\n",
      "Finished in 76 s\n"
     ]
    }
   ],
   "source": [
    "from gbm.finder import BurstCatalog\n",
    "from gbm.finder import TriggerFtp\n",
    "import os\n",
    "    \n",
    "import gbm\n",
    "from gbm import test_data_dir\n",
    "from gbm.data import TTE\n",
    "from gbm.binning.unbinned import bin_by_time\n",
    "import glob\n",
    "\n",
    "%matplotlib inline\n",
    "import matplotlib.pyplot as plt\n",
    "import numpy as np\n",
    "from gbm.plot import Lightcurve, Spectrum\n",
    "\n",
    "\n",
    "burstcat = BurstCatalog()\n",
    "\n",
    "\n",
    "# burstcat.num_rows\n"
   ]
  },
  {
   "cell_type": "code",
   "execution_count": null,
   "id": "c8becb9a",
   "metadata": {},
   "outputs": [
    {
     "name": "stdout",
     "output_type": "stream",
     "text": [
      "0 3574 bn120403857\n",
      "Connection appears to have failed.  Attempting to reconnect...\n",
      "Reconnected.\n",
      "TTE Downloaded\n",
      "1 3574 bn120227725\n",
      "Connection appears to have failed.  Attempting to reconnect...\n",
      "Reconnected.\n",
      "TTE Downloaded\n",
      "2 3574 bn230524357\n",
      "Connection appears to have failed.  Attempting to reconnect...\n",
      "Reconnected.\n",
      "TTE Downloaded\n",
      "3 3574 bn210411564\n",
      "Connection appears to have failed.  Attempting to reconnect...\n",
      "Reconnected.\n",
      "TTE Downloaded\n",
      "4 3574 bn190304818\n",
      "Connection appears to have failed.  Attempting to reconnect...\n",
      "Reconnected.\n",
      "TTE Downloaded\n",
      "5 3574 bn141205018\n",
      "Connection appears to have failed.  Attempting to reconnect...\n",
      "Reconnected.\n",
      "No SNR > 3\n",
      "rm ./Bursts/bn141205018/*tte*.fit\n",
      "FAILED bn141205018\n",
      "rm ./Bursts/bn141205018/*tte*.fit\n",
      "6 3574 bn180630467\n",
      "Connection appears to have failed.  Attempting to reconnect...\n"
     ]
    },
    {
     "name": "stderr",
     "output_type": "stream",
     "text": [
      "rm: ./Bursts/bn141205018/*tte*.fit: No such file or directory\n"
     ]
    },
    {
     "name": "stdout",
     "output_type": "stream",
     "text": [
      "Reconnected.\n",
      "TTE Downloaded\n",
      "7 3574 bn170116238\n",
      "Connection appears to have failed.  Attempting to reconnect...\n",
      "Reconnected.\n",
      "No SNR > 3\n",
      "rm ./Bursts/bn170116238/*tte*.fit\n",
      "FAILED bn170116238\n",
      "rm ./Bursts/bn170116238/*tte*.fit\n",
      "8 3574 bn091026550\n",
      "Connection appears to have failed.  Attempting to reconnect...\n"
     ]
    },
    {
     "name": "stderr",
     "output_type": "stream",
     "text": [
      "rm: ./Bursts/bn170116238/*tte*.fit: No such file or directory\n"
     ]
    },
    {
     "name": "stdout",
     "output_type": "stream",
     "text": [
      "Reconnected.\n",
      "5 385.0 109.63313593366391 3.5117120086116413\n",
      "rm ./Bursts/bn091026550/*tte*.fit\n",
      "9 3574 bn230428381\n",
      "Connection appears to have failed.  Attempting to reconnect...\n",
      "Reconnected.\n",
      "0 263.5 66.84039985857683 3.942226565932014\n",
      "2 252.5 69.1253149837137 3.652786248561622\n",
      "3 350.0 86.9493578377803 4.025331626404741\n",
      "rm ./Bursts/bn230428381/*tte*.fit\n",
      "10 3574 bn150312403\n",
      "Connection appears to have failed.  Attempting to reconnect...\n",
      "Reconnected.\n",
      "FAILED bn150312403\n",
      "rm ./Bursts/bn150312403/*tte*.fit\n",
      "11 3574 bn190825171\n",
      "Connection appears to have failed.  Attempting to reconnect...\n",
      "Reconnected.\n",
      "TTE Downloaded\n",
      "12 3574 bn080714425\n",
      "Connection appears to have failed.  Attempting to reconnect...\n",
      "Reconnected.\n",
      "No SNR > 3\n",
      "rm ./Bursts/bn080714425/*tte*.fit\n",
      "FAILED bn080714425\n",
      "rm ./Bursts/bn080714425/*tte*.fit\n",
      "13 3574 bn110520302\n",
      "Connection appears to have failed.  Attempting to reconnect...\n"
     ]
    },
    {
     "name": "stderr",
     "output_type": "stream",
     "text": [
      "rm: ./Bursts/bn080714425/*tte*.fit: No such file or directory\n"
     ]
    },
    {
     "name": "stdout",
     "output_type": "stream",
     "text": [
      "Reconnected.\n",
      "TTE Downloaded\n",
      "14 3574 bn121216419\n",
      "Connection appears to have failed.  Attempting to reconnect...\n",
      "Reconnected.\n",
      "TTE Downloaded\n",
      "15 3574 bn200107810\n",
      "Connection appears to have failed.  Attempting to reconnect...\n",
      "Reconnected.\n",
      "TTE Downloaded\n",
      "16 3574 bn190422284\n",
      "Connection appears to have failed.  Attempting to reconnect...\n",
      "Reconnected.\n",
      "TTE Downloaded\n",
      "17 3574 bn101227195\n",
      "Connection appears to have failed.  Attempting to reconnect...\n",
      "Reconnected.\n",
      "TTE Downloaded\n",
      "18 3574 bn220430900\n",
      "Connection appears to have failed.  Attempting to reconnect...\n",
      "Reconnected.\n",
      "TTE Downloaded\n",
      "19 3574 bn200607921\n",
      "Connection appears to have failed.  Attempting to reconnect...\n",
      "Reconnected.\n",
      "TTE Downloaded\n",
      "20 3574 bn160326062\n",
      "Connection appears to have failed.  Attempting to reconnect...\n",
      "Reconnected.\n",
      "TTE Downloaded\n",
      "21 3574 bn230426853\n",
      "Connection appears to have failed.  Attempting to reconnect...\n",
      "Reconnected.\n",
      "TTE Downloaded\n",
      "22 3574 bn220413167\n",
      "Connection appears to have failed.  Attempting to reconnect...\n",
      "Reconnected.\n",
      "FAILED bn220413167\n",
      "rm ./Bursts/bn220413167/*tte*.fit\n",
      "23 3574 bn230415474\n",
      "Connection appears to have failed.  Attempting to reconnect...\n",
      "Reconnected.\n",
      "FAILED bn230415474\n",
      "rm ./Bursts/bn230415474/*tte*.fit\n",
      "24 3574 bn101116481\n",
      "Connection appears to have failed.  Attempting to reconnect...\n",
      "Reconnected.\n",
      "FAILED bn101116481\n",
      "rm ./Bursts/bn101116481/*tte*.fit\n",
      "25 3574 bn220921473\n",
      "Connection appears to have failed.  Attempting to reconnect...\n",
      "Reconnected.\n",
      "TTE Downloaded\n",
      "26 3574 bn170130697\n",
      "Connection appears to have failed.  Attempting to reconnect...\n",
      "Reconnected.\n",
      "TTE Downloaded\n",
      "27 3574 bn221203537\n",
      "Connection appears to have failed.  Attempting to reconnect...\n"
     ]
    }
   ],
   "source": [
    "bursts = burstcat.get_table(columns=('name',\n",
    "                                     'trigger_name', \n",
    "                                     't90',\n",
    "                                     't90_start',\n",
    "                                    ))\n",
    "\n",
    "erange_nai = (8.0, 900.0) # in keV\n",
    "erange_bgo = (325, 35000.0)\n",
    "    \n",
    "failed = []\n",
    "\n",
    "# for i in range(len(bursts.trigger_name)):\n",
    "for i in range(1000):\n",
    "# for i in [0,1,2]:\n",
    "\n",
    "    print(i,len(bursts.trigger_name),bursts.trigger_name[i])\n",
    "    \n",
    "    try:\n",
    "        # initialize the Trigger data finder with a trigger number\n",
    "        burst = bursts.trigger_name[i]\n",
    "        trig_finder = TriggerFtp(burst[2:])\n",
    "\n",
    "        #check if exists \n",
    "        path_tte = './Bursts/'+bursts.trigger_name[i]\n",
    "\n",
    "        if not os.path.isdir(path_tte) or len(path_tte)<14 or not os.path.isfile(path_tte+'/done.txt'):\n",
    "            trig_finder.get_tte(path_tte,verbose = False)\n",
    "\n",
    "        else:\n",
    "            print('TTE Downloaded')\n",
    "            continue\n",
    "\n",
    "        files_tte = glob.glob(path_tte+'/*tte*')\n",
    "\n",
    "        temp_time = []\n",
    "        temp_flux = []\n",
    "        temp_idx = []\n",
    "        temp_bg = []\n",
    "        temp_spec = []\n",
    "        temp_ebin = []\n",
    "        temp_det = []\n",
    "\n",
    "        for ii in range(len(files_tte)):\n",
    "        # open a TTE file\n",
    "            tte = TTE.open(files_tte[ii])\n",
    "            # bin to 1.024 s resolution, reference time is trigger time\n",
    "            phaii = tte.to_phaii(bin_by_time, 1.024*2, time_ref=0.0)\n",
    "\n",
    "            # maybe change the energy range??\n",
    "\n",
    "            erange = erange_nai\n",
    "            if 'tte_b' in files_tte[ii]:\n",
    "                erange = erange_bgo\n",
    "\n",
    "            lc_data = phaii.to_lightcurve(energy_range=erange)\n",
    "\n",
    "            # lcplot = Lightcurve(data=lc_data)\n",
    "            bg = np.median(lc_data.counts)\n",
    "            t90 = bursts.t90[i]\n",
    "            t90_start = bursts.t90_start[i]\n",
    "\n",
    "            # median and std of the t90 region\n",
    "            cond_bg_t90 = (lc_data.centroids>(t90_start-15)) * (lc_data.centroids<(t90_start+t90+35))\n",
    "            cond_t90 = (lc_data.centroids>(t90_start)) * (lc_data.centroids<(t90_start+t90))\n",
    "            std_bg_t90 = np.std(lc_data.counts[cond_bg_t90])\n",
    "            median_t90 = np.max(lc_data.counts[cond_t90])-np.median(lc_data.counts[cond_bg_t90])\n",
    "            SNR = median_t90/std_bg_t90\n",
    "\n",
    "            if SNR > 3:\n",
    "                print(ii,median_t90,std_bg_t90,median_t90/std_bg_t90)\n",
    "                temp_time.append(lc_data.centroids[1:-1])\n",
    "                temp_flux.append(lc_data.counts[1:-1])\n",
    "                temp_idx.append(ii)\n",
    "                temp_bg.append(bg)\n",
    "                temp_det.append(files_tte[ii][files_tte[ii].find('tte')+4:files_tte[ii].find('tte')+6])\n",
    "                det = files_tte[ii][files_tte[ii].rfind('glg_tte_')+8:files_tte[ii].rfind('glg_tte_')+8+2]\n",
    "                lc_name = f'lc_{burst}_{det}_{np.round(t90_start,1)}_{np.round(t90,1)}_{np.round(SNR,1)}.txt'\n",
    "                np.savetxt(path_tte+'/'+lc_name,np.array([lc_data.centroids[1:-1],lc_data.counts[1:-1]]))\n",
    "\n",
    "                # spectral data\n",
    "                # our lightcurve source selection\n",
    "                src_time = (t90_start, t90_start+t90)\n",
    "                src_lc = phaii.to_lightcurve(time_range=src_time, energy_range=erange)\n",
    "                # the spectum of the energy range selection \n",
    "                spec_selection = phaii.to_spectrum(time_range=src_time, energy_range=erange)\n",
    "                c_erange = (spec_selection.centroids < max(erange)) * (spec_selection.centroids > min(erange))\n",
    "                spec_name =  f'spec_{burst}_{det}_{np.round(t90_start,1)}_{np.round(t90,1)}_{np.round(SNR,1)}.txt'\n",
    "                np.savetxt(path_tte+'/'+spec_name,np.array([spec_selection.centroids[c_erange],spec_selection.counts[c_erange]]))\n",
    "                temp_ebin.append(spec_selection.centroids[c_erange])\n",
    "                temp_spec.append(spec_selection.counts[c_erange])\n",
    "\n",
    "\n",
    "        if len(temp_flux) == 0:\n",
    "            print('No SNR > 3')\n",
    "            failed.append(bursts.trigger_name[i])\n",
    "#             if os.path.isfile(path_tte+'/done.txt'):\n",
    "            cmd = f'rm {path_tte}/*tte*.fit'\n",
    "            os.system(cmd)\n",
    "            print(cmd)\n",
    "\n",
    "\n",
    "        fig, axs = plt.subplots(len(temp_flux), 2, figsize=(7, 2*len(temp_flux)))\n",
    "        for jj,ax in enumerate(axs.flat):\n",
    "            j = int(jj/2)\n",
    "            if jj%2 == 0: #even\n",
    "                ax.set_title('LC det:'+ temp_det[j])\n",
    "                ax.vlines(t90_start-15,temp_bg[j]-100,temp_bg[j]+100,color='red')\n",
    "                ax.vlines(t90_start+t90+35,temp_bg[j]-100,temp_bg[j]+100,color='red')\n",
    "                ax.vlines(t90_start,temp_bg[j]-100,temp_bg[j]+100)\n",
    "                ax.vlines(t90_start+t90,temp_bg[j]-100,temp_bg[j]+100)\n",
    "                ax.plot(temp_time[j],temp_flux[j])\n",
    "            else:\n",
    "                ax.set_title('spec det:'+ temp_det[j])\n",
    "                ax.plot(temp_ebin[j],temp_spec[j])\n",
    "                ax.set_xscale('log')\n",
    "                ax.set_yscale('log')\n",
    "        fig.tight_layout() \n",
    "        fig.savefig(path_tte+'/'+f'collage_{burst}.png',dpi=200)\n",
    "        plt.close(fig)\n",
    "\n",
    "        # done with data analysis\n",
    "        np.savetxt(path_tte+'/'+'done.txt',np.array([]))\n",
    "\n",
    "        if os.path.isfile(path_tte+'/done.txt'):\n",
    "            cmd = f'rm {path_tte}/*tte*.fit'\n",
    "            os.system(cmd)\n",
    "            print(cmd)\n",
    "    \n",
    "    except:\n",
    "        print('FAILED', bursts.trigger_name[i])\n",
    "        failed.append(bursts.trigger_name[i])\n",
    "#         if os.path.isfile(path_tte+'/done.txt'):\n",
    "        cmd = f'rm {path_tte}/*tte*.fit'\n",
    "        os.system(cmd)\n",
    "        print(cmd)\n",
    "\n"
   ]
  },
  {
   "cell_type": "code",
   "execution_count": 59,
   "id": "9e3cc18b",
   "metadata": {},
   "outputs": [
    {
     "data": {
      "text/plain": [
       "'bn141205018'"
      ]
     },
     "execution_count": 59,
     "metadata": {},
     "output_type": "execute_result"
    }
   ],
   "source": [
    "bursts.trigger_name[i]"
   ]
  },
  {
   "cell_type": "code",
   "execution_count": 32,
   "id": "3eaa999b",
   "metadata": {},
   "outputs": [
    {
     "data": {
      "image/png": "[encoded data removed]",
      "text/plain": [
       "<Figure size 770x470 with 1 Axes>"
      ]
     },
     "metadata": {},
     "output_type": "display_data"
    },
    {
     "data": {
      "image/png": "[encoded data removed]",
      "text/plain": [
       "<Figure size 640x480 with 1 Axes>"
      ]
     },
     "metadata": {},
     "output_type": "display_data"
    }
   ],
   "source": [
    "t90,t90_start \n",
    "\n",
    "# why the resolution\n",
    "# lcplot = Lightcurve(data=lc_data)\n",
    "# zoom in to 5 seconds before to 20 s after the trigger time\n",
    "# view_range = (t90_start-3.0, t90_start+t90+20.0)\n",
    "# lcplot.xlim = view_range\n",
    "# # our lightcurve source selection\n",
    "src_time = (t90_start, t90_start+t90)\n",
    "src_lc = phaii.to_lightcurve(time_range=src_time, energy_range=erange)\n",
    "\n",
    "# lcplot = Lightcurve(data=lc_data)\n",
    "# lcplot.add_selection(src_lc)\n",
    "# lcplot.xlim = view_range  \n",
    "\n",
    "# # the observed count spectrum during the source selection\n",
    "spec_data = phaii.to_spectrum(time_range=src_time)\n",
    "# # the background model integrated over the source selection time\n",
    "# spec_bkgd = bkgd.integrate_time(*src_time)\n",
    "# # and the energy range selection that was made\n",
    "spec_selection = phaii.to_spectrum(time_range=src_time, energy_range=erange)\n",
    "\n",
    "specplot = Spectrum(data=spec_selection)\n",
    "# specplot.add_selection(spec_selection)\n",
    "\n",
    "plt.figure()\n",
    "c_erange = (spec_selection.centroids < max(erange)) * (spec_selection.centroids > min(erange))\n",
    "plt.plot(spec_selection.centroids[c_erange],spec_selection.counts[c_erange])\n",
    "plt.xscale('log')\n",
    "plt.yscale('log')\n",
    "np.savetxt('sample_energy_lc.txt',np.array([spec_selection.centroids[c_erange],spec_selection.counts[c_erange]]))\n",
    "# spec_data.centroids[c_erange]"
   ]
  },
  {
   "cell_type": "code",
   "execution_count": 6,
   "id": "fb96c08f",
   "metadata": {},
   "outputs": [
    {
     "ename": "NameError",
     "evalue": "name 'rename_function' is not defined",
     "output_type": "error",
     "traceback": [
      "\u001b[0;31m---------------------------------------------------------------------------\u001b[0m",
      "\u001b[0;31mNameError\u001b[0m                                 Traceback (most recent call last)",
      "Cell \u001b[0;32mIn[6], line 106\u001b[0m\n\u001b[1;32m    102\u001b[0m     \u001b[38;5;28;01mreturn\u001b[39;00m\n\u001b[1;32m    104\u001b[0m \u001b[38;5;28;01mwith\u001b[39;00m ThreadPoolExecutor(max_workers\u001b[38;5;241m=\u001b[39mcpu_count()) \u001b[38;5;28;01mas\u001b[39;00m executor:\n\u001b[1;32m    105\u001b[0m \u001b[38;5;66;03m#     executor.map(rename_function, range(len(bursts.trigger_name)))\u001b[39;00m\n\u001b[0;32m--> 106\u001b[0m     executor\u001b[38;5;241m.\u001b[39mmap(\u001b[43mrename_function\u001b[49m, np\u001b[38;5;241m.\u001b[39marange(\u001b[38;5;241m7\u001b[39m))\n",
      "\u001b[0;31mNameError\u001b[0m: name 'rename_function' is not defined"
     ]
    }
   ],
   "source": [
    "from gbm.finder import BurstCatalog\n",
    "from gbm.finder import TriggerFtp\n",
    "import os\n",
    "    \n",
    "import gbm\n",
    "from gbm import test_data_dir\n",
    "from gbm.data import TTE\n",
    "from gbm.binning.unbinned import bin_by_time\n",
    "import glob\n",
    "import matplotlib.pyplot as plt\n",
    "import numpy as np\n",
    "from gbm.plot import Lightcurve, Spectrum\n",
    "\n",
    "from concurrent.futures import ThreadPoolExecutor\n",
    "from multiprocessing import cpu_count\n",
    "\n",
    "\n",
    "# burstcat = BurstCatalog()\n",
    "\n",
    "bursts = burstcat.get_table(columns=('name',\n",
    "                                     'trigger_name', \n",
    "                                     't90',\n",
    "                                     't90_start',\n",
    "                                    ))\n",
    "\n",
    "def lc_process(i):\n",
    "\n",
    "    print(i,len(bursts.trigger_name),bursts.trigger_name[i])\n",
    "    \n",
    "    # initialize the Trigger data finder with a trigger number\n",
    "    burst = bursts.trigger_name[i]\n",
    "    trig_finder = TriggerFtp(burst[2:])\n",
    "\n",
    "    #check if exists \n",
    "    path_tte = './Bursts/'+bursts.trigger_name[i]\n",
    "    files_tte = glob.glob(path_tte+'/*tte*')\n",
    "    \n",
    "    if not len(files_tte) == 14 or not os.path.isdir(path_tte):\n",
    "        trig_finder = TriggerFtp(burst[2:])\n",
    "        trig_finder.get_tte(path_tte,verbose=False)\n",
    "        print(burst,'restarted')\n",
    "        \n",
    "    else:\n",
    "        print('TTE Downloaded')\n",
    "        return\n",
    "\n",
    "    \n",
    "    temp_time = []\n",
    "    temp_flux = []\n",
    "    temp_idx = []\n",
    "    temp_bg = []\n",
    "    \n",
    "    \n",
    "    for ii in range(len(files_tte)):\n",
    "    # open a TTE file\n",
    "        tte = TTE.open(files_tte[ii])\n",
    "        # bin to 1.024 s resolution, reference time is trigger time\n",
    "        phaii = tte.to_phaii(bin_by_time, 1.024*2, time_ref=0.0)\n",
    "\n",
    "        # maybe change the energy range??\n",
    "\n",
    "        erange = (10.0, 900.0)\n",
    "\n",
    "        lc_data = phaii.to_lightcurve(energy_range=erange)\n",
    "\n",
    "        # lcplot = Lightcurve(data=lc_data)\n",
    "        bg = np.median(lc_data.counts)\n",
    "        t90 = bursts.t90[i]\n",
    "        t90_start = bursts.t90_start[i]\n",
    "\n",
    "        # median and std of the t90 region\n",
    "        cond_bg_t90 = (lc_data.centroids>(t90_start-15)) * (lc_data.centroids<(t90_start+t90+35))\n",
    "        cond_t90 = (lc_data.centroids>(t90_start)) * (lc_data.centroids<(t90_start+t90))\n",
    "        std_bg_t90 = np.std(lc_data.counts[cond_bg_t90])\n",
    "        median_t90 = np.max(lc_data.counts[cond_t90])-np.median(lc_data.counts[cond_bg_t90])\n",
    "        SNR = median_t90/std_bg_t90\n",
    "\n",
    "        if SNR > 3:\n",
    "            print(ii,median_t90,std_bg_t90,median_t90/std_bg_t90)\n",
    "            temp_time.append(lc_data.centroids[1:-1])\n",
    "            temp_flux.append(lc_data.counts[1:-1])\n",
    "            temp_idx.append(ii)\n",
    "            temp_bg.append(bg)\n",
    "\n",
    "            det = files_tte[ii][files_tte[ii].rfind('glg_tte_')+8:files_tte[ii].rfind('glg_tte_')+8+2]\n",
    "            lc_name = f'lc_{burst}_{det}_{int(t90_start)}_{int(t90)}_{np.round(SNR)}.txt'\n",
    "            np.savetxt(path_tte+'/'+lc_name,np.array([lc_data.centroids[1:-1],lc_data.counts[1:-1]]))\n",
    "            \n",
    "    fig, axs = plt.subplots(len(temp_flux), 1, figsize=(6, 2*len(temp_flux)))\n",
    "    for j,ax in enumerate(axs.flat):\n",
    "        ax.set_title(temp_idx[j])\n",
    "        ax.vlines(t90_start-15,temp_bg[j]-100,temp_bg[j]+100,color='red')\n",
    "        ax.vlines(t90_start+t90+35,temp_bg[j]-100,temp_bg[j]+100,color='red')\n",
    "        ax.vlines(t90_start,temp_bg[j]-100,temp_bg[j]+100)\n",
    "        ax.vlines(t90_start+t90,temp_bg[j]-100,temp_bg[j]+100)\n",
    "        ax.plot(temp_time[j],temp_flux[j])\n",
    "    fig.savefig(path_tte+'/'+f'collage_{burst}.png',dpi=200)\n",
    "    fig.clf()\n",
    "\n",
    "    os.system('rm '+path_tte+'/*.fits')\n",
    "    \n",
    "    return\n",
    "\n",
    "with ThreadPoolExecutor(max_workers=cpu_count()) as executor:\n",
    "#     executor.map(rename_function, range(len(bursts.trigger_name)))\n",
    "    executor.map(l, np.arange(7))"
   ]
  },
  {
   "cell_type": "code",
   "execution_count": null,
   "id": "390315ca",
   "metadata": {},
   "outputs": [],
   "source": []
  },
  {
   "cell_type": "code",
   "execution_count": 2,
   "id": "55ff2aea",
   "metadata": {
    "scrolled": true
   },
   "outputs": [
    {
     "name": "stdout",
     "output_type": "stream",
     "text": [
      "01 3567 bn120227725\n",
      " 3567 bn120403857\n",
      "2 3567 bn230524357\n",
      "3 3567 bn210411564\n",
      "4 3567 bn190304818\n",
      "5 3567 bn141205018\n",
      "6 3567 bn180630467\n",
      "7 3567 bn170116238\n",
      "8 3567 bn091026550\n",
      "9 3567 bn230428381\n",
      "10 3567 bn150312403\n",
      "11 3567 bn190825171\n",
      "12 3567 bn080714425\n",
      "13 3567 bn110520302\n",
      "14 3567 bn121216419\n",
      "15 3567 bn200107810\n",
      "16 3567 bn190422284\n",
      "17 3567 bn101227195\n",
      "18 3567 bn220430900\n",
      "19 3567 bn200607921\n",
      "20 3567 bn160326062\n",
      "21 3567 bn230426853\n",
      "22 3567 bn220413167\n",
      "23 3567 bn230415474\n",
      "24 3567 bn101116481\n",
      "25 3567 bn220921473\n",
      "26 3567 bn170130697\n",
      "27 3567 bn221203537\n",
      "28 3567 bn110205027\n",
      "29 3567 bn110825265\n",
      "30 3567 bn160919613\n",
      "31 3567 bn120830212\n",
      "32 3567 bn140323433\n",
      "33 3567 bn220415645\n",
      "34 3567 bn181007737\n",
      "35 3567 bn180723133\n",
      "Connection appears to have failed.  Attempting to reconnect...\n",
      "36 3567 bn100325246\n",
      "Connection appears to have failed.  Attempting to reconnect...\n",
      "37 3567 bn100507577\n",
      "Connection appears to have failed.  Attempting to reconnect...\n",
      "38 3567 bn200907957\n",
      "Connection appears to have failed.  Attempting to reconnect...\n",
      "39 3567 bn180906597\n",
      "Connection appears to have failed.  Attempting to reconnect...\n",
      "40 3567 bn110911071\n",
      "Connection appears to have failed.  Attempting to reconnect...\n",
      "Connection appears to have failed.  Attempting to reconnect...\n",
      "Reconnected.\n",
      "Reconnected.\n",
      "Reconnected.\n",
      "Reconnected.\n",
      "Reconnected.\n",
      "Reconnected.\n",
      "Reconnected.\n",
      "glg_tte_b0_bn110911071_v00.fit [==============================] 100.00%\n",
      "glg_tte_b0_bn100507577_v00.fit [============================= ] 98.67%"
     ]
    },
    {
     "name": "stderr",
     "output_type": "stream",
     "text": [
      "IOPub message rate exceeded.\n",
      "The notebook server will temporarily stop sending output\n",
      "to the client in order to avoid crashing it.\n",
      "To change this limit, set the config variable\n",
      "`--NotebookApp.iopub_msg_rate_limit`.\n",
      "\n",
      "Current values:\n",
      "NotebookApp.iopub_msg_rate_limit=1000.0 (msgs/sec)\n",
      "NotebookApp.rate_limit_window=3.0 (secs)\n",
      "\n"
     ]
    },
    {
     "name": "stdout",
     "output_type": "stream",
     "text": [
      "glg_tte_b1_bn110911071_v00.fit [==============================] 100.00%\n",
      "glg_tte_b1_bn120227725_v00.fit [========================      ] 82.37%"
     ]
    },
    {
     "name": "stderr",
     "output_type": "stream",
     "text": [
      "IOPub message rate exceeded.\n",
      "The notebook server will temporarily stop sending output\n",
      "to the client in order to avoid crashing it.\n",
      "To change this limit, set the config variable\n",
      "`--NotebookApp.iopub_msg_rate_limit`.\n",
      "\n",
      "Current values:\n",
      "NotebookApp.iopub_msg_rate_limit=1000.0 (msgs/sec)\n",
      "NotebookApp.rate_limit_window=3.0 (secs)\n",
      "\n"
     ]
    },
    {
     "name": "stdout",
     "output_type": "stream",
     "text": [
      "glg_tte_b1_bn100325246_v00.fit [==============================] 100.00%\n",
      "glg_tte_b0_bn180723133_v00.fit [==============================] 100.00%\n",
      "glg_tte_n0_bn100507577_v00.fit [==============================] 100.00%\n",
      "glg_tte_n0_bn120227725_v00.fit [==============================] 100.00%\n",
      "glg_tte_b0_bn200907957_v00.fit [==============================] 100.00%\n",
      "glg_tte_b1_bn180906597_v00.fit [==================            ] 61.29%"
     ]
    },
    {
     "name": "stderr",
     "output_type": "stream",
     "text": [
      "IOPub message rate exceeded.\n",
      "The notebook server will temporarily stop sending output\n",
      "to the client in order to avoid crashing it.\n",
      "To change this limit, set the config variable\n",
      "`--NotebookApp.iopub_msg_rate_limit`.\n",
      "\n",
      "Current values:\n",
      "NotebookApp.iopub_msg_rate_limit=1000.0 (msgs/sec)\n",
      "NotebookApp.rate_limit_window=3.0 (secs)\n",
      "\n"
     ]
    },
    {
     "name": "stdout",
     "output_type": "stream",
     "text": [
      "glg_tte_b1_bn180906597_v00.fit [==============================] 100.00%\n",
      "glg_tte_b1_bn180723133_v00.fit [==============================] 100.00%\n",
      "glg_tte_n1_bn100507577_v00.fit [==============================] 100.00%\n",
      "glg_tte_n1_bn120227725_v00.fit [==============================] 100.00%\n",
      "glg_tte_n0_bn110911071_v00.fit [==============================] 100.00%\n",
      "glg_tte_b1_bn200907957_v00.fit [===================           ] 64.26%"
     ]
    },
    {
     "name": "stderr",
     "output_type": "stream",
     "text": [
      "IOPub message rate exceeded.\n",
      "The notebook server will temporarily stop sending output\n",
      "to the client in order to avoid crashing it.\n",
      "To change this limit, set the config variable\n",
      "`--NotebookApp.iopub_msg_rate_limit`.\n",
      "\n",
      "Current values:\n",
      "NotebookApp.iopub_msg_rate_limit=1000.0 (msgs/sec)\n",
      "NotebookApp.rate_limit_window=3.0 (secs)\n",
      "\n"
     ]
    },
    {
     "name": "stdout",
     "output_type": "stream",
     "text": [
      "glg_tte_n2_bn120227725_v00.fit [==============================] 100.00%\n",
      "glg_tte_n0_bn180723133_v00.fit [==============================] 100.00%\n",
      "glg_tte_n2_bn100507577_v00.fit [==============================] 100.00%\n",
      "glg_tte_n1_bn110911071_v00.fit [==============================] 100.00%\n",
      "glg_tte_n2_bn100325246_v00.fit [==============================] 100.00%\n",
      "glg_tte_n0_bn200907957_v00.fit [=================             ] 58.66%"
     ]
    },
    {
     "name": "stderr",
     "output_type": "stream",
     "text": [
      "IOPub message rate exceeded.\n",
      "The notebook server will temporarily stop sending output\n",
      "to the client in order to avoid crashing it.\n",
      "To change this limit, set the config variable\n",
      "`--NotebookApp.iopub_msg_rate_limit`.\n",
      "\n",
      "Current values:\n",
      "NotebookApp.iopub_msg_rate_limit=1000.0 (msgs/sec)\n",
      "NotebookApp.rate_limit_window=3.0 (secs)\n",
      "\n"
     ]
    },
    {
     "name": "stdout",
     "output_type": "stream",
     "text": [
      "glg_tte_n3_bn100507577_v00.fit [==============================] 100.00%\n",
      "glg_tte_n1_bn180723133_v00.fit [==============================] 100.00%\n",
      "glg_tte_n3_bn100325246_v00.fit [==============================] 100.00%\n",
      "glg_tte_n2_bn110911071_v00.fit [==============================] 100.00%\n",
      "glg_tte_n1_bn200907957_v00.fit [=========                     ] 30.55%"
     ]
    },
    {
     "name": "stderr",
     "output_type": "stream",
     "text": [
      "IOPub message rate exceeded.\n",
      "The notebook server will temporarily stop sending output\n",
      "to the client in order to avoid crashing it.\n",
      "To change this limit, set the config variable\n",
      "`--NotebookApp.iopub_msg_rate_limit`.\n",
      "\n",
      "Current values:\n",
      "NotebookApp.iopub_msg_rate_limit=1000.0 (msgs/sec)\n",
      "NotebookApp.rate_limit_window=3.0 (secs)\n",
      "\n"
     ]
    },
    {
     "name": "stdout",
     "output_type": "stream",
     "text": [
      "glg_tte_n3_bn110911071_v00.fit [==============================] 100.00%\n",
      "glg_tte_n2_bn180723133_v00.fit [==============================] 100.00%\n",
      "glg_tte_n4_bn100325246_v00.fit [==============================] 100.00%\n",
      "glg_tte_n5_bn120227725_v00.fit [==============================] 100.00%\n",
      "glg_tte_n3_bn180906597_v00.fit [==============================] 100.00%\n",
      "glg_tte_n3_bn180723133_v00.fit [=====                         ] 19.08%"
     ]
    },
    {
     "name": "stderr",
     "output_type": "stream",
     "text": [
      "IOPub message rate exceeded.\n",
      "The notebook server will temporarily stop sending output\n",
      "to the client in order to avoid crashing it.\n",
      "To change this limit, set the config variable\n",
      "`--NotebookApp.iopub_msg_rate_limit`.\n",
      "\n",
      "Current values:\n",
      "NotebookApp.iopub_msg_rate_limit=1000.0 (msgs/sec)\n",
      "NotebookApp.rate_limit_window=3.0 (secs)\n",
      "\n"
     ]
    },
    {
     "name": "stdout",
     "output_type": "stream",
     "text": [
      "glg_tte_n5_bn100507577_v00.fit [==============================] 100.00%\n",
      "glg_tte_n3_bn180723133_v00.fit [==============================] 100.00%\n",
      "glg_tte_n6_bn120227725_v00.fit [==============================] 100.00%\n",
      "glg_tte_n4_bn110911071_v00.fit [==============================] 100.00%\n",
      "glg_tte_n4_bn180906597_v00.fit [==============================] 100.00%\n",
      "glg_tte_n2_bn200907957_v00.fit [===================           ] 66.03%"
     ]
    },
    {
     "name": "stderr",
     "output_type": "stream",
     "text": [
      "IOPub message rate exceeded.\n",
      "The notebook server will temporarily stop sending output\n",
      "to the client in order to avoid crashing it.\n",
      "To change this limit, set the config variable\n",
      "`--NotebookApp.iopub_msg_rate_limit`.\n",
      "\n",
      "Current values:\n",
      "NotebookApp.iopub_msg_rate_limit=1000.0 (msgs/sec)\n",
      "NotebookApp.rate_limit_window=3.0 (secs)\n",
      "\n"
     ]
    },
    {
     "name": "stdout",
     "output_type": "stream",
     "text": [
      "glg_tte_n7_bn120227725_v00.fit [==============================] 100.00%\n",
      "glg_tte_n4_bn180723133_v00.fit [==============================] 100.00%\n",
      "glg_tte_n5_bn110911071_v00.fit [==============================] 100.00%\n",
      "glg_tte_n5_bn180906597_v00.fit [==============================] 100.00%\n",
      "glg_tte_n7_bn100325246_v00.fit [==============================] 100.00%\n",
      "glg_tte_n3_bn200907957_v00.fit [==============================] 100.00%\n",
      "glg_tte_n6_bn180906597_v00.fit [=========                     ] 30.70%"
     ]
    },
    {
     "name": "stderr",
     "output_type": "stream",
     "text": [
      "IOPub message rate exceeded.\n",
      "The notebook server will temporarily stop sending output\n",
      "to the client in order to avoid crashing it.\n",
      "To change this limit, set the config variable\n",
      "`--NotebookApp.iopub_msg_rate_limit`.\n",
      "\n",
      "Current values:\n",
      "NotebookApp.iopub_msg_rate_limit=1000.0 (msgs/sec)\n",
      "NotebookApp.rate_limit_window=3.0 (secs)\n",
      "\n"
     ]
    },
    {
     "name": "stdout",
     "output_type": "stream",
     "text": [
      "glg_tte_n8_bn120227725_v00.fit [==============================] 100.00%\n",
      "glg_tte_n6_bn180906597_v00.fit [==============================] 100.00%\n",
      "glg_tte_n8_bn100325246_v00.fit [==============================] 100.00%\n",
      "glg_tte_n6_bn110911071_v00.fit [==============================] 100.00%\n",
      "glg_tte_n7_bn100507577_v00.fit [==============================] 100.00%\n",
      "glg_tte_n7_bn110911071_v00.fit [===============               ] 51.07%"
     ]
    },
    {
     "name": "stderr",
     "output_type": "stream",
     "text": [
      "IOPub message rate exceeded.\n",
      "The notebook server will temporarily stop sending output\n",
      "to the client in order to avoid crashing it.\n",
      "To change this limit, set the config variable\n",
      "`--NotebookApp.iopub_msg_rate_limit`.\n",
      "\n",
      "Current values:\n",
      "NotebookApp.iopub_msg_rate_limit=1000.0 (msgs/sec)\n",
      "NotebookApp.rate_limit_window=3.0 (secs)\n",
      "\n"
     ]
    },
    {
     "name": "stdout",
     "output_type": "stream",
     "text": [
      "glg_tte_n7_bn110911071_v00.fit [==============================] 100.00%\n",
      "glg_tte_n7_bn180906597_v00.fit [==============================] 100.00%\n",
      "glg_tte_n9_bn100325246_v00.fit [==============================] 100.00%\n",
      "glg_tte_n4_bn200907957_v00.fit [==============================] 100.00%\n",
      "glg_tte_n8_bn100507577_v00.fit [==============================] 100.00%\n",
      "glg_tte_na_bn120227725_v00.fit [==============================] 100.00%\n",
      "glg_tte_n8_bn110911071_v00.fit [==============================] 100.00%\n",
      "glg_tte_na_bn100325246_v00.fit [========================      ] 82.69%"
     ]
    },
    {
     "name": "stderr",
     "output_type": "stream",
     "text": [
      "IOPub message rate exceeded.\n",
      "The notebook server will temporarily stop sending output\n",
      "to the client in order to avoid crashing it.\n",
      "To change this limit, set the config variable\n",
      "`--NotebookApp.iopub_msg_rate_limit`.\n",
      "\n",
      "Current values:\n",
      "NotebookApp.iopub_msg_rate_limit=1000.0 (msgs/sec)\n",
      "NotebookApp.rate_limit_window=3.0 (secs)\n",
      "\n"
     ]
    },
    {
     "name": "stdout",
     "output_type": "stream",
     "text": [
      "glg_tte_n7_bn180723133_v00.fit [==============================] 100.00%\n",
      "glg_tte_n9_bn100507577_v00.fit [==============================] 100.00%\n",
      "glg_tte_nb_bn120227725_v00.fit [==============================] 100.00%\n",
      "glg_tte_n9_bn180906597_v00.fit [                              ] 2.70%%41 3567 bn200908886\n",
      "Connection appears to have failed.  Attempting to reconnect...\n",
      "glg_tte_n9_bn110911071_v00.fit [==============================] 100.00%\n",
      "glg_tte_nb_bn100325246_v00.fit [=========                     ] 33.21%Reconnected.\n",
      "glg_tte_n5_bn200907957_v00.fit [============================= ] 97.04%%\n",
      "glg_tte_n9_bn180906597_v00.fit [==============                ] 48.81%42 3567 bn171206122\n",
      "Connection appears to have failed.  Attempting to reconnect...\n",
      "glg_tte_n5_bn200907957_v00.fit [==============================] 100.00%\n",
      "glg_tte_na_bn100507577_v00.fit [==================            ] 60.67%"
     ]
    },
    {
     "name": "stderr",
     "output_type": "stream",
     "text": [
      "IOPub message rate exceeded.\n",
      "The notebook server will temporarily stop sending output\n",
      "to the client in order to avoid crashing it.\n",
      "To change this limit, set the config variable\n",
      "`--NotebookApp.iopub_msg_rate_limit`.\n",
      "\n",
      "Current values:\n",
      "NotebookApp.iopub_msg_rate_limit=1000.0 (msgs/sec)\n",
      "NotebookApp.rate_limit_window=3.0 (secs)\n",
      "\n"
     ]
    },
    {
     "name": "stdout",
     "output_type": "stream",
     "text": [
      "glg_tte_n8_bn180723133_v00.fit [==============================] 100.00%\n",
      "glg_tte_na_bn110911071_v00.fit [==============================] 100.00%\n",
      "glg_tte_nb_bn100507577_v00.fit [===============               ] 51.88%"
     ]
    },
    {
     "name": "stderr",
     "output_type": "stream",
     "text": [
      "IOPub message rate exceeded.\n",
      "The notebook server will temporarily stop sending output\n",
      "to the client in order to avoid crashing it.\n",
      "To change this limit, set the config variable\n",
      "`--NotebookApp.iopub_msg_rate_limit`.\n",
      "\n",
      "Current values:\n",
      "NotebookApp.iopub_msg_rate_limit=1000.0 (msgs/sec)\n",
      "NotebookApp.rate_limit_window=3.0 (secs)\n",
      "\n"
     ]
    },
    {
     "name": "stdout",
     "output_type": "stream",
     "text": [
      "glg_tte_n9_bn180723133_v00.fit [======================        ] 74.85%Reconnected.\n",
      "glg_tte_nb_bn110911071_v00.fit [==============================] 100.00%\n",
      "glg_tte_b0_bn171206122_v00.fit [==============================] 100.00%\n",
      "glg_tte_n9_bn180723133_v00.fit [==============================] 100.00%\n",
      "44 3567 bn130623488\n",
      "Connection appears to have failed.  Attempting to reconnect...\n",
      "glg_tte_na_bn180906597_v00.fit [==============================] 100.00%\n",
      "glg_tte_n7_bn200907957_v00.fit [=======                       ] 23.90%Reconnected.\n",
      "glg_tte_na_bn180723133_v00.fit [===                           ] 13.14%"
     ]
    },
    {
     "name": "stderr",
     "output_type": "stream",
     "text": [
      "IOPub message rate exceeded.\n",
      "The notebook server will temporarily stop sending output\n",
      "to the client in order to avoid crashing it.\n",
      "To change this limit, set the config variable\n",
      "`--NotebookApp.iopub_msg_rate_limit`.\n",
      "\n",
      "Current values:\n",
      "NotebookApp.iopub_msg_rate_limit=1000.0 (msgs/sec)\n",
      "NotebookApp.rate_limit_window=3.0 (secs)\n",
      "\n"
     ]
    },
    {
     "name": "stdout",
     "output_type": "stream",
     "text": [
      "glg_tte_b1_bn200908886_v00.fit [==============================] 100.00%\n",
      "glg_tte_nb_bn180906597_v00.fit [==============================] 100.00%\n",
      "glg_tte_b1_bn171206122_v00.fit [========================      ] 80.30%"
     ]
    },
    {
     "name": "stderr",
     "output_type": "stream",
     "text": [
      "IOPub message rate exceeded.\n",
      "The notebook server will temporarily stop sending output\n",
      "to the client in order to avoid crashing it.\n",
      "To change this limit, set the config variable\n",
      "`--NotebookApp.iopub_msg_rate_limit`.\n",
      "\n",
      "Current values:\n",
      "NotebookApp.iopub_msg_rate_limit=1000.0 (msgs/sec)\n",
      "NotebookApp.rate_limit_window=3.0 (secs)\n",
      "\n"
     ]
    },
    {
     "name": "stdout",
     "output_type": "stream",
     "text": [
      "glg_tte_b0_bn140518709_v00.fit [====================          ] 69.09%%\n",
      "glg_tte_n8_bn200907957_v00.fit [==============================] 100.00%\n",
      "glg_tte_n0_bn200908886_v00.fit [===========                   ] 38.94%"
     ]
    },
    {
     "name": "stderr",
     "output_type": "stream",
     "text": [
      "IOPub message rate exceeded.\n",
      "The notebook server will temporarily stop sending output\n",
      "to the client in order to avoid crashing it.\n",
      "To change this limit, set the config variable\n",
      "`--NotebookApp.iopub_msg_rate_limit`.\n",
      "\n",
      "Current values:\n",
      "NotebookApp.iopub_msg_rate_limit=1000.0 (msgs/sec)\n",
      "NotebookApp.rate_limit_window=3.0 (secs)\n",
      "\n"
     ]
    },
    {
     "name": "stdout",
     "output_type": "stream",
     "text": [
      "glg_tte_b0_bn130623488_v00.fit [==============================] 100.00%\n",
      "glg_tte_b0_bn141004150_v00.fit [========                      ] 29.97%"
     ]
    },
    {
     "name": "stderr",
     "output_type": "stream",
     "text": [
      "IOPub message rate exceeded.\n",
      "The notebook server will temporarily stop sending output\n",
      "to the client in order to avoid crashing it.\n",
      "To change this limit, set the config variable\n",
      "`--NotebookApp.iopub_msg_rate_limit`.\n",
      "\n",
      "Current values:\n",
      "NotebookApp.iopub_msg_rate_limit=1000.0 (msgs/sec)\n",
      "NotebookApp.rate_limit_window=3.0 (secs)\n",
      "\n"
     ]
    },
    {
     "name": "stdout",
     "output_type": "stream",
     "text": [
      "glg_tte_n9_bn200907957_v00.fit [==============================] 100.00%\n",
      "glg_tte_n1_bn200908886_v00.fit [                              ] 3.08%%"
     ]
    },
    {
     "name": "stderr",
     "output_type": "stream",
     "text": [
      "IOPub message rate exceeded.\n",
      "The notebook server will temporarily stop sending output\n",
      "to the client in order to avoid crashing it.\n",
      "To change this limit, set the config variable\n",
      "`--NotebookApp.iopub_msg_rate_limit`.\n",
      "\n",
      "Current values:\n",
      "NotebookApp.iopub_msg_rate_limit=1000.0 (msgs/sec)\n",
      "NotebookApp.rate_limit_window=3.0 (secs)\n",
      "\n"
     ]
    },
    {
     "name": "stdout",
     "output_type": "stream",
     "text": [
      "glg_tte_nb_bn180723133_v00.fit [==============================] 100.00%\n",
      "glg_tte_na_bn200907957_v00.fit [                              ] 1.29%%46 3567 bn101024486\n",
      "Connection appears to have failed.  Attempting to reconnect...\n",
      "glg_tte_b1_bn140518709_v00.fit [==============================] 100.00%\n",
      "glg_tte_n1_bn200908886_v00.fit [=================             ] 58.97%"
     ]
    },
    {
     "name": "stderr",
     "output_type": "stream",
     "text": [
      "IOPub message rate exceeded.\n",
      "The notebook server will temporarily stop sending output\n",
      "to the client in order to avoid crashing it.\n",
      "To change this limit, set the config variable\n",
      "`--NotebookApp.iopub_msg_rate_limit`.\n",
      "\n",
      "Current values:\n",
      "NotebookApp.iopub_msg_rate_limit=1000.0 (msgs/sec)\n",
      "NotebookApp.rate_limit_window=3.0 (secs)\n",
      "\n"
     ]
    },
    {
     "name": "stdout",
     "output_type": "stream",
     "text": [
      "glg_tte_na_bn200907957_v00.fit [==============================] 100.00%\n",
      "glg_tte_b1_bn141004150_v00.fit [======================        ] 75.26%"
     ]
    },
    {
     "name": "stderr",
     "output_type": "stream",
     "text": [
      "IOPub message rate exceeded.\n",
      "The notebook server will temporarily stop sending output\n",
      "to the client in order to avoid crashing it.\n",
      "To change this limit, set the config variable\n",
      "`--NotebookApp.iopub_msg_rate_limit`.\n",
      "\n",
      "Current values:\n",
      "NotebookApp.iopub_msg_rate_limit=1000.0 (msgs/sec)\n",
      "NotebookApp.rate_limit_window=3.0 (secs)\n",
      "\n"
     ]
    },
    {
     "name": "stdout",
     "output_type": "stream",
     "text": [
      "glg_tte_b1_bn130623488_v00.fit [==============================] 100.00%\n",
      "glg_tte_b1_bn141004150_v00.fit [==============================] 100.00%\n",
      "glg_tte_n0_bn140518709_v00.fit [==========================    ] 88.72%"
     ]
    },
    {
     "name": "stderr",
     "output_type": "stream",
     "text": [
      "IOPub message rate exceeded.\n",
      "The notebook server will temporarily stop sending output\n",
      "to the client in order to avoid crashing it.\n",
      "To change this limit, set the config variable\n",
      "`--NotebookApp.iopub_msg_rate_limit`.\n",
      "\n",
      "Current values:\n",
      "NotebookApp.iopub_msg_rate_limit=1000.0 (msgs/sec)\n",
      "NotebookApp.rate_limit_window=3.0 (secs)\n",
      "\n"
     ]
    },
    {
     "name": "stdout",
     "output_type": "stream",
     "text": [
      "glg_tte_nb_bn200907957_v00.fit [==============================] 100.00%\n",
      "glg_tte_n2_bn171206122_v00.fit [==============================] 100.00%\n",
      "glg_tte_n0_bn141004150_v00.fit [==                            ] 6.81% 3567 bn200119692\n",
      "Connection appears to have failed.  Attempting to reconnect...\n",
      "glg_tte_b0_bn101024486_v00.fit [===============               ] 52.85%Reconnected.\n",
      "glg_tte_n0_bn130623488_v00.fit [==============================] 100.00%\n",
      "glg_tte_n3_bn200908886_v00.fit [=========                     ] 31.46%"
     ]
    },
    {
     "name": "stderr",
     "output_type": "stream",
     "text": [
      "IOPub message rate exceeded.\n",
      "The notebook server will temporarily stop sending output\n",
      "to the client in order to avoid crashing it.\n",
      "To change this limit, set the config variable\n",
      "`--NotebookApp.iopub_msg_rate_limit`.\n",
      "\n",
      "Current values:\n",
      "NotebookApp.iopub_msg_rate_limit=1000.0 (msgs/sec)\n",
      "NotebookApp.rate_limit_window=3.0 (secs)\n",
      "\n"
     ]
    },
    {
     "name": "stdout",
     "output_type": "stream",
     "text": [
      "glg_tte_n1_bn140518709_v00.fit [==============================] 100.00%\n",
      "glg_tte_b0_bn101024486_v00.fit [==============================] 100.00%\n",
      "glg_tte_n3_bn171206122_v00.fit [=================             ] 56.87%"
     ]
    },
    {
     "name": "stderr",
     "output_type": "stream",
     "text": [
      "IOPub message rate exceeded.\n",
      "The notebook server will temporarily stop sending output\n",
      "to the client in order to avoid crashing it.\n",
      "To change this limit, set the config variable\n",
      "`--NotebookApp.iopub_msg_rate_limit`.\n",
      "\n",
      "Current values:\n",
      "NotebookApp.iopub_msg_rate_limit=1000.0 (msgs/sec)\n",
      "NotebookApp.rate_limit_window=3.0 (secs)\n",
      "\n"
     ]
    },
    {
     "name": "stdout",
     "output_type": "stream",
     "text": [
      "glg_tte_n3_bn171206122_v00.fit [==============================] 100.00%\n",
      "glg_tte_n1_bn130623488_v00.fit [==============================] 100.00%\n",
      "glg_tte_n2_bn140518709_v00.fit [==============================] 100.00%\n",
      "glg_tte_b0_bn200119692_v00.fit [========                      ] 28.85%"
     ]
    },
    {
     "name": "stderr",
     "output_type": "stream",
     "text": [
      "IOPub message rate exceeded.\n",
      "The notebook server will temporarily stop sending output\n",
      "to the client in order to avoid crashing it.\n",
      "To change this limit, set the config variable\n",
      "`--NotebookApp.iopub_msg_rate_limit`.\n",
      "\n",
      "Current values:\n",
      "NotebookApp.iopub_msg_rate_limit=1000.0 (msgs/sec)\n",
      "NotebookApp.rate_limit_window=3.0 (secs)\n",
      "\n"
     ]
    },
    {
     "name": "stdout",
     "output_type": "stream",
     "text": [
      "glg_tte_b1_bn101024486_v00.fit [====================          ] 67.26%"
     ]
    },
    {
     "name": "stderr",
     "output_type": "stream",
     "text": [
      "IOPub message rate exceeded.\n",
      "The notebook server will temporarily stop sending output\n",
      "to the client in order to avoid crashing it.\n",
      "To change this limit, set the config variable\n",
      "`--NotebookApp.iopub_msg_rate_limit`.\n",
      "\n",
      "Current values:\n",
      "NotebookApp.iopub_msg_rate_limit=1000.0 (msgs/sec)\n",
      "NotebookApp.rate_limit_window=3.0 (secs)\n",
      "\n"
     ]
    },
    {
     "name": "stdout",
     "output_type": "stream",
     "text": [
      "glg_tte_n4_bn171206122_v00.fit [==============================] 100.00%\n",
      "glg_tte_n2_bn141004150_v00.fit [==============================] 100.00%\n",
      "glg_tte_n0_bn101024486_v00.fit [==============================] 100.00%\n",
      "glg_tte_n2_bn130623488_v00.fit [==============================] 100.00%\n",
      "glg_tte_n3_bn141004150_v00.fit [==============================] 100.00%\n",
      "glg_tte_n3_bn140518709_v00.fit [==============================] 100.00%\n",
      "glg_tte_n1_bn101024486_v00.fit [==============================] 100.00%\n",
      "glg_tte_n5_bn171206122_v00.fit [==============================] 100.00%\n",
      "glg_tte_n4_bn141004150_v00.fit [==============================] 100.00%\n",
      "glg_tte_n5_bn200908886_v00.fit [=========================     ] 84.84%"
     ]
    },
    {
     "name": "stderr",
     "output_type": "stream",
     "text": [
      "IOPub message rate exceeded.\n",
      "The notebook server will temporarily stop sending output\n",
      "to the client in order to avoid crashing it.\n",
      "To change this limit, set the config variable\n",
      "`--NotebookApp.iopub_msg_rate_limit`.\n",
      "\n",
      "Current values:\n",
      "NotebookApp.iopub_msg_rate_limit=1000.0 (msgs/sec)\n",
      "NotebookApp.rate_limit_window=3.0 (secs)\n",
      "\n"
     ]
    },
    {
     "name": "stdout",
     "output_type": "stream",
     "text": [
      "glg_tte_n6_bn171206122_v00.fit [==============================] 100.00%\n",
      "glg_tte_n2_bn101024486_v00.fit [==============================] 100.00%\n",
      "glg_tte_n3_bn130623488_v00.fit [==============================] 100.00%\n",
      "glg_tte_n5_bn141004150_v00.fit [==============================] 100.00%\n",
      "glg_tte_b0_bn200119692_v00.fit [==============================] 100.00%\n",
      "glg_tte_n5_bn140518709_v00.fit [==============================] 100.00%\n",
      "glg_tte_n7_bn171206122_v00.fit [========                      ] 27.41%"
     ]
    },
    {
     "name": "stderr",
     "output_type": "stream",
     "text": [
      "IOPub message rate exceeded.\n",
      "The notebook server will temporarily stop sending output\n",
      "to the client in order to avoid crashing it.\n",
      "To change this limit, set the config variable\n",
      "`--NotebookApp.iopub_msg_rate_limit`.\n",
      "\n",
      "Current values:\n",
      "NotebookApp.iopub_msg_rate_limit=1000.0 (msgs/sec)\n",
      "NotebookApp.rate_limit_window=3.0 (secs)\n",
      "\n"
     ]
    },
    {
     "name": "stdout",
     "output_type": "stream",
     "text": [
      "glg_tte_n4_bn130623488_v00.fit [==============================] 100.00%\n",
      "glg_tte_n6_bn141004150_v00.fit [==============================] 100.00%\n",
      "glg_tte_n6_bn200908886_v00.fit [==============================] 100.00%\n",
      "glg_tte_n7_bn171206122_v00.fit [==============================] 100.00%\n",
      "glg_tte_n4_bn101024486_v00.fit [==========================    ] 88.24%"
     ]
    },
    {
     "name": "stderr",
     "output_type": "stream",
     "text": [
      "IOPub message rate exceeded.\n",
      "The notebook server will temporarily stop sending output\n",
      "to the client in order to avoid crashing it.\n",
      "To change this limit, set the config variable\n",
      "`--NotebookApp.iopub_msg_rate_limit`.\n",
      "\n",
      "Current values:\n",
      "NotebookApp.iopub_msg_rate_limit=1000.0 (msgs/sec)\n",
      "NotebookApp.rate_limit_window=3.0 (secs)\n",
      "\n"
     ]
    },
    {
     "name": "stdout",
     "output_type": "stream",
     "text": [
      "glg_tte_b1_bn200119692_v00.fit [===============               ] 52.95%"
     ]
    },
    {
     "name": "stderr",
     "output_type": "stream",
     "text": [
      "IOPub message rate exceeded.\n",
      "The notebook server will temporarily stop sending output\n",
      "to the client in order to avoid crashing it.\n",
      "To change this limit, set the config variable\n",
      "`--NotebookApp.iopub_msg_rate_limit`.\n",
      "\n",
      "Current values:\n",
      "NotebookApp.iopub_msg_rate_limit=1000.0 (msgs/sec)\n",
      "NotebookApp.rate_limit_window=3.0 (secs)\n",
      "\n"
     ]
    },
    {
     "name": "stdout",
     "output_type": "stream",
     "text": [
      "glg_tte_n6_bn140518709_v00.fit [==============================] 100.00%\n",
      "glg_tte_n7_bn141004150_v00.fit [==============================] 100.00%\n",
      "glg_tte_n7_bn200908886_v00.fit [==============================] 100.00%\n",
      "glg_tte_n7_bn140518709_v00.fit [=========                     ] 30.05%"
     ]
    },
    {
     "name": "stderr",
     "output_type": "stream",
     "text": [
      "IOPub message rate exceeded.\n",
      "The notebook server will temporarily stop sending output\n",
      "to the client in order to avoid crashing it.\n",
      "To change this limit, set the config variable\n",
      "`--NotebookApp.iopub_msg_rate_limit`.\n",
      "\n",
      "Current values:\n",
      "NotebookApp.iopub_msg_rate_limit=1000.0 (msgs/sec)\n",
      "NotebookApp.rate_limit_window=3.0 (secs)\n",
      "\n"
     ]
    },
    {
     "name": "stdout",
     "output_type": "stream",
     "text": [
      "glg_tte_n5_bn101024486_v00.fit [==============================] 100.00%\n",
      "glg_tte_n8_bn200908886_v00.fit [==============================] 100.00%\n",
      "glg_tte_n7_bn140518709_v00.fit [==============================] 100.00%\n",
      "glg_tte_n9_bn171206122_v00.fit [=======================       ] 79.51%"
     ]
    },
    {
     "name": "stderr",
     "output_type": "stream",
     "text": [
      "IOPub message rate exceeded.\n",
      "The notebook server will temporarily stop sending output\n",
      "to the client in order to avoid crashing it.\n",
      "To change this limit, set the config variable\n",
      "`--NotebookApp.iopub_msg_rate_limit`.\n",
      "\n",
      "Current values:\n",
      "NotebookApp.iopub_msg_rate_limit=1000.0 (msgs/sec)\n",
      "NotebookApp.rate_limit_window=3.0 (secs)\n",
      "\n"
     ]
    },
    {
     "name": "stdout",
     "output_type": "stream",
     "text": [
      "glg_tte_n9_bn171206122_v00.fit [==============================] 100.00%\n",
      "glg_tte_n0_bn200119692_v00.fit [==============================] 100.00%\n",
      "glg_tte_n9_bn200908886_v00.fit [==============================] 100.00%\n",
      "glg_tte_n8_bn141004150_v00.fit [==============================] 100.00%\n",
      "glg_tte_n8_bn140518709_v00.fit [==============================] 100.00%\n",
      "glg_tte_n9_bn141004150_v00.fit [===                           ] 10.65%"
     ]
    },
    {
     "name": "stderr",
     "output_type": "stream",
     "text": [
      "IOPub message rate exceeded.\n",
      "The notebook server will temporarily stop sending output\n",
      "to the client in order to avoid crashing it.\n",
      "To change this limit, set the config variable\n",
      "`--NotebookApp.iopub_msg_rate_limit`.\n",
      "\n",
      "Current values:\n",
      "NotebookApp.iopub_msg_rate_limit=1000.0 (msgs/sec)\n",
      "NotebookApp.rate_limit_window=3.0 (secs)\n",
      "\n"
     ]
    },
    {
     "name": "stdout",
     "output_type": "stream",
     "text": [
      "glg_tte_na_bn200908886_v00.fit [==============================] 100.00%\n",
      "glg_tte_n1_bn200119692_v00.fit [===========================   ] 92.84%"
     ]
    },
    {
     "name": "stderr",
     "output_type": "stream",
     "text": [
      "IOPub message rate exceeded.\n",
      "The notebook server will temporarily stop sending output\n",
      "to the client in order to avoid crashing it.\n",
      "To change this limit, set the config variable\n",
      "`--NotebookApp.iopub_msg_rate_limit`.\n",
      "\n",
      "Current values:\n",
      "NotebookApp.iopub_msg_rate_limit=1000.0 (msgs/sec)\n",
      "NotebookApp.rate_limit_window=3.0 (secs)\n",
      "\n"
     ]
    },
    {
     "name": "stdout",
     "output_type": "stream",
     "text": [
      "glg_tte_n9_bn141004150_v00.fit [==============================] 100.00%\n",
      "glg_tte_nb_bn200908886_v00.fit [==============================] 100.00%\n",
      "glg_tte_n8_bn101024486_v00.fit [===========================   ] 93.08%48 3567 bn210919653\n",
      "Connection appears to have failed.  Attempting to reconnect...\n",
      "glg_tte_n8_bn101024486_v00.fit [==============================] 100.00%\n",
      "glg_tte_nb_bn171206122_v00.fit [====================          ] 68.98%"
     ]
    },
    {
     "name": "stderr",
     "output_type": "stream",
     "text": [
      "IOPub message rate exceeded.\n",
      "The notebook server will temporarily stop sending output\n",
      "to the client in order to avoid crashing it.\n",
      "To change this limit, set the config variable\n",
      "`--NotebookApp.iopub_msg_rate_limit`.\n",
      "\n",
      "Current values:\n",
      "NotebookApp.iopub_msg_rate_limit=1000.0 (msgs/sec)\n",
      "NotebookApp.rate_limit_window=3.0 (secs)\n",
      "\n"
     ]
    },
    {
     "name": "stdout",
     "output_type": "stream",
     "text": [
      "glg_tte_na_bn141004150_v00.fit [==============================] 100.00%\n",
      "glg_tte_nb_bn141004150_v00.fit [===========                   ] 39.25%"
     ]
    },
    {
     "name": "stderr",
     "output_type": "stream",
     "text": [
      "IOPub message rate exceeded.\n",
      "The notebook server will temporarily stop sending output\n",
      "to the client in order to avoid crashing it.\n",
      "To change this limit, set the config variable\n",
      "`--NotebookApp.iopub_msg_rate_limit`.\n",
      "\n",
      "Current values:\n",
      "NotebookApp.iopub_msg_rate_limit=1000.0 (msgs/sec)\n",
      "NotebookApp.rate_limit_window=3.0 (secs)\n",
      "\n"
     ]
    },
    {
     "name": "stdout",
     "output_type": "stream",
     "text": [
      "glg_tte_n3_bn200119692_v00.fit [==============================] 100.00%\n",
      "glg_tte_nb_bn141004150_v00.fit [==============================] 100.00%\n",
      "glg_tte_b0_bn210919653_v00.fit [===========                   ] 39.04%50 3567 bn190628521\n",
      "Connection appears to have failed.  Attempting to reconnect...\n",
      "glg_tte_b0_bn210919653_v00.fit [=============                 ] 45.41%Reconnected.\n",
      "glg_tte_na_bn140518709_v00.fit [==============================] 100.00%\n",
      "glg_tte_na_bn101024486_v00.fit [==============================] 100.00%\n",
      "glg_tte_b0_bn210919653_v00.fit [========================      ] 81.11%"
     ]
    },
    {
     "name": "stderr",
     "output_type": "stream",
     "text": [
      "IOPub message rate exceeded.\n",
      "The notebook server will temporarily stop sending output\n",
      "to the client in order to avoid crashing it.\n",
      "To change this limit, set the config variable\n",
      "`--NotebookApp.iopub_msg_rate_limit`.\n",
      "\n",
      "Current values:\n",
      "NotebookApp.iopub_msg_rate_limit=1000.0 (msgs/sec)\n",
      "NotebookApp.rate_limit_window=3.0 (secs)\n",
      "\n"
     ]
    },
    {
     "name": "stdout",
     "output_type": "stream",
     "text": [
      "glg_tte_nb_bn140518709_v00.fit [========                      ] 29.97%Reconnected.\n",
      "glg_tte_b0_bn210919653_v00.fit [==============================] 100.00%\n",
      "glg_tte_b0_bn210826293_v00.fit [===========================   ] 93.11%"
     ]
    },
    {
     "name": "stderr",
     "output_type": "stream",
     "text": [
      "IOPub message rate exceeded.\n",
      "The notebook server will temporarily stop sending output\n",
      "to the client in order to avoid crashing it.\n",
      "To change this limit, set the config variable\n",
      "`--NotebookApp.iopub_msg_rate_limit`.\n",
      "\n",
      "Current values:\n",
      "NotebookApp.iopub_msg_rate_limit=1000.0 (msgs/sec)\n",
      "NotebookApp.rate_limit_window=3.0 (secs)\n",
      "\n"
     ]
    },
    {
     "name": "stdout",
     "output_type": "stream",
     "text": [
      "glg_tte_b0_bn200629535_v00.fit [                              ] 1.98%Reconnected.\n",
      "glg_tte_b0_bn200629535_v00.fit [=                             ] 5.03%Reconnected.\n",
      "glg_tte_n5_bn200119692_v00.fit [=======================       ] 79.10%"
     ]
    },
    {
     "name": "stderr",
     "output_type": "stream",
     "text": [
      "IOPub message rate exceeded.\n",
      "The notebook server will temporarily stop sending output\n",
      "to the client in order to avoid crashing it.\n",
      "To change this limit, set the config variable\n",
      "`--NotebookApp.iopub_msg_rate_limit`.\n",
      "\n",
      "Current values:\n",
      "NotebookApp.iopub_msg_rate_limit=1000.0 (msgs/sec)\n",
      "NotebookApp.rate_limit_window=3.0 (secs)\n",
      "\n"
     ]
    },
    {
     "name": "stdout",
     "output_type": "stream",
     "text": [
      "glg_tte_b1_bn190628521_v00.fit [==============================] 100.00%\n",
      "glg_tte_b0_bn220315101_v00.fit [==============================] 100.00%\n",
      "glg_tte_b1_bn210919653_v00.fit [==============================] 100.00%\n",
      "glg_tte_n0_bn190628521_v00.fit [==                            ] 6.93%%"
     ]
    },
    {
     "name": "stderr",
     "output_type": "stream",
     "text": [
      "IOPub message rate exceeded.\n",
      "The notebook server will temporarily stop sending output\n",
      "to the client in order to avoid crashing it.\n",
      "To change this limit, set the config variable\n",
      "`--NotebookApp.iopub_msg_rate_limit`.\n",
      "\n",
      "Current values:\n",
      "NotebookApp.iopub_msg_rate_limit=1000.0 (msgs/sec)\n",
      "NotebookApp.rate_limit_window=3.0 (secs)\n",
      "\n"
     ]
    },
    {
     "name": "stdout",
     "output_type": "stream",
     "text": [
      "glg_tte_n0_bn190628521_v00.fit [==============================] 100.00%\n",
      "glg_tte_b1_bn200629535_v00.fit [==============================] 100.00%\n",
      "glg_tte_b1_bn220315101_v00.fit [===================           ] 65.95%"
     ]
    },
    {
     "name": "stderr",
     "output_type": "stream",
     "text": [
      "IOPub message rate exceeded.\n",
      "The notebook server will temporarily stop sending output\n",
      "to the client in order to avoid crashing it.\n",
      "To change this limit, set the config variable\n",
      "`--NotebookApp.iopub_msg_rate_limit`.\n",
      "\n",
      "Current values:\n",
      "NotebookApp.iopub_msg_rate_limit=1000.0 (msgs/sec)\n",
      "NotebookApp.rate_limit_window=3.0 (secs)\n",
      "\n"
     ]
    },
    {
     "name": "stdout",
     "output_type": "stream",
     "text": [
      "glg_tte_b0_bn110716018_v00.fit [==============================] 100.00%\n",
      "glg_tte_n0_bn200629535_v00.fit [==============================] 100.00%\n",
      "glg_tte_n1_bn190628521_v00.fit [==============================] 100.00%\n",
      "glg_tte_n1_bn210826293_v00.fit [=================             ] 57.82%"
     ]
    },
    {
     "name": "stderr",
     "output_type": "stream",
     "text": [
      "IOPub message rate exceeded.\n",
      "The notebook server will temporarily stop sending output\n",
      "to the client in order to avoid crashing it.\n",
      "To change this limit, set the config variable\n",
      "`--NotebookApp.iopub_msg_rate_limit`.\n",
      "\n",
      "Current values:\n",
      "NotebookApp.iopub_msg_rate_limit=1000.0 (msgs/sec)\n",
      "NotebookApp.rate_limit_window=3.0 (secs)\n",
      "\n"
     ]
    },
    {
     "name": "stdout",
     "output_type": "stream",
     "text": [
      "glg_tte_b1_bn110716018_v00.fit [==============================] 100.00%\n",
      "glg_tte_n1_bn200629535_v00.fit [==============================] 100.00%\n",
      "glg_tte_n2_bn190628521_v00.fit [==============================] 100.00%\n",
      "glg_tte_n0_bn110716018_v00.fit [==============                ] 47.84%"
     ]
    },
    {
     "name": "stderr",
     "output_type": "stream",
     "text": [
      "IOPub message rate exceeded.\n",
      "The notebook server will temporarily stop sending output\n",
      "to the client in order to avoid crashing it.\n",
      "To change this limit, set the config variable\n",
      "`--NotebookApp.iopub_msg_rate_limit`.\n",
      "\n",
      "Current values:\n",
      "NotebookApp.iopub_msg_rate_limit=1000.0 (msgs/sec)\n",
      "NotebookApp.rate_limit_window=3.0 (secs)\n",
      "\n"
     ]
    },
    {
     "name": "stdout",
     "output_type": "stream",
     "text": [
      "glg_tte_n0_bn110716018_v00.fit [==============================] 100.00%\n",
      "glg_tte_n2_bn200629535_v00.fit [==============================] 100.00%\n",
      "glg_tte_n3_bn190628521_v00.fit [==============================] 100.00%\n",
      "glg_tte_n1_bn220315101_v00.fit [==============================] 100.00%\n",
      "glg_tte_n2_bn210919653_v00.fit [==============================] 100.00%\n",
      "glg_tte_n3_bn200629535_v00.fit [==                            ] 8.00%%"
     ]
    },
    {
     "name": "stderr",
     "output_type": "stream",
     "text": [
      "IOPub message rate exceeded.\n",
      "The notebook server will temporarily stop sending output\n",
      "to the client in order to avoid crashing it.\n",
      "To change this limit, set the config variable\n",
      "`--NotebookApp.iopub_msg_rate_limit`.\n",
      "\n",
      "Current values:\n",
      "NotebookApp.iopub_msg_rate_limit=1000.0 (msgs/sec)\n",
      "NotebookApp.rate_limit_window=3.0 (secs)\n",
      "\n"
     ]
    },
    {
     "name": "stdout",
     "output_type": "stream",
     "text": [
      "glg_tte_n3_bn200629535_v00.fit [==============================] 100.00%\n",
      "glg_tte_n2_bn210826293_v00.fit [==============================] 100.00%\n",
      "glg_tte_n2_bn110716018_v00.fit [=====================         ] 70.72%"
     ]
    },
    {
     "name": "stderr",
     "output_type": "stream",
     "text": [
      "IOPub message rate exceeded.\n",
      "The notebook server will temporarily stop sending output\n",
      "to the client in order to avoid crashing it.\n",
      "To change this limit, set the config variable\n",
      "`--NotebookApp.iopub_msg_rate_limit`.\n",
      "\n",
      "Current values:\n",
      "NotebookApp.iopub_msg_rate_limit=1000.0 (msgs/sec)\n",
      "NotebookApp.rate_limit_window=3.0 (secs)\n",
      "\n"
     ]
    },
    {
     "name": "stdout",
     "output_type": "stream",
     "text": [
      "glg_tte_n4_bn200629535_v00.fit [===================           ] 65.91%Reconnected.\n",
      "glg_tte_n4_bn200629535_v00.fit [==============================] 100.00%\n",
      "glg_tte_n3_bn210826293_v00.fit [==============================] 100.00%\n",
      "glg_tte_n3_bn220315101_v00.fit [==============                ] 49.80%"
     ]
    },
    {
     "name": "stderr",
     "output_type": "stream",
     "text": [
      "IOPub message rate exceeded.\n",
      "The notebook server will temporarily stop sending output\n",
      "to the client in order to avoid crashing it.\n",
      "To change this limit, set the config variable\n",
      "`--NotebookApp.iopub_msg_rate_limit`.\n",
      "\n",
      "Current values:\n",
      "NotebookApp.iopub_msg_rate_limit=1000.0 (msgs/sec)\n",
      "NotebookApp.rate_limit_window=3.0 (secs)\n",
      "\n"
     ]
    },
    {
     "name": "stdout",
     "output_type": "stream",
     "text": [
      "glg_tte_n3_bn220315101_v00.fit [==============================] 100.00%\n",
      "glg_tte_b0_bn110819665_v00.fit [==============================] 100.00%\n",
      "glg_tte_n5_bn200629535_v00.fit [==============================] 100.00%\n",
      "glg_tte_n4_bn110716018_v00.fit [==============================] 100.00%\n",
      "glg_tte_n4_bn220315101_v00.fit [======                        ] 23.22%"
     ]
    },
    {
     "name": "stderr",
     "output_type": "stream",
     "text": [
      "IOPub message rate exceeded.\n",
      "The notebook server will temporarily stop sending output\n",
      "to the client in order to avoid crashing it.\n",
      "To change this limit, set the config variable\n",
      "`--NotebookApp.iopub_msg_rate_limit`.\n",
      "\n",
      "Current values:\n",
      "NotebookApp.iopub_msg_rate_limit=1000.0 (msgs/sec)\n",
      "NotebookApp.rate_limit_window=3.0 (secs)\n",
      "\n"
     ]
    },
    {
     "name": "stdout",
     "output_type": "stream",
     "text": [
      "glg_tte_n4_bn220315101_v00.fit [==============================] 100.00%\n",
      "glg_tte_n5_bn110716018_v00.fit [==============================] 100.00%\n",
      "glg_tte_n6_bn200629535_v00.fit [==============================] 100.00%\n",
      "glg_tte_b1_bn110819665_v00.fit [==============================] 100.00%\n",
      "glg_tte_n6_bn190628521_v00.fit [==============================] 100.00%\n",
      "glg_tte_n5_bn210826293_v00.fit [==============================] 100.00%\n",
      "glg_tte_n6_bn210919653_v00.fit [=================             ] 57.89%"
     ]
    },
    {
     "name": "stderr",
     "output_type": "stream",
     "text": [
      "IOPub message rate exceeded.\n",
      "The notebook server will temporarily stop sending output\n",
      "to the client in order to avoid crashing it.\n",
      "To change this limit, set the config variable\n",
      "`--NotebookApp.iopub_msg_rate_limit`.\n",
      "\n",
      "Current values:\n",
      "NotebookApp.iopub_msg_rate_limit=1000.0 (msgs/sec)\n",
      "NotebookApp.rate_limit_window=3.0 (secs)\n",
      "\n"
     ]
    },
    {
     "name": "stdout",
     "output_type": "stream",
     "text": [
      "glg_tte_n6_bn110716018_v00.fit [==============================] 100.00%\n",
      "glg_tte_n0_bn110819665_v00.fit [==============================] 100.00%\n",
      "glg_tte_n5_bn220315101_v00.fit [==============================] 100.00%\n",
      "glg_tte_n7_bn200629535_v00.fit [=====================         ] 71.27%"
     ]
    },
    {
     "name": "stderr",
     "output_type": "stream",
     "text": [
      "IOPub message rate exceeded.\n",
      "The notebook server will temporarily stop sending output\n",
      "to the client in order to avoid crashing it.\n",
      "To change this limit, set the config variable\n",
      "`--NotebookApp.iopub_msg_rate_limit`.\n",
      "\n",
      "Current values:\n",
      "NotebookApp.iopub_msg_rate_limit=1000.0 (msgs/sec)\n",
      "NotebookApp.rate_limit_window=3.0 (secs)\n",
      "\n"
     ]
    },
    {
     "name": "stdout",
     "output_type": "stream",
     "text": [
      "glg_tte_n7_bn110716018_v00.fit [==============================] 100.00%\n",
      "glg_tte_n1_bn110819665_v00.fit [==============================] 100.00%\n",
      "glg_tte_n8_bn190628521_v00.fit [=============                 ] 43.95%%\n",
      "glg_tte_n8_bn190628521_v00.fit [==============================] 100.00%\n",
      "glg_tte_n8_bn210919653_v00.fit [============                  ] 42.54%"
     ]
    },
    {
     "name": "stderr",
     "output_type": "stream",
     "text": [
      "IOPub message rate exceeded.\n",
      "The notebook server will temporarily stop sending output\n",
      "to the client in order to avoid crashing it.\n",
      "To change this limit, set the config variable\n",
      "`--NotebookApp.iopub_msg_rate_limit`.\n",
      "\n",
      "Current values:\n",
      "NotebookApp.iopub_msg_rate_limit=1000.0 (msgs/sec)\n",
      "NotebookApp.rate_limit_window=3.0 (secs)\n",
      "\n"
     ]
    },
    {
     "name": "stdout",
     "output_type": "stream",
     "text": [
      "glg_tte_n8_bn210919653_v00.fit [==============================] 100.00%\n",
      "glg_tte_n7_bn220315101_v00.fit [==============================] 100.00%\n",
      "glg_tte_n3_bn110819665_v00.fit [==============================] 100.00%\n",
      "glg_tte_n9_bn110716018_v00.fit [==============================] 100.00%\n",
      "glg_tte_n8_bn200629535_v00.fit [==============================] 100.00%\n",
      "glg_tte_n9_bn190628521_v00.fit [============================= ] 97.72%"
     ]
    },
    {
     "name": "stderr",
     "output_type": "stream",
     "text": [
      "IOPub message rate exceeded.\n",
      "The notebook server will temporarily stop sending output\n",
      "to the client in order to avoid crashing it.\n",
      "To change this limit, set the config variable\n",
      "`--NotebookApp.iopub_msg_rate_limit`.\n",
      "\n",
      "Current values:\n",
      "NotebookApp.iopub_msg_rate_limit=1000.0 (msgs/sec)\n",
      "NotebookApp.rate_limit_window=3.0 (secs)\n",
      "\n"
     ]
    },
    {
     "name": "stdout",
     "output_type": "stream",
     "text": [
      "glg_tte_n8_bn220315101_v00.fit [==============================] 100.00%\n",
      "glg_tte_n4_bn110819665_v00.fit [==============================] 100.00%\n",
      "glg_tte_n8_bn210826293_v00.fit [==============================] 100.00%\n",
      "glg_tte_na_bn110716018_v00.fit [==============================] 100.00%\n",
      "glg_tte_n9_bn220315101_v00.fit [=                             ] 4.25%%"
     ]
    },
    {
     "name": "stderr",
     "output_type": "stream",
     "text": [
      "IOPub message rate exceeded.\n",
      "The notebook server will temporarily stop sending output\n",
      "to the client in order to avoid crashing it.\n",
      "To change this limit, set the config variable\n",
      "`--NotebookApp.iopub_msg_rate_limit`.\n",
      "\n",
      "Current values:\n",
      "NotebookApp.iopub_msg_rate_limit=1000.0 (msgs/sec)\n",
      "NotebookApp.rate_limit_window=3.0 (secs)\n",
      "\n"
     ]
    },
    {
     "name": "stdout",
     "output_type": "stream",
     "text": [
      "glg_tte_nb_bn110716018_v00.fit [==============================] 100.00%\n",
      "glg_tte_n5_bn110819665_v00.fit [==============================] 100.00%\n",
      "glg_tte_nb_bn190628521_v00.fit [=                             ] 4.06% 3567 bn190731943\n",
      "Connection appears to have failed.  Attempting to reconnect...\n",
      "glg_tte_n9_bn220315101_v00.fit [==============================] 100.00%\n",
      "glg_tte_n9_bn210826293_v00.fit [==============================] 100.00%\n",
      "glg_tte_nb_bn190628521_v00.fit [=======                       ] 23.76%Reconnected.\n",
      "glg_tte_na_bn200629535_v00.fit [==============================] 100.00%\n",
      "glg_tte_nb_bn190628521_v00.fit [======================        ] 74.95%"
     ]
    },
    {
     "name": "stderr",
     "output_type": "stream",
     "text": [
      "IOPub message rate exceeded.\n",
      "The notebook server will temporarily stop sending output\n",
      "to the client in order to avoid crashing it.\n",
      "To change this limit, set the config variable\n",
      "`--NotebookApp.iopub_msg_rate_limit`.\n",
      "\n",
      "Current values:\n",
      "NotebookApp.iopub_msg_rate_limit=1000.0 (msgs/sec)\n",
      "NotebookApp.rate_limit_window=3.0 (secs)\n",
      "\n"
     ]
    },
    {
     "name": "stdout",
     "output_type": "stream",
     "text": [
      "glg_tte_na_bn210826293_v00.fit [================              ] 54.52%Reconnected.\n",
      "glg_tte_na_bn210826293_v00.fit [==============================] 100.00%\n",
      "glg_tte_n6_bn110819665_v00.fit [==============================] 100.00%\n",
      "glg_tte_nb_bn200629535_v00.fit [==============================] 100.00%\n",
      "glg_tte_na_bn210919653_v00.fit [=====                         ] 17.43% 3567 bn090810659\n",
      "Connection appears to have failed.  Attempting to reconnect...\n",
      "glg_tte_na_bn220315101_v00.fit [==============================] 100.00%\n",
      "glg_tte_b0_bn190731943_v00.fit [======================        ] 74.00%Reconnected.\n",
      "glg_tte_b0_bn190731943_v00.fit [==========================    ] 86.87%"
     ]
    },
    {
     "name": "stderr",
     "output_type": "stream",
     "text": [
      "IOPub message rate exceeded.\n",
      "The notebook server will temporarily stop sending output\n",
      "to the client in order to avoid crashing it.\n",
      "To change this limit, set the config variable\n",
      "`--NotebookApp.iopub_msg_rate_limit`.\n",
      "\n",
      "Current values:\n",
      "NotebookApp.iopub_msg_rate_limit=1000.0 (msgs/sec)\n",
      "NotebookApp.rate_limit_window=3.0 (secs)\n",
      "\n"
     ]
    },
    {
     "name": "stdout",
     "output_type": "stream",
     "text": [
      "glg_tte_n7_bn110819665_v00.fit [==============================] 100.00%\n",
      "glg_tte_nb_bn210826293_v00.fit [==============================] 100.00%\n",
      "glg_tte_b0_bn181022846_v00.fit [==============                ] 47.69%58 3567 bn180622273\n",
      "Connection appears to have failed.  Attempting to reconnect...\n",
      "glg_tte_b0_bn181022846_v00.fit [=======================       ] 78.89%Reconnected.\n",
      "glg_tte_b0_bn181022846_v00.fit [==============================] 100.00%\n",
      "glg_tte_nb_bn220315101_v00.fit [==============================] 100.00%\n",
      "glg_tte_b0_bn090810659_v00.fit [=============                 ] 46.23%59 3567 bn160406570\n",
      "Connection appears to have failed.  Attempting to reconnect...\n",
      "glg_tte_n8_bn110819665_v00.fit [==============                ] 47.10%Reconnected.\n",
      "glg_tte_b0_bn090810659_v00.fit [==============================] 100.00%\n",
      "glg_tte_n8_bn110819665_v00.fit [==============================] 100.00%\n",
      "glg_tte_b0_bn180622273_v00.fit [=============                 ] 45.44%"
     ]
    },
    {
     "name": "stderr",
     "output_type": "stream",
     "text": [
      "IOPub message rate exceeded.\n",
      "The notebook server will temporarily stop sending output\n",
      "to the client in order to avoid crashing it.\n",
      "To change this limit, set the config variable\n",
      "`--NotebookApp.iopub_msg_rate_limit`.\n",
      "\n",
      "Current values:\n",
      "NotebookApp.iopub_msg_rate_limit=1000.0 (msgs/sec)\n",
      "NotebookApp.rate_limit_window=3.0 (secs)\n",
      "\n"
     ]
    },
    {
     "name": "stdout",
     "output_type": "stream",
     "text": [
      "glg_tte_na_bn210919653_v00.fit [==============================] 100.00%\n",
      "glg_tte_n9_bn110819665_v00.fit [==============================] 100.00%\n",
      "glg_tte_b1_bn181022846_v00.fit [==============================] 100.00%\n",
      "glg_tte_b0_bn160406570_v00.fit [==============================] 100.00%\n",
      "glg_tte_n0_bn090810659_v00.fit [==============================] 100.00%\n",
      "glg_tte_b0_bn180622273_v00.fit [==============================] 100.00%\n",
      "glg_tte_nb_bn210919653_v00.fit [============                  ] 41.36%"
     ]
    },
    {
     "name": "stderr",
     "output_type": "stream",
     "text": [
      "IOPub message rate exceeded.\n",
      "The notebook server will temporarily stop sending output\n",
      "to the client in order to avoid crashing it.\n",
      "To change this limit, set the config variable\n",
      "`--NotebookApp.iopub_msg_rate_limit`.\n",
      "\n",
      "Current values:\n",
      "NotebookApp.iopub_msg_rate_limit=1000.0 (msgs/sec)\n",
      "NotebookApp.rate_limit_window=3.0 (secs)\n",
      "\n"
     ]
    },
    {
     "name": "stdout",
     "output_type": "stream",
     "text": [
      "glg_tte_nb_bn210919653_v00.fit [==============================] 100.00%\n",
      "glg_tte_b1_bn180622273_v00.fit [==                            ] 9.18%%"
     ]
    },
    {
     "name": "stderr",
     "output_type": "stream",
     "text": [
      "IOPub message rate exceeded.\n",
      "The notebook server will temporarily stop sending output\n",
      "to the client in order to avoid crashing it.\n",
      "To change this limit, set the config variable\n",
      "`--NotebookApp.iopub_msg_rate_limit`.\n",
      "\n",
      "Current values:\n",
      "NotebookApp.iopub_msg_rate_limit=1000.0 (msgs/sec)\n",
      "NotebookApp.rate_limit_window=3.0 (secs)\n",
      "\n"
     ]
    },
    {
     "name": "stdout",
     "output_type": "stream",
     "text": [
      "glg_tte_n1_bn090810659_v00.fit [==============================] 100.00%\n",
      "glg_tte_b1_bn160406570_v00.fit [=====================         ] 71.38%Reconnected.\n",
      "glg_tte_nb_bn110819665_v00.fit [==============================] 100.00%\n",
      "glg_tte_b1_bn180622273_v00.fit [=========                     ] 31.37%61 3567 bn161020759\n",
      "Connection appears to have failed.  Attempting to reconnect...\n",
      "glg_tte_b1_bn160406570_v00.fit [==============================] 100.00%\n",
      "glg_tte_b1_bn190731943_v00.fit [==============================] 100.00%\n",
      "glg_tte_b1_bn180622273_v00.fit [============                  ] 42.59%Reconnected.\n",
      "glg_tte_n2_bn090810659_v00.fit [==============================] 100.00%\n",
      "glg_tte_b0_bn161020759_v00.fit [                              ] 0.86%%"
     ]
    },
    {
     "name": "stderr",
     "output_type": "stream",
     "text": [
      "IOPub message rate exceeded.\n",
      "The notebook server will temporarily stop sending output\n",
      "to the client in order to avoid crashing it.\n",
      "To change this limit, set the config variable\n",
      "`--NotebookApp.iopub_msg_rate_limit`.\n",
      "\n",
      "Current values:\n",
      "NotebookApp.iopub_msg_rate_limit=1000.0 (msgs/sec)\n",
      "NotebookApp.rate_limit_window=3.0 (secs)\n",
      "\n"
     ]
    },
    {
     "name": "stdout",
     "output_type": "stream",
     "text": [
      "glg_tte_n1_bn181022846_v00.fit [==============================] 100.00%\n",
      "glg_tte_b1_bn180622273_v00.fit [==============================] 100.00%\n",
      "glg_tte_b1_bn130804023_v00.fit [==============================] 100.00%\n",
      "glg_tte_n3_bn090810659_v00.fit [==============================] 100.00%\n",
      "glg_tte_n2_bn181022846_v00.fit [=================             ] 56.98%"
     ]
    },
    {
     "name": "stderr",
     "output_type": "stream",
     "text": [
      "IOPub message rate exceeded.\n",
      "The notebook server will temporarily stop sending output\n",
      "to the client in order to avoid crashing it.\n",
      "To change this limit, set the config variable\n",
      "`--NotebookApp.iopub_msg_rate_limit`.\n",
      "\n",
      "Current values:\n",
      "NotebookApp.iopub_msg_rate_limit=1000.0 (msgs/sec)\n",
      "NotebookApp.rate_limit_window=3.0 (secs)\n",
      "\n"
     ]
    },
    {
     "name": "stdout",
     "output_type": "stream",
     "text": [
      "glg_tte_n1_bn130804023_v00.fit [==============================] 100.00%\n",
      "glg_tte_n4_bn090810659_v00.fit [==============================] 100.00%\n",
      "glg_tte_n2_bn130804023_v00.fit [==============================] 100.00%\n",
      "glg_tte_n3_bn181022846_v00.fit [================              ] 54.60%"
     ]
    },
    {
     "name": "stderr",
     "output_type": "stream",
     "text": [
      "IOPub message rate exceeded.\n",
      "The notebook server will temporarily stop sending output\n",
      "to the client in order to avoid crashing it.\n",
      "To change this limit, set the config variable\n",
      "`--NotebookApp.iopub_msg_rate_limit`.\n",
      "\n",
      "Current values:\n",
      "NotebookApp.iopub_msg_rate_limit=1000.0 (msgs/sec)\n",
      "NotebookApp.rate_limit_window=3.0 (secs)\n",
      "\n"
     ]
    },
    {
     "name": "stdout",
     "output_type": "stream",
     "text": [
      "glg_tte_n3_bn181022846_v00.fit [==============================] 100.00%\n",
      "glg_tte_n4_bn130804023_v00.fit [==============================] 100.00%\n",
      "glg_tte_b1_bn161020759_v00.fit [=========================     ] 84.42%"
     ]
    },
    {
     "name": "stderr",
     "output_type": "stream",
     "text": [
      "IOPub message rate exceeded.\n",
      "The notebook server will temporarily stop sending output\n",
      "to the client in order to avoid crashing it.\n",
      "To change this limit, set the config variable\n",
      "`--NotebookApp.iopub_msg_rate_limit`.\n",
      "\n",
      "Current values:\n",
      "NotebookApp.iopub_msg_rate_limit=1000.0 (msgs/sec)\n",
      "NotebookApp.rate_limit_window=3.0 (secs)\n",
      "\n"
     ]
    },
    {
     "name": "stdout",
     "output_type": "stream",
     "text": [
      "glg_tte_n6_bn130804023_v00.fit [==============================] 100.00%\n",
      "glg_tte_n7_bn090810659_v00.fit [==============================] 100.00%\n",
      "glg_tte_n3_bn180622273_v00.fit [============================  ] 93.67%"
     ]
    },
    {
     "name": "stderr",
     "output_type": "stream",
     "text": [
      "IOPub message rate exceeded.\n",
      "The notebook server will temporarily stop sending output\n",
      "to the client in order to avoid crashing it.\n",
      "To change this limit, set the config variable\n",
      "`--NotebookApp.iopub_msg_rate_limit`.\n",
      "\n",
      "Current values:\n",
      "NotebookApp.iopub_msg_rate_limit=1000.0 (msgs/sec)\n",
      "NotebookApp.rate_limit_window=3.0 (secs)\n",
      "\n"
     ]
    },
    {
     "name": "stdout",
     "output_type": "stream",
     "text": [
      "glg_tte_n8_bn090810659_v00.fit [==============================] 100.00%\n",
      "glg_tte_n9_bn130804023_v00.fit [==============================] 100.00%\n",
      "glg_tte_n4_bn180622273_v00.fit [==============================] 100.00%\n",
      "glg_tte_n4_bn160406570_v00.fit [==============================] 100.00%\n",
      "glg_tte_n4_bn190731943_v00.fit [==============================] 100.00%\n",
      "glg_tte_n9_bn090810659_v00.fit [============                  ] 40.19%"
     ]
    },
    {
     "name": "stderr",
     "output_type": "stream",
     "text": [
      "IOPub message rate exceeded.\n",
      "The notebook server will temporarily stop sending output\n",
      "to the client in order to avoid crashing it.\n",
      "To change this limit, set the config variable\n",
      "`--NotebookApp.iopub_msg_rate_limit`.\n",
      "\n",
      "Current values:\n",
      "NotebookApp.iopub_msg_rate_limit=1000.0 (msgs/sec)\n",
      "NotebookApp.rate_limit_window=3.0 (secs)\n",
      "\n"
     ]
    },
    {
     "name": "stdout",
     "output_type": "stream",
     "text": [
      "glg_tte_nb_bn130804023_v00.fit [==============================] 100.00%\n",
      "glg_tte_n7_bn181022846_v00.fit [====                          ] 13.71%62 3567 bn120114433\n",
      "Connection appears to have failed.  Attempting to reconnect...\n",
      "glg_tte_n2_bn161020759_v00.fit [==============                ] 49.66%Reconnected.\n",
      "glg_tte_na_bn090810659_v00.fit [==============================] 100.00%\n",
      "glg_tte_n5_bn160406570_v00.fit [==============================] 100.00%\n",
      "glg_tte_n5_bn180622273_v00.fit [==============================] 100.00%\n",
      "glg_tte_n2_bn161020759_v00.fit [=====================         ] 72.28%"
     ]
    },
    {
     "name": "stderr",
     "output_type": "stream",
     "text": [
      "IOPub message rate exceeded.\n",
      "The notebook server will temporarily stop sending output\n",
      "to the client in order to avoid crashing it.\n",
      "To change this limit, set the config variable\n",
      "`--NotebookApp.iopub_msg_rate_limit`.\n",
      "\n",
      "Current values:\n",
      "NotebookApp.iopub_msg_rate_limit=1000.0 (msgs/sec)\n",
      "NotebookApp.rate_limit_window=3.0 (secs)\n",
      "\n"
     ]
    },
    {
     "name": "stdout",
     "output_type": "stream",
     "text": [
      "glg_tte_nb_bn090810659_v00.fit [==============================] 100.00%\n",
      "glg_tte_n6_bn190731943_v00.fit [========                      ] 29.36%63 3567 bn170121067\n",
      "Connection appears to have failed.  Attempting to reconnect...\n",
      "glg_tte_n6_bn190731943_v00.fit [================              ] 56.43%Reconnected.\n",
      "glg_tte_n8_bn181022846_v00.fit [==============================] 100.00%\n",
      "glg_tte_n6_bn180622273_v00.fit [========================      ] 80.29%"
     ]
    },
    {
     "name": "stderr",
     "output_type": "stream",
     "text": [
      "IOPub message rate exceeded.\n",
      "The notebook server will temporarily stop sending output\n",
      "to the client in order to avoid crashing it.\n",
      "To change this limit, set the config variable\n",
      "`--NotebookApp.iopub_msg_rate_limit`.\n",
      "\n",
      "Current values:\n",
      "NotebookApp.iopub_msg_rate_limit=1000.0 (msgs/sec)\n",
      "NotebookApp.rate_limit_window=3.0 (secs)\n",
      "\n"
     ]
    },
    {
     "name": "stdout",
     "output_type": "stream",
     "text": [
      "glg_tte_n6_bn160406570_v00.fit [==============================] 100.00%\n",
      "glg_tte_n9_bn181022846_v00.fit [==============================] 100.00%\n",
      "glg_tte_n7_bn160406570_v00.fit [=                             ] 4.25%%"
     ]
    },
    {
     "name": "stderr",
     "output_type": "stream",
     "text": [
      "IOPub message rate exceeded.\n",
      "The notebook server will temporarily stop sending output\n",
      "to the client in order to avoid crashing it.\n",
      "To change this limit, set the config variable\n",
      "`--NotebookApp.iopub_msg_rate_limit`.\n",
      "\n",
      "Current values:\n",
      "NotebookApp.iopub_msg_rate_limit=1000.0 (msgs/sec)\n",
      "NotebookApp.rate_limit_window=3.0 (secs)\n",
      "\n"
     ]
    },
    {
     "name": "stdout",
     "output_type": "stream",
     "text": [
      "glg_tte_n7_bn180622273_v00.fit [==============================] 100.00%\n",
      "glg_tte_n7_bn160406570_v00.fit [==============================] 100.00%\n",
      "glg_tte_n3_bn161020759_v00.fit [==============================] 100.00%\n",
      "glg_tte_n8_bn190731943_v00.fit [==============================] 100.00%\n",
      "glg_tte_na_bn181022846_v00.fit [==============================] 100.00%\n",
      "glg_tte_n8_bn180622273_v00.fit [==                            ] 6.82%%"
     ]
    },
    {
     "name": "stderr",
     "output_type": "stream",
     "text": [
      "IOPub message rate exceeded.\n",
      "The notebook server will temporarily stop sending output\n",
      "to the client in order to avoid crashing it.\n",
      "To change this limit, set the config variable\n",
      "`--NotebookApp.iopub_msg_rate_limit`.\n",
      "\n",
      "Current values:\n",
      "NotebookApp.iopub_msg_rate_limit=1000.0 (msgs/sec)\n",
      "NotebookApp.rate_limit_window=3.0 (secs)\n",
      "\n"
     ]
    },
    {
     "name": "stdout",
     "output_type": "stream",
     "text": [
      "glg_tte_n8_bn180622273_v00.fit [==============================] 100.00%\n",
      "glg_tte_n4_bn161020759_v00.fit [==============================] 100.00%\n",
      "glg_tte_n8_bn160406570_v00.fit [==============================] 100.00%\n",
      "glg_tte_n1_bn120114433_v00.fit [==============================] 100.00%\n",
      "glg_tte_n9_bn190731943_v00.fit [============================  ] 94.27%"
     ]
    },
    {
     "name": "stderr",
     "output_type": "stream",
     "text": [
      "IOPub message rate exceeded.\n",
      "The notebook server will temporarily stop sending output\n",
      "to the client in order to avoid crashing it.\n",
      "To change this limit, set the config variable\n",
      "`--NotebookApp.iopub_msg_rate_limit`.\n",
      "\n",
      "Current values:\n",
      "NotebookApp.iopub_msg_rate_limit=1000.0 (msgs/sec)\n",
      "NotebookApp.rate_limit_window=3.0 (secs)\n",
      "\n"
     ]
    },
    {
     "name": "stdout",
     "output_type": "stream",
     "text": [
      "glg_tte_n9_bn180622273_v00.fit [========================      ] 83.31%Reconnected.\n",
      "glg_tte_n9_bn180622273_v00.fit [==============================] 100.00%\n",
      "glg_tte_n2_bn120114433_v00.fit [==============================] 100.00%\n",
      "glg_tte_n5_bn161020759_v00.fit [==============================] 100.00%\n",
      "glg_tte_n1_bn170121067_v00.fit [===================           ] 66.25%"
     ]
    },
    {
     "name": "stderr",
     "output_type": "stream",
     "text": [
      "IOPub message rate exceeded.\n",
      "The notebook server will temporarily stop sending output\n",
      "to the client in order to avoid crashing it.\n",
      "To change this limit, set the config variable\n",
      "`--NotebookApp.iopub_msg_rate_limit`.\n",
      "\n",
      "Current values:\n",
      "NotebookApp.iopub_msg_rate_limit=1000.0 (msgs/sec)\n",
      "NotebookApp.rate_limit_window=3.0 (secs)\n",
      "\n"
     ]
    },
    {
     "name": "stdout",
     "output_type": "stream",
     "text": [
      "glg_tte_n3_bn120114433_v00.fit [==============================] 100.00%\n",
      "glg_tte_n6_bn161020759_v00.fit [==============================] 100.00%\n",
      "glg_tte_na_bn190731943_v00.fit [==============================] 100.00%\n",
      "glg_tte_na_bn160406570_v00.fit [==================            ] 63.10%"
     ]
    },
    {
     "name": "stderr",
     "output_type": "stream",
     "text": [
      "IOPub message rate exceeded.\n",
      "The notebook server will temporarily stop sending output\n",
      "to the client in order to avoid crashing it.\n",
      "To change this limit, set the config variable\n",
      "`--NotebookApp.iopub_msg_rate_limit`.\n",
      "\n",
      "Current values:\n",
      "NotebookApp.iopub_msg_rate_limit=1000.0 (msgs/sec)\n",
      "NotebookApp.rate_limit_window=3.0 (secs)\n",
      "\n"
     ]
    },
    {
     "name": "stdout",
     "output_type": "stream",
     "text": [
      "glg_tte_na_bn180622273_v00.fit [==============================] 100.00%\n",
      "glg_tte_n4_bn120114433_v00.fit [==============================] 100.00%\n",
      "glg_tte_n7_bn161020759_v00.fit [==============================] 100.00%\n",
      "glg_tte_nb_bn190731943_v00.fit [==============================] 100.00%\n",
      "glg_tte_nb_bn160406570_v00.fit [==========                    ] 33.64%65 3567 bn230307656\n",
      "Connection appears to have failed.  Attempting to reconnect...\n",
      "glg_tte_b0_bn170124874_v00.fit [==============================] 100.00%\n",
      "glg_tte_nb_bn180622273_v00.fit [=                             ] 4.23%Reconnected.\n",
      "glg_tte_n3_bn170121067_v00.fit [=====================         ] 71.03%"
     ]
    },
    {
     "name": "stderr",
     "output_type": "stream",
     "text": [
      "IOPub message rate exceeded.\n",
      "The notebook server will temporarily stop sending output\n",
      "to the client in order to avoid crashing it.\n",
      "To change this limit, set the config variable\n",
      "`--NotebookApp.iopub_msg_rate_limit`.\n",
      "\n",
      "Current values:\n",
      "NotebookApp.iopub_msg_rate_limit=1000.0 (msgs/sec)\n",
      "NotebookApp.rate_limit_window=3.0 (secs)\n",
      "\n"
     ]
    },
    {
     "name": "stdout",
     "output_type": "stream",
     "text": [
      "glg_tte_n8_bn161020759_v00.fit [==============================] 100.00%\n",
      "glg_tte_b0_bn230307656_v00.fit [================              ] 54.30%"
     ]
    },
    {
     "name": "stderr",
     "output_type": "stream",
     "text": [
      "IOPub message rate exceeded.\n",
      "The notebook server will temporarily stop sending output\n",
      "to the client in order to avoid crashing it.\n",
      "To change this limit, set the config variable\n",
      "`--NotebookApp.iopub_msg_rate_limit`.\n",
      "\n",
      "Current values:\n",
      "NotebookApp.iopub_msg_rate_limit=1000.0 (msgs/sec)\n",
      "NotebookApp.rate_limit_window=3.0 (secs)\n",
      "\n"
     ]
    },
    {
     "name": "stdout",
     "output_type": "stream",
     "text": [
      "glg_tte_b0_bn190806675_v00.fit [==============================] 100.00%\n",
      "glg_tte_n0_bn170124874_v00.fit [============                  ] 40.68%"
     ]
    },
    {
     "name": "stderr",
     "output_type": "stream",
     "text": [
      "IOPub message rate exceeded.\n",
      "The notebook server will temporarily stop sending output\n",
      "to the client in order to avoid crashing it.\n",
      "To change this limit, set the config variable\n",
      "`--NotebookApp.iopub_msg_rate_limit`.\n",
      "\n",
      "Current values:\n",
      "NotebookApp.iopub_msg_rate_limit=1000.0 (msgs/sec)\n",
      "NotebookApp.rate_limit_window=3.0 (secs)\n",
      "\n"
     ]
    },
    {
     "name": "stdout",
     "output_type": "stream",
     "text": [
      "glg_tte_b1_bn230307656_v00.fit [==============================] 100.00%\n",
      "glg_tte_n0_bn170124874_v00.fit [==============================] 100.00%\n",
      "glg_tte_b1_bn190806675_v00.fit [==============================] 100.00%\n",
      "glg_tte_nb_bn180622273_v00.fit [=========================     ] 83.43%"
     ]
    },
    {
     "name": "stderr",
     "output_type": "stream",
     "text": [
      "IOPub message rate exceeded.\n",
      "The notebook server will temporarily stop sending output\n",
      "to the client in order to avoid crashing it.\n",
      "To change this limit, set the config variable\n",
      "`--NotebookApp.iopub_msg_rate_limit`.\n",
      "\n",
      "Current values:\n",
      "NotebookApp.iopub_msg_rate_limit=1000.0 (msgs/sec)\n",
      "NotebookApp.rate_limit_window=3.0 (secs)\n",
      "\n"
     ]
    },
    {
     "name": "stdout",
     "output_type": "stream",
     "text": [
      "glg_tte_n0_bn230307656_v00.fit [=================             ] 59.45%67 3567 bn210721978\n",
      "Connection appears to have failed.  Attempting to reconnect...\n",
      "glg_tte_na_bn161020759_v00.fit [==============================] 100.00%\n",
      "glg_tte_n0_bn230307656_v00.fit [===========================   ] 92.06%Reconnected.\n",
      "glg_tte_n0_bn230307656_v00.fit [==============================] 100.00%\n",
      "glg_tte_n1_bn170124874_v00.fit [==============================] 100.00%\n",
      "glg_tte_n0_bn190806675_v00.fit [==============================] 100.00%\n",
      "glg_tte_n9_bn120114433_v00.fit [==============================] 100.00%\n",
      "glg_tte_n7_bn170121067_v00.fit [=======                       ] 25.83%"
     ]
    },
    {
     "name": "stderr",
     "output_type": "stream",
     "text": [
      "IOPub message rate exceeded.\n",
      "The notebook server will temporarily stop sending output\n",
      "to the client in order to avoid crashing it.\n",
      "To change this limit, set the config variable\n",
      "`--NotebookApp.iopub_msg_rate_limit`.\n",
      "\n",
      "Current values:\n",
      "NotebookApp.iopub_msg_rate_limit=1000.0 (msgs/sec)\n",
      "NotebookApp.rate_limit_window=3.0 (secs)\n",
      "\n"
     ]
    },
    {
     "name": "stdout",
     "output_type": "stream",
     "text": [
      "glg_tte_na_bn120114433_v00.fit [==============================] 100.00%\n",
      "glg_tte_n1_bn230307656_v00.fit [==============================] 100.00%\n",
      "glg_tte_nb_bn161020759_v00.fit [==========================    ] 89.49%"
     ]
    },
    {
     "name": "stderr",
     "output_type": "stream",
     "text": [
      "IOPub message rate exceeded.\n",
      "The notebook server will temporarily stop sending output\n",
      "to the client in order to avoid crashing it.\n",
      "To change this limit, set the config variable\n",
      "`--NotebookApp.iopub_msg_rate_limit`.\n",
      "\n",
      "Current values:\n",
      "NotebookApp.iopub_msg_rate_limit=1000.0 (msgs/sec)\n",
      "NotebookApp.rate_limit_window=3.0 (secs)\n",
      "\n"
     ]
    },
    {
     "name": "stdout",
     "output_type": "stream",
     "text": [
      "glg_tte_nb_bn120114433_v00.fit [==============================] 100.00%\n",
      "glg_tte_b0_bn210721978_v00.fit [=========                     ] 32.13%69 3567 bn211219910\n",
      "Connection appears to have failed.  Attempting to reconnect...\n",
      "glg_tte_b0_bn210721978_v00.fit [==========                    ] 36.52%Reconnected.\n",
      "glg_tte_b0_bn211219910_v00.fit [==========                    ] 34.30%"
     ]
    },
    {
     "name": "stderr",
     "output_type": "stream",
     "text": [
      "IOPub message rate exceeded.\n",
      "The notebook server will temporarily stop sending output\n",
      "to the client in order to avoid crashing it.\n",
      "To change this limit, set the config variable\n",
      "`--NotebookApp.iopub_msg_rate_limit`.\n",
      "\n",
      "Current values:\n",
      "NotebookApp.iopub_msg_rate_limit=1000.0 (msgs/sec)\n",
      "NotebookApp.rate_limit_window=3.0 (secs)\n",
      "\n"
     ]
    },
    {
     "name": "stdout",
     "output_type": "stream",
     "text": [
      "glg_tte_n2_bn190806675_v00.fit [==============================] 100.00%\n",
      "glg_tte_b0_bn190921699_v00.fit [==============================] 100.00%\n",
      "glg_tte_n3_bn170124874_v00.fit [==============================] 100.00%\n",
      "glg_tte_b0_bn211219910_v00.fit [==============================] 100.00%\n",
      "glg_tte_b0_bn210721978_v00.fit [==============================] 100.00%\n",
      "glg_tte_n2_bn230307656_v00.fit [==============================] 100.00%\n",
      "glg_tte_n8_bn170121067_v00.fit [==============================] 100.00%\n",
      "glg_tte_n3_bn190806675_v00.fit [==============================] 100.00%\n",
      "glg_tte_b1_bn190921699_v00.fit [===============               ] 51.28%"
     ]
    },
    {
     "name": "stderr",
     "output_type": "stream",
     "text": [
      "IOPub message rate exceeded.\n",
      "The notebook server will temporarily stop sending output\n",
      "to the client in order to avoid crashing it.\n",
      "To change this limit, set the config variable\n",
      "`--NotebookApp.iopub_msg_rate_limit`.\n",
      "\n",
      "Current values:\n",
      "NotebookApp.iopub_msg_rate_limit=1000.0 (msgs/sec)\n",
      "NotebookApp.rate_limit_window=3.0 (secs)\n",
      "\n"
     ]
    },
    {
     "name": "stdout",
     "output_type": "stream",
     "text": [
      "glg_tte_b1_bn190921699_v00.fit [==============================] 100.00%\n",
      "glg_tte_n4_bn190806675_v00.fit [===                           ] 10.79%"
     ]
    },
    {
     "name": "stderr",
     "output_type": "stream",
     "text": [
      "IOPub message rate exceeded.\n",
      "The notebook server will temporarily stop sending output\n",
      "to the client in order to avoid crashing it.\n",
      "To change this limit, set the config variable\n",
      "`--NotebookApp.iopub_msg_rate_limit`.\n",
      "\n",
      "Current values:\n",
      "NotebookApp.iopub_msg_rate_limit=1000.0 (msgs/sec)\n",
      "NotebookApp.rate_limit_window=3.0 (secs)\n",
      "\n"
     ]
    },
    {
     "name": "stdout",
     "output_type": "stream",
     "text": [
      "glg_tte_n3_bn230307656_v00.fit [==============================] 100.00%\n",
      "glg_tte_b1_bn211219910_v00.fit [==============================] 100.00%\n",
      "glg_tte_n9_bn170121067_v00.fit [==============================] 100.00%\n",
      "glg_tte_b1_bn210721978_v00.fit [===================           ] 66.28%"
     ]
    },
    {
     "name": "stderr",
     "output_type": "stream",
     "text": [
      "IOPub message rate exceeded.\n",
      "The notebook server will temporarily stop sending output\n",
      "to the client in order to avoid crashing it.\n",
      "To change this limit, set the config variable\n",
      "`--NotebookApp.iopub_msg_rate_limit`.\n",
      "\n",
      "Current values:\n",
      "NotebookApp.iopub_msg_rate_limit=1000.0 (msgs/sec)\n",
      "NotebookApp.rate_limit_window=3.0 (secs)\n",
      "\n"
     ]
    },
    {
     "name": "stdout",
     "output_type": "stream",
     "text": [
      "glg_tte_b1_bn210721978_v00.fit [============================= ] 98.26%"
     ]
    },
    {
     "name": "stderr",
     "output_type": "stream",
     "text": [
      "IOPub message rate exceeded.\n",
      "The notebook server will temporarily stop sending output\n",
      "to the client in order to avoid crashing it.\n",
      "To change this limit, set the config variable\n",
      "`--NotebookApp.iopub_msg_rate_limit`.\n",
      "\n",
      "Current values:\n",
      "NotebookApp.iopub_msg_rate_limit=1000.0 (msgs/sec)\n",
      "NotebookApp.rate_limit_window=3.0 (secs)\n",
      "\n"
     ]
    },
    {
     "name": "stdout",
     "output_type": "stream",
     "text": [
      "glg_tte_n0_bn211219910_v00.fit [==============================] 100.00%\n",
      "glg_tte_na_bn170121067_v00.fit [==============================] 100.00%\n",
      "glg_tte_n5_bn190806675_v00.fit [===================           ] 64.84%"
     ]
    },
    {
     "name": "stderr",
     "output_type": "stream",
     "text": [
      "IOPub message rate exceeded.\n",
      "The notebook server will temporarily stop sending output\n",
      "to the client in order to avoid crashing it.\n",
      "To change this limit, set the config variable\n",
      "`--NotebookApp.iopub_msg_rate_limit`.\n",
      "\n",
      "Current values:\n",
      "NotebookApp.iopub_msg_rate_limit=1000.0 (msgs/sec)\n",
      "NotebookApp.rate_limit_window=3.0 (secs)\n",
      "\n"
     ]
    },
    {
     "name": "stdout",
     "output_type": "stream",
     "text": [
      "glg_tte_n5_bn190806675_v00.fit [==============================] 100.00%\n",
      "glg_tte_n0_bn210721978_v00.fit [==============================] 100.00%\n",
      "glg_tte_n1_bn190921699_v00.fit [==============================] 100.00%\n",
      "glg_tte_n6_bn190806675_v00.fit [===                           ] 12.71%"
     ]
    },
    {
     "name": "stderr",
     "output_type": "stream",
     "text": [
      "IOPub message rate exceeded.\n",
      "The notebook server will temporarily stop sending output\n",
      "to the client in order to avoid crashing it.\n",
      "To change this limit, set the config variable\n",
      "`--NotebookApp.iopub_msg_rate_limit`.\n",
      "\n",
      "Current values:\n",
      "NotebookApp.iopub_msg_rate_limit=1000.0 (msgs/sec)\n",
      "NotebookApp.rate_limit_window=3.0 (secs)\n",
      "\n"
     ]
    },
    {
     "name": "stdout",
     "output_type": "stream",
     "text": [
      "glg_tte_n1_bn211219910_v00.fit [==============================] 100.00%\n",
      "glg_tte_n2_bn190921699_v00.fit [=========                     ] 32.54%Reconnected.\n",
      "glg_tte_n5_bn230307656_v00.fit [==============================] 100.00%\n",
      "glg_tte_n1_bn210721978_v00.fit [==============================] 100.00%\n",
      "glg_tte_n6_bn190806675_v00.fit [==============================] 100.00%\n",
      "glg_tte_n2_bn190921699_v00.fit [==============================] 100.00%\n",
      "glg_tte_n2_bn211219910_v00.fit [======                        ] 20.60%"
     ]
    },
    {
     "name": "stderr",
     "output_type": "stream",
     "text": [
      "IOPub message rate exceeded.\n",
      "The notebook server will temporarily stop sending output\n",
      "to the client in order to avoid crashing it.\n",
      "To change this limit, set the config variable\n",
      "`--NotebookApp.iopub_msg_rate_limit`.\n",
      "\n",
      "Current values:\n",
      "NotebookApp.iopub_msg_rate_limit=1000.0 (msgs/sec)\n",
      "NotebookApp.rate_limit_window=3.0 (secs)\n",
      "\n"
     ]
    },
    {
     "name": "stdout",
     "output_type": "stream",
     "text": [
      "glg_tte_n6_bn230307656_v00.fit [==================            ] 61.31%"
     ]
    },
    {
     "name": "stderr",
     "output_type": "stream",
     "text": [
      "IOPub message rate exceeded.\n",
      "The notebook server will temporarily stop sending output\n",
      "to the client in order to avoid crashing it.\n",
      "To change this limit, set the config variable\n",
      "`--NotebookApp.iopub_msg_rate_limit`.\n",
      "\n",
      "Current values:\n",
      "NotebookApp.iopub_msg_rate_limit=1000.0 (msgs/sec)\n",
      "NotebookApp.rate_limit_window=3.0 (secs)\n",
      "\n"
     ]
    },
    {
     "name": "stdout",
     "output_type": "stream",
     "text": [
      "glg_tte_n6_bn230307656_v00.fit [==============================] 100.00%\n",
      "glg_tte_n3_bn190921699_v00.fit [==============================] 100.00%\n",
      "glg_tte_b0_bn180614327_v00.fit [==============================] 100.00%\n",
      "glg_tte_n6_bn170124874_v00.fit [==============================] 100.00%\n",
      "glg_tte_n2_bn210721978_v00.fit [==============================] 100.00%\n",
      "glg_tte_n4_bn190921699_v00.fit [==========                    ] 36.36%"
     ]
    },
    {
     "name": "stderr",
     "output_type": "stream",
     "text": [
      "IOPub message rate exceeded.\n",
      "The notebook server will temporarily stop sending output\n",
      "to the client in order to avoid crashing it.\n",
      "To change this limit, set the config variable\n",
      "`--NotebookApp.iopub_msg_rate_limit`.\n",
      "\n",
      "Current values:\n",
      "NotebookApp.iopub_msg_rate_limit=1000.0 (msgs/sec)\n",
      "NotebookApp.rate_limit_window=3.0 (secs)\n",
      "\n"
     ]
    },
    {
     "name": "stdout",
     "output_type": "stream",
     "text": [
      "glg_tte_n7_bn230307656_v00.fit [==============================] 100.00%\n",
      "glg_tte_n7_bn170124874_v00.fit [==============================] 100.00%\n",
      "glg_tte_n9_bn190806675_v00.fit [======                        ] 21.44%%\n",
      "glg_tte_n5_bn190921699_v00.fit [==============                ] 49.97%"
     ]
    },
    {
     "name": "stderr",
     "output_type": "stream",
     "text": [
      "IOPub message rate exceeded.\n",
      "The notebook server will temporarily stop sending output\n",
      "to the client in order to avoid crashing it.\n",
      "To change this limit, set the config variable\n",
      "`--NotebookApp.iopub_msg_rate_limit`.\n",
      "\n",
      "Current values:\n",
      "NotebookApp.iopub_msg_rate_limit=1000.0 (msgs/sec)\n",
      "NotebookApp.rate_limit_window=3.0 (secs)\n",
      "\n"
     ]
    },
    {
     "name": "stdout",
     "output_type": "stream",
     "text": [
      "glg_tte_n8_bn170124874_v00.fit [==============================] 100.00%\n",
      "glg_tte_n8_bn230307656_v00.fit [==============================] 100.00%\n",
      "glg_tte_n5_bn211219910_v00.fit [=========                     ] 32.70%"
     ]
    },
    {
     "name": "stderr",
     "output_type": "stream",
     "text": [
      "IOPub message rate exceeded.\n",
      "The notebook server will temporarily stop sending output\n",
      "to the client in order to avoid crashing it.\n",
      "To change this limit, set the config variable\n",
      "`--NotebookApp.iopub_msg_rate_limit`.\n",
      "\n",
      "Current values:\n",
      "NotebookApp.iopub_msg_rate_limit=1000.0 (msgs/sec)\n",
      "NotebookApp.rate_limit_window=3.0 (secs)\n",
      "\n"
     ]
    },
    {
     "name": "stdout",
     "output_type": "stream",
     "text": [
      "glg_tte_n5_bn211219910_v00.fit [==============================] 100.00%\n",
      "glg_tte_n9_bn190806675_v00.fit [==============================] 100.00%\n",
      "glg_tte_n9_bn170124874_v00.fit [==============================] 100.00%\n",
      "glg_tte_n9_bn230307656_v00.fit [==============                ] 47.20%"
     ]
    }
   ],
   "source": [
    "# theo parallel\n",
    "\n",
    "from gbm.finder import BurstCatalog\n",
    "from gbm.finder import TriggerFtp\n",
    "import os\n",
    "    \n",
    "import gbm\n",
    "from gbm import test_data_dir\n",
    "from gbm.data import TTE\n",
    "from gbm.binning.unbinned import bin_by_time\n",
    "import glob\n",
    "import matplotlib.pyplot as plt\n",
    "import numpy as np\n",
    "from gbm.plot import Lightcurve, Spectrum\n",
    "\n",
    "from concurrent.futures import ThreadPoolExecutor\n",
    "from multiprocessing import cpu_count\n",
    "\n",
    "\n",
    "# burstcat = BurstCatalog()\n",
    "\n",
    "bursts = burstcat.get_table(columns=('name',\n",
    "                                     'trigger_name', \n",
    "                                     't90',\n",
    "                                     't90_start',\n",
    "                                    ))\n",
    "\n",
    "def download(i):\n",
    "    print(i,len(bursts.trigger_name),bursts.trigger_name[i])\n",
    "    \n",
    "    # initialize the Trigger data finder with a trigger number\n",
    "    burst = bursts.trigger_name[i]\n",
    "    trig_finder = TriggerFtp(burst[2:])\n",
    "\n",
    "    #check if exists \n",
    "    path_tte = './Bursts/'+bursts.trigger_name[i]\n",
    "    \n",
    "    if not os.path.isdir(path_tte):\n",
    "        trig_finder.get_tte(path_tte,verbose=False)\n",
    "        \n",
    "    else:\n",
    "        print('TTE Downloaded')\n",
    "        return\n",
    "    \n",
    "with ThreadPoolExecutor(max_workers=cpu_count()-3) as executor:\n",
    "    executor.map(download, range(len(bursts.trigger_name)))"
   ]
  },
  {
   "cell_type": "code",
   "execution_count": null,
   "id": "236392a6",
   "metadata": {},
   "outputs": [],
   "source": [
    "# check if they have the 14 files\n",
    "\n",
    "def check_download(i):\n",
    "    \n",
    "    burst = bursts.trigger_name[i] \n",
    "    path_tte = './Bursts/'+burst\n",
    "    files = glob.glob(path_tte+'/*tte*')\n",
    "    \n",
    "    if not len(files) == 14:\n",
    "        trig_finder = TriggerFtp(burst[2:])\n",
    "        trig_finder.get_tte(path_tte,verbose=False)\n",
    "        print(burst,'restarted')\n",
    "    else:\n",
    "        print(burst,'all TTE Downloaded')\n",
    "        return\n",
    "    \n",
    "with ThreadPoolExecutor(max_workers=cpu_count()-3) as executor:\n",
    "    executor.map(download, range(len(bursts.trigger_name)))"
   ]
  },
  {
   "cell_type": "code",
   "execution_count": null,
   "id": "2e8b0a43",
   "metadata": {},
   "outputs": [],
   "source": [
    "for i in range(len(bursts.trigger_name)):\n",
    "    # initialize the Trigger data finder with a trigger number\n",
    "    burst = bursts.trigger_name[i]\n",
    "    trig_finder = TriggerFtp(burst[2:])\n",
    "\n",
    "    #check if exists \n",
    "    path_tte = './Bursts/'+bursts.trigger_name[i]\n",
    "\n",
    "    files_tte = glob.glob(path_tte+'/*tte*')\n",
    "    \n",
    "    temp_time = []\n",
    "    temp_flux = []\n",
    "    temp_idx = []\n",
    "    temp_bg = []\n",
    "    \n",
    "    \n",
    "    for ii in range(len(files_tte)):\n",
    "    # open a TTE file\n",
    "        tte = TTE.open(files_tte[ii])\n",
    "        # bin to 1.024 s resolution, reference time is trigger time\n",
    "        phaii = tte.to_phaii(bin_by_time, 1.024*2, time_ref=0.0)\n",
    "\n",
    "        # maybe change the energy range??\n",
    "\n",
    "        erange = (10.0, 900.0)\n",
    "\n",
    "        lc_data = phaii.to_lightcurve(energy_range=erange)\n",
    "\n",
    "        # lcplot = Lightcurve(data=lc_data)\n",
    "        bg = np.median(lc_data.counts)\n",
    "        t90 = bursts.t90[i]\n",
    "        t90_start = bursts.t90_start[i]\n",
    "\n",
    "        # median and std of the t90 region\n",
    "        cond_bg_t90 = (lc_data.centroids>(t90_start-15)) * (lc_data.centroids<(t90_start+t90+35))\n",
    "        cond_t90 = (lc_data.centroids>(t90_start)) * (lc_data.centroids<(t90_start+t90))\n",
    "        std_bg_t90 = np.std(lc_data.counts[cond_bg_t90])\n",
    "        median_t90 = np.max(lc_data.counts[cond_t90])-np.median(lc_data.counts[cond_bg_t90])\n",
    "        SNR = median_t90/std_bg_t90\n",
    "\n",
    "        if SNR > 3:\n",
    "            print(ii,median_t90,std_bg_t90,median_t90/std_bg_t90)\n",
    "            temp_time.append(lc_data.centroids[1:-1])\n",
    "            temp_flux.append(lc_data.counts[1:-1])\n",
    "            temp_idx.append(ii)\n",
    "            temp_bg.append(bg)\n",
    "\n",
    "            det = files_tte[ii][files_tte[ii].rfind('glg_tte_')+8:files_tte[ii].rfind('glg_tte_')+8+2]\n",
    "            lc_name = f'lc_{burst}_{det}_{int(t90_start)}_{int(t90)}_{np.round(SNR)}.txt'\n",
    "            np.savetxt(path_tte+'/'+lc_name,np.array([lc_data.centroids[1:-1],lc_data.counts[1:-1]]))\n",
    "            \n",
    "    fig, axs = plt.subplots(len(temp_flux), 1, figsize=(6, 2*len(temp_flux)))\n",
    "    for j,ax in enumerate(axs.flat):\n",
    "        ax.set_title(temp_idx[j])\n",
    "        ax.vlines(t90_start-15,temp_bg[j]-100,temp_bg[j]+100,color='red')\n",
    "        ax.vlines(t90_start+t90+35,temp_bg[j]-100,temp_bg[j]+100,color='red')\n",
    "        ax.vlines(t90_start,temp_bg[j]-100,temp_bg[j]+100)\n",
    "        ax.vlines(t90_start+t90,temp_bg[j]-100,temp_bg[j]+100)\n",
    "        ax.plot(temp_time[j],temp_flux[j])\n",
    "    fig.savefig(path_tte+'/'+f'collage_{burst}.png',dpi=200)\n",
    "    fig.clf()\n",
    "    plt.close()"
   ]
  },
  {
   "cell_type": "code",
   "execution_count": null,
   "id": "50de1f10",
   "metadata": {},
   "outputs": [],
   "source": []
  },
  {
   "cell_type": "code",
   "execution_count": null,
   "id": "4877a335",
   "metadata": {},
   "outputs": [],
   "source": []
  },
  {
   "cell_type": "code",
   "execution_count": null,
   "id": "371f9f2a",
   "metadata": {},
   "outputs": [],
   "source": []
  },
  {
   "cell_type": "code",
   "execution_count": null,
   "id": "bacc3556",
   "metadata": {},
   "outputs": [],
   "source": []
  },
  {
   "cell_type": "code",
   "execution_count": 24,
   "id": "6ac2d8ff",
   "metadata": {
    "scrolled": false
   },
   "outputs": [
    {
     "name": "stdout",
     "output_type": "stream",
     "text": [
      "0 3567 bn120403857\n",
      "Connection appears to have failed.  Attempting to reconnect...\n",
      "Reconnected.\n",
      "glg_tte_b0_bn120403857_v00.fit [==============================] 100.00%\n",
      "glg_tte_b1_bn120403857_v00.fit [==============================] 100.00%\n",
      "glg_tte_n0_bn120403857_v00.fit [==============================] 100.00%\n",
      "glg_tte_n1_bn120403857_v00.fit [==============================] 100.00%\n",
      "glg_tte_n2_bn120403857_v00.fit [==============================] 100.00%\n",
      "glg_tte_n3_bn120403857_v00.fit [==============================] 100.00%\n",
      "glg_tte_n4_bn120403857_v00.fit [==============================] 100.00%\n",
      "glg_tte_n5_bn120403857_v00.fit [==============================] 100.00%\n",
      "glg_tte_n6_bn120403857_v00.fit [==============================] 100.00%\n",
      "glg_tte_n7_bn120403857_v00.fit [==============================] 100.00%\n",
      "glg_tte_n8_bn120403857_v00.fit [==============================] 100.00%\n",
      "glg_tte_n9_bn120403857_v00.fit [==============================] 100.00%\n",
      "glg_tte_na_bn120403857_v00.fit [==============================] 100.00%\n",
      "glg_tte_nb_bn120403857_v00.fit [==============================] 100.00%\n",
      "9 239.5 65.15407319913214 3.675902184472945\n",
      "10 222.0 56.89886439315612 3.901659591411854\n",
      "11 174.0 55.76647208031025 3.1201543420107267\n",
      "1 3567 bn120227725\n",
      "Connection appears to have failed.  Attempting to reconnect...\n",
      "Reconnected.\n",
      "glg_tte_b0_bn120227725_v00.fit [==============================] 100.00%\n",
      "glg_tte_b1_bn120227725_v00.fit [==============================] 100.00%\n",
      "glg_tte_n0_bn120227725_v00.fit [==============================] 100.00%\n",
      "glg_tte_n1_bn120227725_v00.fit [==============================] 100.00%\n",
      "glg_tte_n2_bn120227725_v00.fit [==============================] 100.00%\n",
      "glg_tte_n3_bn120227725_v00.fit [==============================] 100.00%\n",
      "glg_tte_n4_bn120227725_v00.fit [==============================] 100.00%\n",
      "glg_tte_n5_bn120227725_v00.fit [==============================] 100.00%\n",
      "glg_tte_n6_bn120227725_v00.fit [==============================] 100.00%\n",
      "glg_tte_n7_bn120227725_v00.fit [==============================] 100.00%\n",
      "glg_tte_n8_bn120227725_v00.fit [==============================] 100.00%\n",
      "glg_tte_n9_bn120227725_v00.fit [==============================] 100.00%\n",
      "glg_tte_na_bn120227725_v00.fit [==============================] 100.00%\n",
      "glg_tte_nb_bn120227725_v00.fit [==============================] 100.00%\n",
      "0 1096.0 270.6336135825235 4.049755628991002\n",
      "1 473.0 127.74963318419374 3.7025546626659396\n",
      "2 375.0 109.72448173331105 3.417651139254864\n",
      "3 1407.0 422.521059728012 3.3300115286696554\n",
      "4 1633.0 484.1611776192741 3.3728437460223812\n",
      "5 539.0 149.06018407229257 3.615989094301607\n",
      "6 318.0 97.7699836195634 3.25253199629635\n",
      "8 615.0 172.40142044203577 3.56725599141321\n",
      "9 458.0 131.57248436111178 3.4809709813108065\n",
      "12 309.0 91.08021268273595 3.39261394872182\n",
      "2 3567 bn230524357\n",
      "Connection appears to have failed.  Attempting to reconnect...\n",
      "Reconnected.\n",
      "glg_tte_b0_bn230524357_v00.fit [==============================] 100.00%\n",
      "glg_tte_b1_bn230524357_v00.fit [==============================] 100.00%\n",
      "glg_tte_n0_bn230524357_v00.fit [==============================] 100.00%\n",
      "glg_tte_n1_bn230524357_v00.fit [==============================] 100.00%\n",
      "glg_tte_n2_bn230524357_v00.fit [==============================] 100.00%\n",
      "glg_tte_n3_bn230524357_v00.fit [==============================] 100.00%\n",
      "glg_tte_n4_bn230524357_v00.fit [==============================] 100.00%\n",
      "glg_tte_n5_bn230524357_v00.fit [==============================] 100.00%\n",
      "glg_tte_n6_bn230524357_v00.fit [==============================] 100.00%\n",
      "glg_tte_n7_bn230524357_v00.fit [==============================] 100.00%\n",
      "glg_tte_n8_bn230524357_v00.fit [==============================] 100.00%\n",
      "glg_tte_n9_bn230524357_v00.fit [==============================] 100.00%\n",
      "glg_tte_na_bn230524357_v00.fit [==============================] 100.00%\n",
      "glg_tte_nb_bn230524357_v00.fit [==============================] 100.00%\n",
      "5 643.0 154.7101232053747 4.156159834133348\n",
      "6 470.0 124.95565880209934 3.761334256533116\n",
      "7 347.0 90.22241037199866 3.846051092730444\n",
      "3 3567 bn210411564\n",
      "Connection appears to have failed.  Attempting to reconnect...\n",
      "Reconnected.\n",
      "glg_tte_b0_bn210411564_v00.fit [==============================] 100.00%\n",
      "glg_tte_b1_bn210411564_v00.fit [==============================] 100.00%\n",
      "glg_tte_n0_bn210411564_v00.fit [==============================] 100.00%\n",
      "glg_tte_n1_bn210411564_v00.fit [==============================] 100.00%\n",
      "glg_tte_n2_bn210411564_v00.fit [==============================] 100.00%\n",
      "glg_tte_n3_bn210411564_v00.fit [==============================] 100.00%\n",
      "glg_tte_n4_bn210411564_v00.fit [==============================] 100.00%\n",
      "glg_tte_n5_bn210411564_v00.fit [==============================] 100.00%\n",
      "glg_tte_n6_bn210411564_v00.fit [==============================] 100.00%\n",
      "glg_tte_n7_bn210411564_v00.fit [==============================] 100.00%\n",
      "glg_tte_n8_bn210411564_v00.fit [==============================] 100.00%\n",
      "glg_tte_n9_bn210411564_v00.fit [==============================] 100.00%\n",
      "glg_tte_na_bn210411564_v00.fit [==============================] 100.00%\n",
      "glg_tte_nb_bn210411564_v00.fit [==============================] 100.00%\n",
      "3 237.0 73.79645135532527 3.2115365393230073\n",
      "4 351.0 109.86695710671562 3.194773107796804\n",
      "5 219.5 68.39091831766359 3.209490461591139\n",
      "9 459.5 136.4113580085984 3.3684878349428673\n",
      "4 3567 bn190304818\n",
      "Connection appears to have failed.  Attempting to reconnect...\n",
      "Reconnected.\n",
      "glg_tte_b0_bn190304818_v00.fit [==============================] 100.00%\n",
      "glg_tte_b1_bn190304818_v00.fit [==============================] 100.00%\n",
      "glg_tte_n0_bn190304818_v00.fit [==============================] 100.00%\n",
      "glg_tte_n1_bn190304818_v00.fit [==============================] 100.00%\n",
      "glg_tte_n2_bn190304818_v00.fit [==============================] 100.00%\n",
      "glg_tte_n3_bn190304818_v00.fit [==============================] 100.00%\n",
      "glg_tte_n4_bn190304818_v00.fit [==============================] 100.00%\n",
      "glg_tte_n5_bn190304818_v00.fit [==============================] 100.00%\n",
      "glg_tte_n6_bn190304818_v00.fit [==============================] 100.00%\n",
      "glg_tte_n7_bn190304818_v00.fit [==============================] 100.00%\n",
      "glg_tte_n8_bn190304818_v00.fit [==============================] 100.00%\n",
      "glg_tte_n9_bn190304818_v00.fit [==============================] 100.00%\n",
      "glg_tte_na_bn190304818_v00.fit [==============================] 100.00%\n",
      "glg_tte_nb_bn190304818_v00.fit [==============================] 100.00%\n",
      "3 179.5 57.963069756710624 3.0967994061290818\n",
      "4 242.5 73.33223618508661 3.3068676562370616\n",
      "5 227.0 71.29903067467278 3.1837739987766223\n",
      "6 240.5 77.01775903712463 3.1226564237486127\n",
      "8 1600.5 326.7397155473701 4.898394421745656\n",
      "12 266.0 70.28581758680875 3.784547283261921\n",
      "13 271.0 81.74318457738279 3.315261099761239\n"
     ]
    },
    {
     "data": {
      "text/plain": [
       "<Figure size 600x600 with 0 Axes>"
      ]
     },
     "metadata": {},
     "output_type": "display_data"
    },
    {
     "data": {
      "text/plain": [
       "<Figure size 600x2000 with 0 Axes>"
      ]
     },
     "metadata": {},
     "output_type": "display_data"
    },
    {
     "data": {
      "text/plain": [
       "<Figure size 600x600 with 0 Axes>"
      ]
     },
     "metadata": {},
     "output_type": "display_data"
    },
    {
     "data": {
      "text/plain": [
       "<Figure size 600x800 with 0 Axes>"
      ]
     },
     "metadata": {},
     "output_type": "display_data"
    },
    {
     "data": {
      "text/plain": [
       "<Figure size 600x1400 with 0 Axes>"
      ]
     },
     "metadata": {},
     "output_type": "display_data"
    }
   ],
   "source": [
    "bursts = burstcat.get_table(columns=('name',\n",
    "                                     'trigger_name', \n",
    "                                     't90',\n",
    "                                     't90_start',\n",
    "                                    ))\n",
    "\n",
    "# for i in range(len(bursts.trigger_name)):\n",
    "for i in [0,1,2,3,4]:\n",
    "\n",
    "    print(i,len(bursts.trigger_name),bursts.trigger_name[i])\n",
    "    \n",
    "    # initialize the Trigger data finder with a trigger number\n",
    "    burst = bursts.trigger_name[i]\n",
    "    trig_finder = TriggerFtp(burst[2:])\n",
    "\n",
    "    #check if exists \n",
    "    path_tte = './Bursts/'+bursts.trigger_name[i]\n",
    "    \n",
    "    if not os.path.isdir(path_tte):\n",
    "        trig_finder.get_tte(path_tte)\n",
    "        \n",
    "    else:\n",
    "        print('TTE Downloaded')\n",
    "        continue\n",
    "\n",
    "    files_tte = glob.glob(path_tte+'/*tte*')\n",
    "    \n",
    "    temp_time = []\n",
    "    temp_flux = []\n",
    "    temp_idx = []\n",
    "    temp_bg = []\n",
    "    \n",
    "    \n",
    "    for ii in range(len(files_tte)):\n",
    "    # open a TTE file\n",
    "        tte = TTE.open(files_tte[ii])\n",
    "        # bin to 1.024 s resolution, reference time is trigger time\n",
    "        phaii = tte.to_phaii(bin_by_time, 1.024*2, time_ref=0.0)\n",
    "\n",
    "        # maybe change the energy range??\n",
    "\n",
    "        erange = (10.0, 900.0)\n",
    "\n",
    "        lc_data = phaii.to_lightcurve(energy_range=erange)\n",
    "\n",
    "        # lcplot = Lightcurve(data=lc_data)\n",
    "        bg = np.median(lc_data.counts)\n",
    "        t90 = bursts.t90[i]\n",
    "        t90_start = bursts.t90_start[i]\n",
    "\n",
    "        # median and std of the t90 region\n",
    "        cond_bg_t90 = (lc_data.centroids>(t90_start-15)) * (lc_data.centroids<(t90_start+t90+35))\n",
    "        cond_t90 = (lc_data.centroids>(t90_start)) * (lc_data.centroids<(t90_start+t90))\n",
    "        std_bg_t90 = np.std(lc_data.counts[cond_bg_t90])\n",
    "        median_t90 = np.max(lc_data.counts[cond_t90])-np.median(lc_data.counts[cond_bg_t90])\n",
    "        SNR = median_t90/std_bg_t90\n",
    "\n",
    "        if SNR > 3:\n",
    "            print(ii,median_t90,std_bg_t90,median_t90/std_bg_t90)\n",
    "            temp_time.append(lc_data.centroids[1:-1])\n",
    "            temp_flux.append(lc_data.counts[1:-1])\n",
    "            temp_idx.append(ii)\n",
    "            temp_bg.append(bg)\n",
    "\n",
    "            det = files_tte[ii][files_tte[ii].rfind('glg_tte_')+8:files_tte[ii].rfind('glg_tte_')+8+2]\n",
    "            lc_name = f'lc_{burst}_{det}_{int(t90_start)}_{int(t90)}_{np.round(SNR)}.txt'\n",
    "            np.savetxt(path_tte+'/'+lc_name,np.array([lc_data.centroids[1:-1],lc_data.counts[1:-1]]))\n",
    "            \n",
    "    fig, axs = plt.subplots(len(temp_flux), 1, figsize=(6, 2*len(temp_flux)))\n",
    "    for j,ax in enumerate(axs.flat):\n",
    "        ax.set_title(temp_idx[j])\n",
    "        ax.vlines(t90_start-15,temp_bg[j]-100,temp_bg[j]+100,color='red')\n",
    "        ax.vlines(t90_start+t90+35,temp_bg[j]-100,temp_bg[j]+100,color='red')\n",
    "        ax.vlines(t90_start,temp_bg[j]-100,temp_bg[j]+100)\n",
    "        ax.vlines(t90_start+t90,temp_bg[j]-100,temp_bg[j]+100)\n",
    "        ax.plot(temp_time[j],temp_flux[j])\n",
    "    fig.savefig(path_tte+'/'+f'collage_{burst}.png',dpi=200)\n",
    "    fig.clf()\n",
    "        \n"
   ]
  },
  {
   "cell_type": "code",
   "execution_count": null,
   "id": "be66a84c",
   "metadata": {},
   "outputs": [],
   "source": [
    "import sys, os\n",
    "import zipfile\n",
    "import requests\n",
    "from multiprocessing import Pool, cpu_count\n",
    "from functools import partial\n",
    "from io import BytesIO\n",
    "\n",
    "\n",
    "\n",
    "def download_lc(i):\n",
    "    print(i,len(bursts.trigger_name),bursts.trigger_name[i])\n",
    "    \n",
    "    # initialize the Trigger data finder with a trigger number\n",
    "    burst = bursts.trigger_name[i]\n",
    "    trig_finder = TriggerFtp(burst[2:])\n",
    "\n",
    "    #check if exists \n",
    "    path_tte = './Bursts/'+bursts.trigger_name[i]\n",
    "\n",
    "    if not os.path.isdir(path_tte):\n",
    "        trig_finder.get_tte(path_tte)\n",
    "\n",
    "    else:\n",
    "        print('TTE Downloaded')\n",
    "#         continue\n",
    "\n",
    "    files_tte = glob.glob(path_tte+'/*tte*')\n",
    "\n",
    "    temp_time = []\n",
    "    temp_flux = []\n",
    "    temp_idx = []\n",
    "    temp_bg = []\n",
    "\n",
    "\n",
    "    for ii in range(len(files_tte)):\n",
    "    # open a TTE file\n",
    "        tte = TTE.open(files_tte[ii])\n",
    "        # bin to 1.024 s resolution, reference time is trigger time\n",
    "        phaii = tte.to_phaii(bin_by_time, 1.024*2, time_ref=0.0)\n",
    "\n",
    "        # maybe change the energy range??\n",
    "\n",
    "        erange = (10.0, 900.0)\n",
    "\n",
    "        lc_data = phaii.to_lightcurve(energy_range=erange)\n",
    "\n",
    "        # lcplot = Lightcurve(data=lc_data)\n",
    "        bg = np.median(lc_data.counts)\n",
    "        t90 = bursts.t90[i]\n",
    "        t90_start = bursts.t90_start[i]\n",
    "\n",
    "        # median and std of the t90 region\n",
    "        cond_bg_t90 = (lc_data.centroids>(t90_start-15)) * (lc_data.centroids<(t90_start+t90+35))\n",
    "        cond_t90 = (lc_data.centroids>(t90_start)) * (lc_data.centroids<(t90_start+t90))\n",
    "        std_bg_t90 = np.std(lc_data.counts[cond_bg_t90])\n",
    "        median_t90 = np.max(lc_data.counts[cond_t90])-np.median(lc_data.counts[cond_bg_t90])\n",
    "        SNR = median_t90/std_bg_t90\n",
    "\n",
    "        if SNR > 3:\n",
    "            print(ii,median_t90,std_bg_t90,median_t90/std_bg_t90)\n",
    "            temp_time.append(lc_data.centroids[1:-1])\n",
    "            temp_flux.append(lc_data.counts[1:-1])\n",
    "            temp_idx.append(ii)\n",
    "            temp_bg.append(bg)\n",
    "\n",
    "            det = files_tte[ii][files_tte[ii].rfind('glg_tte_')+8:files_tte[ii].rfind('glg_tte_')+8+2]\n",
    "            lc_name = f'lc_{burst}_{det}_{int(t90_start)}_{int(t90)}_{np.round(SNR)}.txt'\n",
    "            np.savetxt(path_tte+'/'+lc_name,np.array([lc_data.centroids[1:-1],lc_data.counts[1:-1]]))\n",
    "\n",
    "    fig, axs = plt.subplots(len(temp_flux), 1, figsize=(6, 2*len(temp_flux)))\n",
    "    for j,ax in enumerate(axs.flat):\n",
    "        ax.set_title(temp_idx[j])\n",
    "        ax.vlines(t90_start-15,temp_bg[j]-100,temp_bg[j]+100,color='red')\n",
    "        ax.vlines(t90_start+t90+35,temp_bg[j]-100,temp_bg[j]+100,color='red')\n",
    "        ax.vlines(t90_start,temp_bg[j]-100,temp_bg[j]+100)\n",
    "        ax.vlines(t90_start+t90,temp_bg[j]-100,temp_bg[j]+100)\n",
    "        ax.plot(temp_time[j],temp_flux[j])\n",
    "    fig.savefig(path_tte+'/'+f'collage_{burst}.png',dpi=200)\n",
    "    fig.clf()\n",
    "    \n",
    "print(\"There are {} CPUs on this machine \".format(cpu_count()))\n",
    "pool = Pool(cpu_count()-4)\n",
    "\n",
    "results = pool.starmap(download_lc,np.arange(35))\n",
    "pool.close()\n",
    "pool.join()"
   ]
  },
  {
   "cell_type": "code",
   "execution_count": null,
   "id": "ff3d27c3",
   "metadata": {},
   "outputs": [],
   "source": [
    "results"
   ]
  },
  {
   "cell_type": "code",
   "execution_count": 11,
   "id": "e3272577",
   "metadata": {},
   "outputs": [],
   "source": [
    "plt.clf()"
   ]
  },
  {
   "cell_type": "code",
   "execution_count": 115,
   "id": "6adf798c",
   "metadata": {},
   "outputs": [
    {
     "data": {
      "image/png": "[encoded data removed]",
      "text/plain": [
       "<Figure size 770x470 with 1 Axes>"
      ]
     },
     "metadata": {},
     "output_type": "display_data"
    },
    {
     "data": {
      "image/png": "[encoded data removed]",
      "text/plain": [
       "<Figure size 770x470 with 1 Axes>"
      ]
     },
     "metadata": {},
     "output_type": "display_data"
    }
   ],
   "source": [
    "# get energies\n",
    "\n",
    "# lcplot = Lightcurve(data=lc_data, background=lc_bkgd)\n",
    "\n",
    "# zoom in to 5 seconds before to 20 s after the trigger time\n",
    "view_range = (-5.0,10.0)\n",
    "# lcplot.xlim = view_range\n",
    "\n",
    "src_time = (-3,8)\n",
    "src_lc = phaii.to_lightcurve(time_range=src_time, energy_range=erange)\n",
    "\n",
    "lcplot = Lightcurve(data=lc_data)\n",
    "lcplot.add_selection(src_lc)\n",
    "lcplot.xlim = view_range\n",
    "\n",
    "# why the resolution\n",
    "\n",
    "# the observed count spectrum during the source selection\n",
    "spec_data = phaii.to_spectrum(time_range=src_time)\n",
    "# the background model integrated over the source selection time\n",
    "# spec_bkgd = bkgd.integrate_time(*src_time)\n",
    "# and the energy range selection that was made\n",
    "spec_selection = phaii.to_spectrum(time_range=src_time, energy_range=erange)\n",
    "\n",
    "specplot = Spectrum(data=spec_data)\n",
    "specplot.add_selection(spec_selection)\n",
    "\n",
    "\n"
   ]
  },
  {
   "cell_type": "code",
   "execution_count": 74,
   "id": "f64dd06c",
   "metadata": {},
   "outputs": [
    {
     "data": {
      "text/plain": [
       "2270.0"
      ]
     },
     "execution_count": 74,
     "metadata": {},
     "output_type": "execute_result"
    }
   ],
   "source": [
    "lc_data.counts.max()"
   ]
  },
  {
   "cell_type": "code",
   "execution_count": 60,
   "id": "d0af9ed7",
   "metadata": {
    "scrolled": false
   },
   "outputs": [
    {
     "data": {
      "text/plain": [
       "array(['name', 'ra', 'dec', 'trigger_time', 't90', 't90_error',\n",
       "       't90_start', 'fluence', 'fluence_error', 'flux_1024',\n",
       "       'flux_1024_error', 'flux_1024_time', 'flux_64', 'flux_64_error',\n",
       "       'flnc_band_ampl', 'flnc_band_ampl_pos_err',\n",
       "       'flnc_band_ampl_neg_err', 'flnc_band_epeak',\n",
       "       'flnc_band_epeak_pos_err', 'flnc_band_epeak_neg_err',\n",
       "       'flnc_band_alpha', 'flnc_band_alpha_pos_err',\n",
       "       'flnc_band_alpha_neg_err', 'flnc_band_beta',\n",
       "       'flnc_band_beta_pos_err', 'flnc_band_beta_neg_err',\n",
       "       'flnc_spectrum_start', 'flnc_spectrum_stop',\n",
       "       'pflx_best_fitting_model', 'pflx_best_model_redchisq',\n",
       "       'flnc_best_fitting_model', 'flnc_best_model_redchisq',\n",
       "       'actual_1024ms_interval', 'actual_256ms_interval',\n",
       "       'actual_64ms_interval', 'back_interval_high_start',\n",
       "       'back_interval_high_stop', 'back_interval_low_start',\n",
       "       'back_interval_low_stop', 'bcat_detector_mask', 'bcatalog', 'bii',\n",
       "       'duration_energy_high', 'duration_energy_low', 'error_radius',\n",
       "       'flnc_band_dof', 'flnc_band_ergflnc', 'flnc_band_ergflnc_error',\n",
       "       'flnc_band_ergflncb', 'flnc_band_ergflncb_error',\n",
       "       'flnc_band_ergflux', 'flnc_band_ergflux_error',\n",
       "       'flnc_band_phtflnc', 'flnc_band_phtflnc_error',\n",
       "       'flnc_band_phtflncb', 'flnc_band_phtflncb_error',\n",
       "       'flnc_band_phtflux', 'flnc_band_phtflux_error',\n",
       "       'flnc_band_phtfluxb', 'flnc_band_phtfluxb_error',\n",
       "       'flnc_band_redchisq', 'flnc_band_redfitstat',\n",
       "       'flnc_band_statistic', 'flnc_comp_ampl', 'flnc_comp_ampl_neg_err',\n",
       "       'flnc_comp_ampl_pos_err', 'flnc_comp_dof', 'flnc_comp_epeak',\n",
       "       'flnc_comp_epeak_neg_err', 'flnc_comp_epeak_pos_err',\n",
       "       'flnc_comp_ergflnc', 'flnc_comp_ergflnc_error',\n",
       "       'flnc_comp_ergflncb', 'flnc_comp_ergflncb_error',\n",
       "       'flnc_comp_ergflux', 'flnc_comp_ergflux_error', 'flnc_comp_index',\n",
       "       'flnc_comp_index_neg_err', 'flnc_comp_index_pos_err',\n",
       "       'flnc_comp_phtflnc', 'flnc_comp_phtflnc_error',\n",
       "       'flnc_comp_phtflncb', 'flnc_comp_phtflncb_error',\n",
       "       'flnc_comp_phtflux', 'flnc_comp_phtflux_error',\n",
       "       'flnc_comp_phtfluxb', 'flnc_comp_phtfluxb_error',\n",
       "       'flnc_comp_pivot', 'flnc_comp_pivot_neg_err',\n",
       "       'flnc_comp_pivot_pos_err', 'flnc_comp_redchisq',\n",
       "       'flnc_comp_redfitstat', 'flnc_comp_statistic', 'flnc_plaw_ampl',\n",
       "       'flnc_plaw_ampl_neg_err', 'flnc_plaw_ampl_pos_err',\n",
       "       'flnc_plaw_dof', 'flnc_plaw_ergflnc', 'flnc_plaw_ergflnc_error',\n",
       "       'flnc_plaw_ergflncb', 'flnc_plaw_ergflncb_error',\n",
       "       'flnc_plaw_ergflux', 'flnc_plaw_ergflux_error', 'flnc_plaw_index',\n",
       "       'flnc_plaw_index_neg_err', 'flnc_plaw_index_pos_err',\n",
       "       'flnc_plaw_phtflnc', 'flnc_plaw_phtflnc_error',\n",
       "       'flnc_plaw_phtflncb', 'flnc_plaw_phtflncb_error',\n",
       "       'flnc_plaw_phtflux', 'flnc_plaw_phtflux_error',\n",
       "       'flnc_plaw_phtfluxb', 'flnc_plaw_phtfluxb_error',\n",
       "       'flnc_plaw_pivot', 'flnc_plaw_pivot_neg_err',\n",
       "       'flnc_plaw_pivot_pos_err', 'flnc_plaw_redchisq',\n",
       "       'flnc_plaw_redfitstat', 'flnc_plaw_statistic', 'flnc_sbpl_ampl',\n",
       "       'flnc_sbpl_ampl_neg_err', 'flnc_sbpl_ampl_pos_err',\n",
       "       'flnc_sbpl_brken', 'flnc_sbpl_brken_neg_err',\n",
       "       'flnc_sbpl_brken_pos_err', 'flnc_sbpl_brksc',\n",
       "       'flnc_sbpl_brksc_neg_err', 'flnc_sbpl_brksc_pos_err',\n",
       "       'flnc_sbpl_dof', 'flnc_sbpl_ergflnc', 'flnc_sbpl_ergflnc_error',\n",
       "       'flnc_sbpl_ergflncb', 'flnc_sbpl_ergflncb_error',\n",
       "       'flnc_sbpl_ergflux', 'flnc_sbpl_ergflux_error', 'flnc_sbpl_indx1',\n",
       "       'flnc_sbpl_indx1_neg_err', 'flnc_sbpl_indx1_pos_err',\n",
       "       'flnc_sbpl_indx2', 'flnc_sbpl_indx2_neg_err',\n",
       "       'flnc_sbpl_indx2_pos_err', 'flnc_sbpl_phtflnc',\n",
       "       'flnc_sbpl_phtflnc_error', 'flnc_sbpl_phtflncb',\n",
       "       'flnc_sbpl_phtflncb_error', 'flnc_sbpl_phtflux',\n",
       "       'flnc_sbpl_phtflux_error', 'flnc_sbpl_phtfluxb',\n",
       "       'flnc_sbpl_phtfluxb_error', 'flnc_sbpl_pivot',\n",
       "       'flnc_sbpl_pivot_neg_err', 'flnc_sbpl_pivot_pos_err',\n",
       "       'flnc_sbpl_redchisq', 'flnc_sbpl_redfitstat',\n",
       "       'flnc_sbpl_statistic', 'flu_high', 'flu_low', 'fluence_batse',\n",
       "       'fluence_batse_error', 'flux_256', 'flux_256_error',\n",
       "       'flux_256_time', 'flux_64_time', 'flux_batse_1024',\n",
       "       'flux_batse_1024_error', 'flux_batse_1024_time', 'flux_batse_256',\n",
       "       'flux_batse_256_error', 'flux_batse_256_time', 'flux_batse_64',\n",
       "       'flux_batse_64_error', 'flux_batse_64_time', 'last_modified',\n",
       "       'lii', 'pflx_band_alpha', 'pflx_band_alpha_neg_err',\n",
       "       'pflx_band_alpha_pos_err', 'pflx_band_ampl',\n",
       "       'pflx_band_ampl_neg_err', 'pflx_band_ampl_pos_err',\n",
       "       'pflx_band_beta', 'pflx_band_beta_neg_err',\n",
       "       'pflx_band_beta_pos_err', 'pflx_band_dof', 'pflx_band_epeak',\n",
       "       'pflx_band_epeak_neg_err', 'pflx_band_epeak_pos_err',\n",
       "       'pflx_band_ergflnc', 'pflx_band_ergflnc_error',\n",
       "       'pflx_band_ergflncb', 'pflx_band_ergflncb_error',\n",
       "       'pflx_band_ergflux', 'pflx_band_ergflux_error',\n",
       "       'pflx_band_phtflnc', 'pflx_band_phtflnc_error',\n",
       "       'pflx_band_phtflncb', 'pflx_band_phtflncb_error',\n",
       "       'pflx_band_phtflux', 'pflx_band_phtflux_error',\n",
       "       'pflx_band_phtfluxb', 'pflx_band_phtfluxb_error',\n",
       "       'pflx_band_redchisq', 'pflx_band_redfitstat',\n",
       "       'pflx_band_statistic', 'pflx_comp_ampl', 'pflx_comp_ampl_neg_err',\n",
       "       'pflx_comp_ampl_pos_err', 'pflx_comp_dof', 'pflx_comp_epeak',\n",
       "       'pflx_comp_epeak_neg_err', 'pflx_comp_epeak_pos_err',\n",
       "       'pflx_comp_ergflnc', 'pflx_comp_ergflnc_error',\n",
       "       'pflx_comp_ergflncb', 'pflx_comp_ergflncb_error',\n",
       "       'pflx_comp_ergflux', 'pflx_comp_ergflux_error', 'pflx_comp_index',\n",
       "       'pflx_comp_index_neg_err', 'pflx_comp_index_pos_err',\n",
       "       'pflx_comp_phtflnc', 'pflx_comp_phtflnc_error',\n",
       "       'pflx_comp_phtflncb', 'pflx_comp_phtflncb_error',\n",
       "       'pflx_comp_phtflux', 'pflx_comp_phtflux_error',\n",
       "       'pflx_comp_phtfluxb', 'pflx_comp_phtfluxb_error',\n",
       "       'pflx_comp_pivot', 'pflx_comp_pivot_neg_err',\n",
       "       'pflx_comp_pivot_pos_err', 'pflx_comp_redchisq',\n",
       "       'pflx_comp_redfitstat', 'pflx_comp_statistic', 'pflx_plaw_ampl',\n",
       "       'pflx_plaw_ampl_neg_err', 'pflx_plaw_ampl_pos_err',\n",
       "       'pflx_plaw_dof', 'pflx_plaw_ergflnc', 'pflx_plaw_ergflnc_error',\n",
       "       'pflx_plaw_ergflncb', 'pflx_plaw_ergflncb_error',\n",
       "       'pflx_plaw_ergflux', 'pflx_plaw_ergflux_error', 'pflx_plaw_index',\n",
       "       'pflx_plaw_index_neg_err', 'pflx_plaw_index_pos_err',\n",
       "       'pflx_plaw_phtflnc', 'pflx_plaw_phtflnc_error',\n",
       "       'pflx_plaw_phtflncb', 'pflx_plaw_phtflncb_error',\n",
       "       'pflx_plaw_phtflux', 'pflx_plaw_phtflux_error',\n",
       "       'pflx_plaw_phtfluxb', 'pflx_plaw_phtfluxb_error',\n",
       "       'pflx_plaw_pivot', 'pflx_plaw_pivot_neg_err',\n",
       "       'pflx_plaw_pivot_pos_err', 'pflx_plaw_redchisq',\n",
       "       'pflx_plaw_redfitstat', 'pflx_plaw_statistic', 'pflx_sbpl_ampl',\n",
       "       'pflx_sbpl_ampl_neg_err', 'pflx_sbpl_ampl_pos_err',\n",
       "       'pflx_sbpl_brken', 'pflx_sbpl_brken_neg_err',\n",
       "       'pflx_sbpl_brken_pos_err', 'pflx_sbpl_brksc',\n",
       "       'pflx_sbpl_brksc_neg_err', 'pflx_sbpl_brksc_pos_err',\n",
       "       'pflx_sbpl_dof', 'pflx_sbpl_ergflnc', 'pflx_sbpl_ergflnc_error',\n",
       "       'pflx_sbpl_ergflncb', 'pflx_sbpl_ergflncb_error',\n",
       "       'pflx_sbpl_ergflux', 'pflx_sbpl_ergflux_error', 'pflx_sbpl_indx1',\n",
       "       'pflx_sbpl_indx1_neg_err', 'pflx_sbpl_indx1_pos_err',\n",
       "       'pflx_sbpl_indx2', 'pflx_sbpl_indx2_neg_err',\n",
       "       'pflx_sbpl_indx2_pos_err', 'pflx_sbpl_phtflnc',\n",
       "       'pflx_sbpl_phtflnc_error', 'pflx_sbpl_phtflncb',\n",
       "       'pflx_sbpl_phtflncb_error', 'pflx_sbpl_phtflux',\n",
       "       'pflx_sbpl_phtflux_error', 'pflx_sbpl_phtfluxb',\n",
       "       'pflx_sbpl_phtfluxb_error', 'pflx_sbpl_pivot',\n",
       "       'pflx_sbpl_pivot_neg_err', 'pflx_sbpl_pivot_pos_err',\n",
       "       'pflx_sbpl_redchisq', 'pflx_sbpl_redfitstat',\n",
       "       'pflx_sbpl_statistic', 'pflx_spectrum_start', 'pflx_spectrum_stop',\n",
       "       'scat_detector_mask', 'scatalog', 't50', 't50_error', 't50_start',\n",
       "       'trigger_name'], dtype='<U24')"
      ]
     },
     "execution_count": 60,
     "metadata": {},
     "output_type": "execute_result"
    }
   ],
   "source": [
    "burstcat.columns"
   ]
  },
  {
   "cell_type": "code",
   "execution_count": 64,
   "id": "5350d59a",
   "metadata": {},
   "outputs": [
    {
     "data": {
      "text/plain": [
       "rec.array([('GRB120403857', 'bn120403857',  4.288, -3.968,      3),\n",
       "           ('GRB120227725', 'bn120227725', 17.408,  0.256,      3),\n",
       "           ('GRB230524357', 'bn230524357', 11.008, -5.632, -99999), ...,\n",
       "           ('GRB130528695', 'bn130528695', 55.553,  0.576,      3),\n",
       "           ('GRB090813174', 'bn090813174',  7.552,  0.384,      3),\n",
       "           ('GRB110201399', 'bn110201399',  8.192, -1.792,      3)],\n",
       "          dtype=[('name', '<U23'), ('trigger_name', '<U23'), ('t90', '<f8'), ('t90_start', '<f8'), ('scatalog', '<i8')])"
      ]
     },
     "execution_count": 64,
     "metadata": {},
     "output_type": "execute_result"
    }
   ],
   "source": [
    "burstcat.get_table(columns=('name','trigger_name', 't90','t90_start','scatalog'))"
   ]
  },
  {
   "cell_type": "code",
   "execution_count": 37,
   "id": "ad9d70bb",
   "metadata": {},
   "outputs": [
    {
     "name": "stdout",
     "output_type": "stream",
     "text": [
      "TTE Downloaded\n"
     ]
    }
   ],
   "source": [
    "#check if exists \n",
    "import os\n",
    "\n",
    "i=0\n",
    "\n",
    "if not os.path.isdir('./'+bursts.trigger_name[i]):\n",
    "    path_tte = './'+bursts.trigger_name[0]\n",
    "    trig_finder.get_tte(path_tte)\n",
    "else:\n",
    "    print('TTE Downloaded')"
   ]
  },
  {
   "cell_type": "code",
   "execution_count": 45,
   "id": "131fa8f8",
   "metadata": {
    "scrolled": false
   },
   "outputs": [
    {
     "data": {
      "image/png": "[encoded data removed]",
      "text/plain": [
       "<Figure size 770x470 with 1 Axes>"
      ]
     },
     "metadata": {},
     "output_type": "display_data"
    }
   ],
   "source": [
    "import gbm\n",
    "from gbm import test_data_dir\n",
    "from gbm.data import TTE\n",
    "from gbm.binning.unbinned import bin_by_time\n",
    "import glob\n",
    "\n",
    "%matplotlib inline\n",
    "from gbm.plot import Lightcurve, Spectrum\n",
    "\n",
    "files_tte = glob.glob(path_tte+'/*tte*')\n",
    "\n",
    "# for i in range(len(files_tte)):\n",
    "# open a TTE file\n",
    "tte = TTE.open(files_tte[8])\n",
    "# bin to 1.024 s resolution, reference time is trigger time\n",
    "phaii = tte.to_phaii(bin_by_time, 1.024*2, time_ref=0.0)\n",
    "\n",
    "erange = (8.0, 900.0)\n",
    "\n",
    "lc_data = phaii.to_lightcurve(energy_range=erange)\n",
    "lcplot = Lightcurve(data=lc_data)\n"
   ]
  },
  {
   "cell_type": "code",
   "execution_count": 59,
   "id": "5139a90b",
   "metadata": {},
   "outputs": [
    {
     "data": {
      "text/plain": [
       "array([-35.84 , -33.792, -31.744, -29.696, -27.648, -25.6  , -23.552,\n",
       "       -21.504, -19.456, -17.408, -15.36 , -13.312, -11.264,  -9.216,\n",
       "        -7.168,  -5.12 ,  -3.072,  -1.024,   1.024,   3.072,   5.12 ,\n",
       "         7.168,   9.216,  11.264,  13.312,  15.36 ,  17.408,  19.456,\n",
       "        21.504,  23.552,  25.6  ,  27.648,  29.696,  31.744,  33.792,\n",
       "        35.84 ,  37.888,  39.936,  41.984,  44.032,  46.08 ,  48.128,\n",
       "        50.176,  52.224,  54.272,  56.32 ,  58.368,  60.416,  62.464,\n",
       "        64.512,  66.56 ,  68.608,  70.656,  72.704,  74.752,  76.8  ,\n",
       "        78.848,  80.896,  82.944,  84.992,  87.04 ,  89.088,  91.136,\n",
       "        93.184,  95.232,  97.28 ,  99.328, 101.376, 103.424, 105.472,\n",
       "       107.52 , 109.568, 111.616, 113.664, 115.712, 117.76 , 119.808,\n",
       "       121.856, 123.904, 125.952, 128.   , 130.048, 132.096, 134.144,\n",
       "       136.192, 138.24 , 140.288, 142.336, 144.384, 146.432, 148.48 ,\n",
       "       150.528, 152.576, 154.624, 156.672, 158.72 , 160.768, 162.816,\n",
       "       164.864, 166.912, 168.96 , 171.008, 173.056, 175.104, 177.152,\n",
       "       179.2  , 181.248, 183.296, 185.344, 187.392, 189.44 , 191.488,\n",
       "       193.536, 195.584, 197.632, 199.68 , 201.728, 203.776, 205.824,\n",
       "       207.872, 209.92 , 211.968, 214.016, 216.064, 218.112, 220.16 ,\n",
       "       222.208, 224.256, 226.304, 228.352, 230.4  , 232.448, 234.496,\n",
       "       236.544, 238.592, 240.64 , 242.688, 244.736, 246.784, 248.832,\n",
       "       250.88 , 252.928, 254.976, 257.024, 259.072, 261.12 , 263.168,\n",
       "       265.216, 267.264, 269.312, 271.36 , 273.408, 275.456, 277.504,\n",
       "       279.552, 281.6  , 283.648, 285.696, 287.744, 289.792, 291.84 ,\n",
       "       293.888, 295.936, 297.984, 300.032])"
      ]
     },
     "execution_count": 59,
     "metadata": {},
     "output_type": "execute_result"
    }
   ],
   "source": [
    "lc_data.counts\n",
    "lc_data.centroids\n"
   ]
  },
  {
   "cell_type": "code",
   "execution_count": 2,
   "id": "8dfb2aa4",
   "metadata": {},
   "outputs": [
    {
     "name": "stdout",
     "output_type": "stream",
     "text": [
      "Downloading Catalog from HEASARC via w3query.pl...\n",
      "Finished in 9 s\n"
     ]
    },
    {
     "data": {
      "text/plain": [
       "rec.array([('bn120403857', '2012-04-03 20:33:58.493'),\n",
       "           ('bn140912846', '2014-09-12 20:18:03.669'),\n",
       "           ('bn120227725', '2012-02-27 17:24:41.054'), ...,\n",
       "           ('bn110201399', '2011-02-01 09:35:10.251'),\n",
       "           ('bn150705660', '2015-07-05 15:50:18.845'),\n",
       "           ('bn220403863', '2022-04-03 20:42:39.048')],\n",
       "          dtype=[('trigger_name', '<U23'), ('trigger_time', '<U23')])"
      ]
     },
     "execution_count": 2,
     "metadata": {},
     "output_type": "execute_result"
    }
   ],
   "source": [
    "from gbm.finder import TriggerCatalog\n",
    "\n",
    "trigcat = TriggerCatalog()\n",
    "trigcat.num_rows\n",
    "trigcat.columns\n",
    "# error_radius is the statistical localization radius in degrees\n",
    "trigcat.column_range('error_radius')\n",
    "trigcat.get_table(columns=('trigger_name', 'trigger_time'))\n"
   ]
  },
  {
   "cell_type": "code",
   "execution_count": 3,
   "id": "7bf5a93d",
   "metadata": {},
   "outputs": [
    {
     "data": {
      "text/plain": [
       "2772"
      ]
     },
     "execution_count": 3,
     "metadata": {},
     "output_type": "execute_result"
    }
   ],
   "source": [
    "sliced_trigcat = trigcat.slice('error_radius', lo=1.1, hi=10.0)\n",
    "sliced_trigcat.num_rows"
   ]
  },
  {
   "cell_type": "code",
   "execution_count": 4,
   "id": "8d23032f",
   "metadata": {},
   "outputs": [
    {
     "data": {
      "text/plain": [
       "rec.array([('bn120227725', '2012-02-27 17:24:41.054'),\n",
       "           ('bn230524357', '2023-05-24 08:34:31.512'),\n",
       "           ('bn141205018', '2014-12-05 00:25:29.813'), ...,\n",
       "           ('bn091012783', '2009-10-12 18:47:02.770'),\n",
       "           ('bn180304259', '2018-03-04 06:12:47.267'),\n",
       "           ('bn220810258', '2022-08-10 06:12:01.186')],\n",
       "          dtype=[('trigger_name', '<U23'), ('trigger_time', '<U23')])"
      ]
     },
     "execution_count": 4,
     "metadata": {},
     "output_type": "execute_result"
    }
   ],
   "source": [
    "sliced_trigcat.get_table(columns=('trigger_name', 'trigger_time'))\n"
   ]
  },
  {
   "cell_type": "code",
   "execution_count": 5,
   "id": "e41fbe3a",
   "metadata": {},
   "outputs": [
    {
     "data": {
      "text/plain": [
       "856"
      ]
     },
     "execution_count": 5,
     "metadata": {},
     "output_type": "execute_result"
    }
   ],
   "source": [
    "sliced_trigcat2 = trigcat.slices([('error_radius', 1.1, 10.0), ('trigger_time', '2019-01-01 00:00:00', None)])\n",
    "sliced_trigcat2.num_rows"
   ]
  },
  {
   "cell_type": "code",
   "execution_count": 6,
   "id": "937f1fe2",
   "metadata": {},
   "outputs": [
    {
     "data": {
      "text/plain": [
       "rec.array([('bn090704783', '2019-01-02 06:11:31.125',  6.35  ),\n",
       "           ('bn140603476', '2019-01-17 08:50:43.596',  2.13  ),\n",
       "           ('bn130104721', '2019-01-18 22:29:49.932',  2.44  ),\n",
       "           ('bn150622879', '2019-01-19 05:59:03.575',  6.1833),\n",
       "           ('bn091023021', '2019-01-29 12:55:42.675',  7.23  ),\n",
       "           ('bn110331604', '2019-01-31 02:36:33.938',  4.66  ),\n",
       "           ('bn160330827', '2019-01-31 23:08:35.673',  4.75  ),\n",
       "           ('bn201118405', '2019-02-01 06:03:28.818',  2.69  ),\n",
       "           ('bn170423872', '2019-02-02 05:36:55.718',  2.52  ),\n",
       "           ('bn201218798', '2019-02-02 15:13:12.939',  5.72  ),\n",
       "           ('bn181119649', '2019-02-03 23:24:11.710',  9.54  ),\n",
       "           ('bn220308233', '2019-02-04 15:02:50.914',  5.29  ),\n",
       "           ('bn220501478', '2019-02-05 22:31:15.658',  9.83  ),\n",
       "           ('bn140807500', '2019-02-15 18:31:22.475',  2.53  ),\n",
       "           ('bn120222021', '2019-02-17 04:31:26.137',  2.76  ),\n",
       "           ('bn170618475', '2019-02-18 07:54:33.343',  1.97  ),\n",
       "           ('bn190406745', '2019-02-22 07:29:35.526',  5.46  ),\n",
       "           ('bn081217983', '2019-02-22 12:53:27.151',  2.    ),\n",
       "           ('bn081226156', '2019-02-26 12:21:45.676',  2.4   ),\n",
       "           ('bn100406758', '2019-02-28 23:21:16.317',  6.49  ),\n",
       "           ('bn110401920', '2019-03-03 05:45:22.235',  3.76  ),\n",
       "           ('bn150120685', '2019-03-04 08:54:35.515',  9.94  ),\n",
       "           ('bn100515467', '2019-03-04 19:37:23.342',  2.17  ),\n",
       "           ('bn150724398', '2019-03-06 22:37:43.178',  8.83  ),\n",
       "           ('bn211021460', '2019-03-07 03:37:16.537',  5.45  ),\n",
       "           ('bn210731367', '2019-03-10 09:32:32.569',  7.43  ),\n",
       "           ('bn150804806', '2019-03-12 10:42:10.794',  2.19  ),\n",
       "           ('bn101220864', '2019-03-13 03:36:00.811',  1.48  ),\n",
       "           ('bn080927480', '2019-03-15 12:17:42.138',  4.6   ),\n",
       "           ('bn221014300', '2019-03-19 08:28:17.514',  1.25  ),\n",
       "           ('bn201119343', '2019-03-19 09:00:37.980',  2.    ),\n",
       "           ('bn180823442', '2019-03-21 08:42:33.858',  5.44  ),\n",
       "           ('bn170504734', '2019-03-23 04:17:14.965',  9.71  ),\n",
       "           ('bn170528284', '2019-03-23 07:16:51.688',  9.65  ),\n",
       "           ('bn201124634', '2019-03-25 23:58:57.211',  3.75  ),\n",
       "           ('bn170306130', '2019-03-26 07:31:38.998',  2.26  ),\n",
       "           ('bn150128791', '2019-03-26 23:24:41.342',  3.32  ),\n",
       "           ('bn100629801', '2019-03-27 02:39:10.973',  3.32  ),\n",
       "           ('bn130528503', '2019-03-30 16:39:32.274',  5.5   ),\n",
       "           ('bn230513929', '2019-04-06 11:09:47.053',  7.54  ),\n",
       "           ('bn201222461', '2019-04-06 17:52:33.155',  4.96  ),\n",
       "           ('bn130828808', '2019-04-07 13:48:36.785',  2.43  ),\n",
       "           ('bn200922753', '2019-04-07 16:07:26.493',  7.43  ),\n",
       "           ('bn220714186', '2019-04-07 18:54:41.578',  6.75  ),\n",
       "           ('bn180103090', '2019-04-08 12:52:18.176',  6.97  ),\n",
       "           ('bn230220892', '2019-04-11 09:45:48.597',  6.98  ),\n",
       "           ('bn110123804', '2019-04-11 13:53:58.091',  1.16  ),\n",
       "           ('bn150319271', '2019-04-19 09:55:37.770',  2.36  ),\n",
       "           ('bn161125931', '2019-04-20 23:32:24.966',  4.57  ),\n",
       "           ('bn220109540', '2019-04-22 06:48:17.495',  7.25  ),\n",
       "           ('bn141226880', '2019-04-22 16:05:04.521',  6.26  ),\n",
       "           ('bn210225218', '2019-04-28 18:48:12.460',  3.41  ),\n",
       "           ('bn150226545', '2019-04-29 17:49:50.579',  2.58  ),\n",
       "           ('bn230527290', '2019-05-02 04:01:30.415',  3.25  ),\n",
       "           ('bn150618674', '2019-05-04 09:57:34.203',  6.53  ),\n",
       "           ('bn111201599', '2019-05-04 16:16:28.313',  8.63  ),\n",
       "           ('bn080730786', '2019-05-05 01:14:09.330',  2.1   ),\n",
       "           ('bn220715691', '2019-05-07 06:28:23.301',  6.36  ),\n",
       "           ('bn220821296', '2019-05-07 23:16:29.638',  3.56  ),\n",
       "           ('bn110705364', '2019-05-08 19:22:50.400',  3.08  ),\n",
       "           ('bn151231568', '2019-05-10 02:52:13.232',  3.05  ),\n",
       "           ('bn111112908', '2019-05-10 10:19:16.044',  3.83  ),\n",
       "           ('bn200110518', '2019-05-13 19:47:08.098',  2.25  ),\n",
       "           ('bn170101374', '2019-05-17 19:30:10.172',  9.07  ),\n",
       "           ('bn220321282', '2019-05-25 00:45:47.652',  8.55  ),\n",
       "           ('bn230523474', '2019-05-31 07:29:11.825',  3.68  ),\n",
       "           ('bn171108656', '2019-06-01 07:47:24.176',  4.9   ),\n",
       "           ('bn141105406', '2019-06-03 19:04:25.984',  4.1   ),\n",
       "           ('bn170313125', '2019-06-05 23:22:27.118',  6.33  ),\n",
       "           ('bn200517786', '2019-06-06 01:55:07.776',  7.06  ),\n",
       "           ('bn221213290', '2019-06-07 01:42:44.289',  3.4333),\n",
       "           ('bn100211440', '2019-06-08 00:12:18.394',  2.46  ),\n",
       "           ('bn170714049', '2019-06-09 07:34:05.259',  5.35  ),\n",
       "           ('bn230516743', '2019-06-10 17:59:49.908',  8.35  ),\n",
       "           ('bn130331566', '2019-06-12 03:57:24.648',  2.43  ),\n",
       "           ('bn130523095', '2019-06-15 15:16:27.372',  2.82  ),\n",
       "           ('bn130106829', '2019-06-19 00:26:01.777',  4.99  ),\n",
       "           ('bn181217665', '2019-06-19 14:16:25.891',  1.8   ),\n",
       "           ('bn100315361', '2019-06-20 12:10:10.809',  5.53  ),\n",
       "           ('bn181008269', '2019-06-23 11:03:27.095',  1.11  ),\n",
       "           ('bn090610883', '2019-06-26 06:06:21.684',  8.17  ),\n",
       "           ('bn191027638', '2019-06-28 12:30:55.320',  2.62  ),\n",
       "           ('bn090730608', '2019-06-30 06:09:58.319',  3.67  ),\n",
       "           ('bn190620507', '2019-07-07 06:50:05.127',  1.16  ),\n",
       "           ('bn210915530', '2019-07-07 07:23:01.216',  5.59  ),\n",
       "           ('bn131217108', '2019-07-08 08:45:11.798',  6.41  ),\n",
       "           ('bn230322873', '2019-07-10 00:19:20.250',  7.29  ),\n",
       "           ('bn080830368', '2019-07-12 00:25:20.655',  2.5   ),\n",
       "           ('bn200607362', '2019-07-12 02:16:41.727',  2.1   ),\n",
       "           ('bn200630980', '2019-07-14 13:44:39.039',  3.92  ),\n",
       "           ('bn130612456', '2019-07-16 00:27:59.548',  1.79  ),\n",
       "           ('bn160827837', '2019-07-16 22:00:08.119',  5.83  ),\n",
       "           ('bn120723487', '2019-07-19 02:42:21.537',  5.3667),\n",
       "           ('bn140825328', '2019-07-19 11:57:51.264',  2.66  ),\n",
       "           ('bn140126815', '2019-07-20 14:42:09.784',  5.84  ),\n",
       "           ('bn090419997', '2019-07-20 23:08:38.764',  3.6   ),\n",
       "           ('bn201231447', '2019-07-26 15:24:53.610',  9.48  ),\n",
       "           ('bn190304371', '2019-07-26 20:14:30.561',  1.66  ),\n",
       "           ('bn140227738', '2019-07-28 06:30:36.852',  8.19  ),\n",
       "           ('bn140628704', '2019-08-04 19:00:37.518',  9.04  ),\n",
       "           ('bn201122721', '2019-08-05 02:32:30.450',  1.48  ),\n",
       "           ('bn220119490', '2019-08-05 04:46:00.970',  8.3333),\n",
       "           ('bn200111633', '2019-08-05 05:40:46.904',  3.47  ),\n",
       "           ('bn110706728', '2019-08-06 16:12:33.324',  4.11  ),\n",
       "           ('bn130220964', '2019-08-08 18:03:17.432',  1.14  ),\n",
       "           ('bn170422019', '2019-08-10 16:12:01.243',  7.    ),\n",
       "           ('bn200925610', '2019-08-28 14:44:26.448',  7.23  ),\n",
       "           ('bn201221591', '2019-08-30 00:32:48.260',  4.06  ),\n",
       "           ('bn180517309', '2019-08-30 06:20:46.350',  3.72  ),\n",
       "           ('bn221215673', '2019-08-31 07:57:31.191',  4.12  ),\n",
       "           ('bn090227772', '2019-08-31 16:38:37.978',  1.8   ),\n",
       "           ('bn090529310', '2019-09-03 17:19:36.255',  7.2   ),\n",
       "           ('bn100212550', '2019-09-05 23:38:28.489',  1.38  ),\n",
       "           ('bn120604526', '2019-09-06 18:25:09.288',  8.5333),\n",
       "           ('bn170929513', '2019-09-10 00:39:37.860',  2.59  ),\n",
       "           ('bn110217591', '2019-09-15 05:44:57.911',  8.49  ),\n",
       "           ('bn170830328', '2019-09-19 18:20:02.656',  4.07  ),\n",
       "           ('bn161001444', '2019-09-21 16:45:55.125',  5.2   ),\n",
       "           ('bn080924766', '2019-09-23 14:48:02.751',  4.4   ),\n",
       "           ('bn210127268', '2019-09-30 09:36:06.502',  7.06  ),\n",
       "           ('bn161111197', '2019-10-09 07:08:56.769',  4.5   ),\n",
       "           ('bn080821332', '2019-10-15 07:50:43.992',  3.6   ),\n",
       "           ('bn150416992', '2019-10-17 09:23:39.266',  9.8   ),\n",
       "           ('bn150127935', '2019-10-19 11:15:15.469',  9.66  ),\n",
       "           ('bn120217904', '2019-10-22 06:50:05.074',  1.5   ),\n",
       "           ('bn101225377', '2019-10-22 08:11:06.253',  1.81  ),\n",
       "           ('bn081206275', '2019-10-23 15:06:56.755',  6.4   ),\n",
       "           ('bn230304265', '2019-10-25 22:13:42.213',  1.61  ),\n",
       "           ('bn140516765', '2019-10-26 08:23:44.459',  3.81  ),\n",
       "           ('bn230110649', '2019-10-27 15:19:07.590',  3.14  ),\n",
       "           ('bn080724401', '2019-10-28 04:10:01.398',  1.6   ),\n",
       "           ('bn160808542', '2019-10-28 05:05:21.712',  6.05  ),\n",
       "           ('bn100307928', '2019-10-28 14:08:04.442',  4.06  ),\n",
       "           ('bn150317588', '2019-11-01 21:28:50.523',  2.62  ),\n",
       "           ('bn190504678', '2019-11-04 12:38:38.563',  7.65  ),\n",
       "           ('bn200221162', '2019-11-04 15:36:47.645',  5.04  ),\n",
       "           ('bn140404171', '2019-11-08 00:04:37.596',  2.19  ),\n",
       "           ('bn081223419', '2019-11-10 14:05:34.993',  3.8   ),\n",
       "           ('bn110806023', '2019-11-11 08:19:09.572',  4.2167),\n",
       "           ('bn110304071', '2019-11-11 08:44:29.948',  4.23  ),\n",
       "           ('bn131122490', '2019-11-11 13:07:10.792',  1.69  ),\n",
       "           ('bn090328713', '2019-11-12 08:51:18.192',  7.9   ),\n",
       "           ('bn141030746', '2019-11-13 13:52:44.522',  6.65  ),\n",
       "           ('bn111230683', '2019-11-17 00:08:28.724',  2.78  ),\n",
       "           ('bn111203054', '2019-11-18 22:12:01.821',  3.23  ),\n",
       "           ('bn200601097', '2019-11-25 15:12:45.686',  1.73  ),\n",
       "           ('bn180211754', '2019-11-29 03:22:27.127',  9.25  ),\n",
       "           ('bn190510430', '2019-11-30 06:04:41.797',  3.54  ),\n",
       "           ('bn121221916', '2019-11-30 12:09:34.900',  4.22  ),\n",
       "           ('bn110831282', '2019-12-11 06:03:47.840',  5.86  ),\n",
       "           ('bn150716006', '2019-12-12 05:52:18.051',  5.3667),\n",
       "           ('bn160219673', '2019-12-13 06:05:33.022',  2.56  ),\n",
       "           ('bn160807550', '2019-12-13 18:49:07.969',  5.9667),\n",
       "           ('bn180517520', '2019-12-20 14:08:29.264',  5.6333),\n",
       "           ('bn160306898', '2019-12-21 19:14:28.844',  5.1   ),\n",
       "           ('bn220924906', '2019-12-25 07:25:16.497',  5.16  ),\n",
       "           ('bn131108024', '2019-12-25 17:37:51.867',  4.7   ),\n",
       "           ('bn131127696', '2019-12-27 17:21:44.144',  8.66  ),\n",
       "           ('bn200531119', '2020-01-05 21:55:28.993',  3.97  ),\n",
       "           ('bn100225703', '2020-01-10 12:26:08.356',  3.94  ),\n",
       "           ('bn090802235', '2020-01-11 15:11:08.106',  3.9   ),\n",
       "           ('bn090126227', '2020-01-12 12:36:31.101',  3.6   ),\n",
       "           ('bn170804911', '2020-01-14 03:40:43.724',  3.86  ),\n",
       "           ('bn220807581', '2020-01-17 12:24:06.532',  7.8   ),\n",
       "           ('bn100805300', '2020-01-19 16:37:07.531',  7.65  ),\n",
       "           ('bn220115597', '2020-01-27 18:11:18.671',  6.3333),\n",
       "           ('bn220115527', '2020-01-30 05:57:16.079',  6.3333),\n",
       "           ('bn170925611', '2020-01-30 09:59:56.672',  9.2667),\n",
       "           ('bn150928359', '2020-02-01 00:57:20.322',  4.57  ),\n",
       "           ('bn110501663', '2020-02-03 03:44:03.546',  8.3167),\n",
       "           ('bn221020008', '2020-02-03 20:39:37.917',  6.58  ),\n",
       "           ('bn110311812', '2020-02-04 12:25:17.161',  9.68  ),\n",
       "           ('bn110928180', '2020-02-05 20:17:23.328',  1.42  ),\n",
       "           ('bn190726642', '2020-02-07 01:22:55.598',  1.17  ),\n",
       "           ('bn180610791', '2020-02-08 01:14:17.086',  2.16  ),\n",
       "           ('bn230703990', '2020-02-19 09:54:14.678',  6.9333),\n",
       "           ('bn111231622', '2020-02-21 03:52:58.711',  8.52  ),\n",
       "           ('bn170322636', '2020-02-23 19:32:03.243',  5.4333),\n",
       "           ('bn181122381', '2020-02-24 05:05:49.279',  4.16  ),\n",
       "           ('bn140519043', '2020-03-01 07:40:46.355',  5.43  ),\n",
       "           ('bn181008482', '2020-03-13 10:57:12.130',  6.6833),\n",
       "           ('bn101224614', '2020-03-17 00:40:30.488',  8.86  ),\n",
       "           ('bn180309322', '2020-03-19 07:44:40.320',  2.08  ),\n",
       "           ('bn160721806', '2020-03-20 09:56:46.851',  3.3   ),\n",
       "           ('bn120321986', '2020-03-23 18:46:32.956',  6.9667),\n",
       "           ('bn080916547', '2020-03-26 12:24:47.903',  5.5333),\n",
       "           ('bn220713691', '2020-03-27 20:56:48.165',  4.62  ),\n",
       "           ('bn091214495', '2020-04-02 09:39:37.908',  8.    ),\n",
       "           ('bn120612680', '2020-04-02 16:30:29.655',  7.08  ),\n",
       "           ('bn110506946', '2020-04-02 19:46:23.077',  8.8667),\n",
       "           ('bn171215705', '2020-04-03 22:04:03.419',  4.72  ),\n",
       "           ('bn160318342', '2020-04-03 23:21:57.371',  3.15  ),\n",
       "           ('bn120703417', '2020-04-04 16:57:02.830',  2.6   ),\n",
       "           ('bn171003470', '2020-04-05 09:27:21.555',  7.1167),\n",
       "           ('bn221226698', '2020-04-07 06:22:01.482',  1.2   ),\n",
       "           ('bn140429975', '2020-04-07 09:18:33.475',  6.09  ),\n",
       "           ('bn150208929', '2020-04-12 06:57:11.947',  4.17  ),\n",
       "           ('bn090207777', '2020-04-18 20:45:00.278',  3.8   ),\n",
       "           ('bn110618964', '2020-04-21 20:45:59.726',  6.9167),\n",
       "           ('bn120520949', '2020-04-25 16:49:50.945',  8.3   ),\n",
       "           ('bn200826187', '2020-05-01 10:25:44.847',  1.74  ),\n",
       "           ('bn150914598', '2020-05-02 13:46:33.856',  5.0333),\n",
       "           ('bn200407388', '2020-05-03 17:18:33.570',  4.74  ),\n",
       "           ('bn081003644', '2020-05-05 23:50:44.085',  6.9   ),\n",
       "           ('bn090610648', '2020-05-06 00:28:41.053',  5.18  ),\n",
       "           ('bn100928645', '2020-05-06 09:41:08.981',  9.6667),\n",
       "           ('bn120120432', '2020-05-07 15:52:58.839',  5.71  ),\n",
       "           ('bn140526964', '2020-05-09 22:59:04.499',  5.8333),\n",
       "           ('bn130623130', '2020-05-10 10:41:16.959',  7.2   ),\n",
       "           ('bn160407673', '2020-05-17 18:52:28.279',  3.13  ),\n",
       "           ('bn190131964', '2020-05-22 15:36:39.467',  2.16  ),\n",
       "           ('bn230628734', '2020-05-25 14:40:28.486',  3.32  ),\n",
       "           ('bn200919569', '2020-05-29 12:05:34.896',  8.89  ),\n",
       "           ('bn150317654', '2020-05-31 02:51:18.524',  6.6833),\n",
       "           ('bn170928607', '2020-06-01 02:19:49.995',  8.24  ),\n",
       "           ('bn110226989', '2020-06-04 18:39:45.859',  7.07  ),\n",
       "           ('bn220501201', '2020-06-07 08:41:49.657',  5.04  ),\n",
       "           ('bn140827763', '2020-06-09 09:06:59.309',  1.82  ),\n",
       "           ('bn110904124', '2020-06-14 14:34:55.239',  2.63  ),\n",
       "           ('bn140610487', '2020-06-15 06:00:05.083',  8.18  ),\n",
       "           ('bn201108645', '2020-06-16 01:09:15.631',  9.68  ),\n",
       "           ('bn150806478', '2020-06-16 15:41:47.725',  6.3833),\n",
       "           ('bn130623790', '2020-06-19 02:36:11.670',  4.63  ),\n",
       "           ('bn171213061', '2020-06-19 06:03:22.367',  7.39  ),\n",
       "           ('bn160508290', '2020-06-19 11:48:43.086',  8.35  ),\n",
       "           ('bn160804576', '2020-06-22 02:11:48.116',  5.    ),\n",
       "           ('bn230420570', '2020-06-23 18:02:48.953',  6.76  ),\n",
       "           ('bn210529996', '2020-06-25 12:45:49.143',  5.83  ),\n",
       "           ('bn110124784', '2020-06-29 12:49:49.292',  9.14  ),\n",
       "           ('bn110710507', '2020-06-30 23:31:21.894',  7.8667),\n",
       "           ('bn150319498', '2020-07-03 08:11:39.611',  2.88  ),\n",
       "           ('bn151222340', '2020-07-03 23:16:41.839',  2.89  ),\n",
       "           ('bn090228976', '2020-07-06 15:12:08.383',  3.3   ),\n",
       "           ('bn100405414', '2020-07-07 01:44:02.537',  7.4667),\n",
       "           ('bn090726218', '2020-07-09 03:31:16.764',  7.06  ),\n",
       "           ('bn120702891', '2020-07-13 22:02:40.092',  8.48  ),\n",
       "           ('bn120217808', '2020-07-14 05:56:02.259',  3.23  ),\n",
       "           ('bn150922462', '2020-07-14 08:15:25.914',  4.3167),\n",
       "           ('bn210518889', '2020-07-14 10:28:45.459',  6.1   ),\n",
       "           ('bn181119606', '2020-07-16 07:34:28.480',  1.75  ),\n",
       "           ('bn091112928', '2020-07-22 02:14:55.944',  4.54  ),\n",
       "           ('bn210324468', '2020-07-23 16:35:24.787',  3.11  ),\n",
       "           ('bn100621452', '2020-07-24 05:06:18.985',  2.81  ),\n",
       "           ('bn160818230', '2020-08-01 15:35:46.754',  7.76  ),\n",
       "           ('bn190215772', '2020-08-02 11:46:46.843',  1.19  ),\n",
       "           ('bn181121401', '2020-08-03 16:52:43.637',  8.    ),\n",
       "           ('bn210424694', '2020-08-08 11:15:57.405',  8.58  ),\n",
       "           ('bn100219026', '2020-08-09 05:04:31.565',  2.93  ),\n",
       "           ('bn170614255', '2020-08-09 06:07:22.164',  3.48  ),\n",
       "           ('bn150712960', '2020-08-11 15:10:42.684', 10.    ),\n",
       "           ('bn191017391', '2020-08-16 11:39:31.527',  1.5   ),\n",
       "           ('bn160805498', '2020-08-26 04:29:52.571',  2.86  ),\n",
       "           ('bn200506404', '2020-08-30 09:54:18.490',  2.15  ),\n",
       "           ('bn160628136', '2020-08-31 11:06:00.842',  8.52  ),\n",
       "           ('bn230117211', '2020-09-03 02:42:40.872',  6.54  ),\n",
       "           ('bn200425701', '2020-09-07 22:57:28.091',  7.25  ),\n",
       "           ('bn110130230', '2020-09-08 21:15:41.430',  6.75  ),\n",
       "           ('bn200622092', '2020-09-09 04:01:22.387',  1.35  ),\n",
       "           ('bn091209001', '2020-09-14 12:48:30.034',  2.93  ),\n",
       "           ('bn160322552', '2020-09-16 19:28:39.957',  4.65  ),\n",
       "           ('bn100517518', '2020-09-19 09:35:23.295',  7.75  ),\n",
       "           ('bn140124527', '2020-09-19 13:38:51.064',  2.02  ),\n",
       "           ('bn121125469', '2020-09-19 23:08:22.645',  5.24  ),\n",
       "           ('bn200502574', '2020-09-20 19:56:59.570',  2.7   ),\n",
       "           ('bn160807480', '2020-09-22 17:13:53.618',  5.8833),\n",
       "           ('bn171202113', '2020-09-22 18:04:24.240',  2.68  ),\n",
       "           ('bn160102936', '2020-09-24 05:38:29.540',  3.46  ),\n",
       "           ('bn110920338', '2020-09-24 06:48:55.203',  5.    ),\n",
       "           ('bn140626843', '2020-09-24 09:15:20.824',  6.61  ),\n",
       "           ('bn110524510', '2020-09-25 14:38:02.660',  6.95  ),\n",
       "           ('bn210910456', '2020-09-28 13:14:39.150',  9.5333),\n",
       "           ('bn171017823', '2020-10-04 02:16:01.088',  5.54  ),\n",
       "           ('bn160206566', '2020-10-04 08:45:57.614',  6.25  ),\n",
       "           ('bn091107635', '2020-10-07 02:56:38.168',  4.46  ),\n",
       "           ('bn150211239', '2020-10-08 18:06:00.936',  9.08  ),\n",
       "           ('bn150317580', '2020-10-11 15:06:24.659',  5.7167),\n",
       "           ('bn210903077', '2020-10-11 20:04:36.171',  5.38  ),\n",
       "           ('bn190129539', '2020-10-12 05:35:38.502',  6.2   ),\n",
       "           ('bn161227498', '2020-10-16 03:16:21.143',  4.88  ),\n",
       "           ('bn130924910', '2020-10-19 01:40:02.642',  5.86  ),\n",
       "           ('bn151211672', '2020-10-19 11:36:22.276',  5.96  ),\n",
       "           ('bn201008754', '2020-10-20 17:33:54.329',  4.    ),\n",
       "           ('bn140224788', '2020-10-21 02:39:55.415',  3.69  ),\n",
       "           ('bn090428441', '2020-10-31 17:51:24.536',  4.2   ),\n",
       "           ('bn110828435', '2020-11-04 19:23:25.206',  9.05  ),\n",
       "           ('bn190504415', '2020-11-05 05:09:32.233',  7.85  ),\n",
       "           ('bn100923844', '2020-11-08 15:28:23.267',  5.35  ),\n",
       "           ('bn190808752', '2020-11-09 02:31:05.793',  1.38  ),\n",
       "           ('bn220211047', '2020-11-18 09:43:48.444',  8.66  ),\n",
       "           ('bn120105584', '2020-11-19 08:13:13.510',  2.8   ),\n",
       "           ('bn140714268', '2020-11-21 01:29:49.006',  1.14  ),\n",
       "           ('bn200313456', '2020-11-21 03:07:45.547',  5.27  ),\n",
       "           ('bn190407672', '2020-11-21 10:02:44.050',  4.54  ),\n",
       "           ('bn170829674', '2020-11-22 14:58:07.917',  3.56  ),\n",
       "           ('bn170604603', '2020-11-22 16:49:15.973',  4.1   ),\n",
       "           ('bn080802386', '2020-11-22 17:17:38.742',  4.1   ),\n",
       "           ('bn130219775', '2020-11-23 17:15:03.337',  1.21  ),\n",
       "           ('bn100614498', '2020-11-24 15:12:51.361',  2.99  ),\n",
       "           ('bn220902438', '2020-11-27 03:31:44.755',  8.61  ),\n",
       "           ('bn190603795', '2020-12-01 02:52:14.911',  5.86  ),\n",
       "           ('bn170815526', '2020-12-07 23:26:55.727',  5.32  ),\n",
       "           ('bn130118482', '2020-12-13 03:53:30.699',  6.7   ),\n",
       "           ('bn100525744', '2020-12-13 17:54:05.752',  3.55  ),\n",
       "           ('bn170717952', '2020-12-17 02:35:03.511',  8.17  ),\n",
       "           ('bn230621990', '2020-12-18 19:09:13.922',  4.54  ),\n",
       "           ('bn160804775', '2020-12-21 14:11:43.014',  1.92  ),\n",
       "           ('bn120224282', '2020-12-21 23:28:47.633',  4.6   ),\n",
       "           ('bn120605453', '2020-12-22 11:03:25.686',  2.62  ),\n",
       "           ('bn170310883', '2020-12-23 04:09:46.408',  9.76  ),\n",
       "           ('bn220624431', '2020-12-26 13:16:26.600',  4.06  ),\n",
       "           ('bn180722993', '2020-12-29 15:20:12.706',  3.5   ),\n",
       "           ('bn220114168', '2020-12-31 10:44:19.747',  8.45  ),\n",
       "           ('bn190720613', '2020-12-31 13:12:41.630',  1.16  ),\n",
       "           ('bn170403707', '2021-01-01 14:53:06.860',  2.28  ),\n",
       "           ('bn111010709', '2021-01-01 20:39:23.613',  1.67  ),\n",
       "           ('bn180826356', '2021-01-05 16:03:05.920',  5.95  ),\n",
       "           ('bn130204484', '2021-01-06 00:10:45.287',  7.07  ),\n",
       "           ('bn230324149', '2021-01-06 05:11:16.402',  8.1167),\n",
       "           ('bn220316476', '2021-01-08 10:10:10.464',  2.86  ),\n",
       "           ('bn110107886', '2021-01-17 10:58:52.032',  3.28  ),\n",
       "           ('bn220104167', '2021-01-23 07:19:03.067',  3.1   ),\n",
       "           ('bn110903009', '2021-01-25 08:52:00.399',  1.18  ),\n",
       "           ('bn190505051', '2021-01-26 10:00:05.890',  9.54  ),\n",
       "           ('bn211223350', '2021-01-27 06:26:17.020',  8.06  ),\n",
       "           ('bn200402403', '2021-02-01 13:36:22.493',  5.08  ),\n",
       "           ('bn190804792', '2021-02-02 20:10:31.299',  4.44  ),\n",
       "           ('bn091109895', '2021-02-04 06:29:25.656',  4.09  ),\n",
       "           ('bn100902990', '2021-02-04 18:38:59.570',  7.2   ),\n",
       "           ('bn171009138', '2021-02-07 14:27:58.984',  5.11  ),\n",
       "           ('bn150623397', '2021-02-10 17:07:07.657',  6.2167),\n",
       "           ('bn190610750', '2021-02-13 17:47:14.165',  1.21  ),\n",
       "           ('bn080816503', '2021-02-25 05:13:35.722',  2.    ),\n",
       "           ('bn130517781', '2021-02-27 02:45:10.888',  1.5   ),\n",
       "           ('bn201127147', '2021-02-28 01:22:53.968',  6.58  ),\n",
       "           ('bn230225460', '2021-03-03 10:11:38.358',  2.22  ),\n",
       "           ('bn100609783', '2021-03-08 20:06:00.143',  2.53  ),\n",
       "           ('bn200831462', '2021-03-12 04:04:04.895',  8.45  ),\n",
       "           ('bn220401896', '2021-03-15 17:10:51.604',  5.    ),\n",
       "           ('bn230701948', '2021-03-17 09:08:29.045',  2.89  ),\n",
       "           ('bn230430325', '2021-03-24 11:14:28.212',  3.04  ),\n",
       "           ('bn110328520', '2021-03-24 19:59:58.322',  1.7   ),\n",
       "           ('bn171106498', '2021-03-28 20:45:16.970',  3.12  ),\n",
       "           ('bn140501497', '2021-04-01 23:17:04.029',  2.73  ),\n",
       "           ('bn210924960', '2021-04-06 22:46:05.228',  9.94  ),\n",
       "           ('bn230713999', '2021-04-11 03:30:56.435',  5.45  ),\n",
       "           ('bn100424876', '2021-04-11 13:32:44.633',  2.42  ),\n",
       "           ('bn151118554', '2021-04-11 16:31:10.877',  3.59  ),\n",
       "           ('bn180119210', '2021-04-16 23:56:59.561',  3.5333),\n",
       "           ('bn191110587', '2021-04-17 11:51:27.471',  9.53  ),\n",
       "           ('bn180126095', '2021-04-19 21:10:28.455',  1.2   ),\n",
       "           ('bn161228553', '2021-04-22 13:44:40.169',  2.24  ),\n",
       "           ('bn180522678', '2021-04-24 16:40:00.979',  1.91  ),\n",
       "           ('bn230201236', '2021-04-25 04:21:31.259',  9.7   ),\n",
       "           ('bn110625474', '2021-04-27 04:57:12.992',  5.55  ),\n",
       "           ('bn170606968', '2021-04-29 15:47:23.416',  3.12  ),\n",
       "           ('bn111010237', '2021-04-30 21:42:17.665',  3.18  ),\n",
       "           ('bn140831374', '2021-05-02 07:05:17.885',  9.9   ),\n",
       "           ('bn130409960', '2021-05-03 19:34:09.461',  2.22  ),\n",
       "           ('bn190202234', '2021-05-04 23:00:47.171',  2.11  ),\n",
       "           ('bn130407800', '2021-05-07 18:40:38.042',  9.29  ),\n",
       "           ('bn180913783', '2021-05-09 13:53:40.418',  6.73  ),\n",
       "           ('bn120309402', '2021-05-12 13:15:42.991',  9.2333),\n",
       "           ('bn180730018', '2021-05-15 14:56:46.180',  8.29  ),\n",
       "           ('bn140218427', '2021-05-16 23:34:46.497',  3.62  ),\n",
       "           ('bn111109873', '2021-05-18 00:46:54.636',  1.5   ),\n",
       "           ('bn180626392', '2021-05-18 13:04:09.640',  8.21  ),\n",
       "           ('bn101025267', '2021-05-18 21:20:17.915',  3.86  ),\n",
       "           ('bn230409626', '2021-05-19 06:38:53.855',  1.15  ),\n",
       "           ('bn121117018', '2021-05-19 19:22:03.942',  4.32  ),\n",
       "           ('bn090222179', '2021-05-24 04:59:59.092',  4.3   ),\n",
       "           ('bn220925462', '2021-05-24 11:20:34.686',  5.62  ),\n",
       "           ('bn130716352', '2021-05-27 03:21:49.149',  6.27  ),\n",
       "           ('bn081130212', '2021-05-27 04:58:58.571',  7.2   ),\n",
       "           ('bn151107851', '2021-05-28 14:03:46.163',  1.67  ),\n",
       "           ('bn210515623', '2021-05-29 23:53:37.098',  1.57  ),\n",
       "           ('bn090814950', '2021-06-02 20:46:02.339',  2.12  ),\n",
       "           ('bn101101744', '2021-06-03 21:46:28.382',  3.06  ),\n",
       "           ('bn141031257', '2021-06-05 05:08:58.389',  9.01  ),\n",
       "           ('bn090108020', '2021-06-06 22:40:25.321',  3.8   ),\n",
       "           ('bn230715072', '2021-06-07 21:23:49.282',  8.14  ),\n",
       "           ('bn160216560', '2021-06-15 21:23:51.505',  5.2167),\n",
       "           ('bn101220576', '2021-06-15 23:33:53.604',  1.25  ),\n",
       "           ('bn220211657', '2021-06-19 12:45:43.730',  7.02  ),\n",
       "           ('bn120703498', '2021-06-20 04:54:14.284',  5.15  ),\n",
       "           ('bn230126764', '2021-06-20 15:59:29.600',  2.    ),\n",
       "           ('bn170610689', '2021-06-21 10:44:03.750',  2.57  ),\n",
       "           ('bn150703259', '2021-06-22 10:33:01.760',  2.02  ),\n",
       "           ('bn180218635', '2021-06-24 00:58:23.248',  4.44  ),\n",
       "           ('bn080806896', '2021-06-25 21:23:21.140',  2.9   ),\n",
       "           ('bn171126235', '2021-06-26 23:46:24.876',  3.29  ),\n",
       "           ('bn130314147', '2021-06-27 17:57:20.742',  1.41  ),\n",
       "           ('bn220702842', '2021-07-01 07:47:14.117',  5.48  ),\n",
       "           ('bn181216551', '2021-07-06 03:50:09.746',  5.42  ),\n",
       "           ('bn120504468', '2021-07-06 13:41:34.000',  4.06  ),\n",
       "           ('bn230424465', '2021-07-09 04:49:04.308',  1.57  ),\n",
       "           ('bn100328141', '2021-07-15 20:46:30.607',  4.82  ),\n",
       "           ('bn211120548', '2021-07-16 11:38:13.679',  1.93  ),\n",
       "           ('bn160119072', '2021-07-19 03:55:47.030',  6.31  ),\n",
       "           ('bn090403314', '2021-07-24 02:31:33.469',  9.7   ),\n",
       "           ('bn230313485', '2021-07-25 01:08:29.397',  1.61  ),\n",
       "           ('bn110517902', '2021-07-26 02:32:56.804',  8.3   ),\n",
       "           ('bn090529564', '2021-07-27 09:50:46.735',  1.5   ),\n",
       "           ('bn160718975', '2021-07-31 02:12:43.477',  1.82  ),\n",
       "           ('bn170614486', '2021-07-31 08:48:17.629',  1.86  ),\n",
       "           ('bn110117364', '2021-08-01 13:57:18.595',  9.63  ),\n",
       "           ('bn210620204', '2021-08-01 15:34:44.860',  8.5   ),\n",
       "           ('bn140630505', '2021-08-07 12:36:42.844',  2.24  ),\n",
       "           ('bn220424481', '2021-08-07 16:29:19.536',  1.88  ),\n",
       "           ('bn120118898', '2021-08-12 00:15:51.734',  7.17  ),\n",
       "           ('bn110806043', '2021-08-12 16:47:01.014',  8.4833),\n",
       "           ('bn080805496', '2021-08-13 00:54:23.674',  5.6   ),\n",
       "           ('bn101223834', '2021-08-15 02:23:49.635',  4.34  ),\n",
       "           ('bn121220311', '2021-08-18 22:00:41.009',  8.3   ),\n",
       "           ('bn211211909', '2021-08-20 00:05:14.008',  7.3   ),\n",
       "           ('bn110710954', '2021-08-21 07:40:28.595',  3.87  ),\n",
       "           ('bn131125689', '2021-08-22 06:32:44.581',  2.25  ),\n",
       "           ('bn140928100', '2021-08-22 17:30:24.489',  7.07  ),\n",
       "           ('bn130919352', '2021-08-26 07:01:45.161',  5.72  ),\n",
       "           ('bn190411579', '2021-08-27 10:10:16.144',  3.18  ),\n",
       "           ('bn120226871', '2021-08-28 05:03:59.131',  6.01  ),\n",
       "           ('bn120309265', '2021-09-03 01:50:17.389',  6.7333),\n",
       "           ('bn120309358', '2021-09-03 17:26:58.653',  6.7333),\n",
       "           ('bn150707124', '2021-09-04 20:47:39.631',  2.53  ),\n",
       "           ('bn130623396', '2021-09-09 10:43:19.365',  7.12  ),\n",
       "           ('bn210504959', '2021-09-10 10:56:08.397',  3.91  ),\n",
       "           ('bn220912035', '2021-09-11 02:28:08.403',  3.58  ),\n",
       "           ('bn110522296', '2021-09-15 12:43:41.202',  6.4   ),\n",
       "           ('bn190615636', '2021-09-17 03:45:47.224',  2.32  ),\n",
       "           ('bn120819048', '2021-09-19 15:39:51.957',  7.94  ),\n",
       "           ('bn130206482', '2021-09-23 02:59:03.493',  2.4   ),\n",
       "           ('bn140906175', '2021-09-24 23:02:52.138',  7.66  ),\n",
       "           ('bn170724543', '2021-09-25 01:20:08.678',  5.25  ),\n",
       "           ('bn130815420', '2021-09-25 19:12:27.965',  1.6   ),\n",
       "           ('bn210518545', '2021-09-26 01:03:30.369',  1.77  ),\n",
       "           ('bn150907794', '2021-09-26 20:51:18.648',  8.9333),\n",
       "           ('bn160605921', '2021-09-28 18:16:13.787',  5.93  ),\n",
       "           ('bn170908686', '2021-10-02 06:08:13.109',  6.4667),\n",
       "           ('bn170831179', '2021-10-02 08:06:34.268',  1.61  ),\n",
       "           ('bn090320801', '2021-10-02 17:45:21.634',  9.5   ),\n",
       "           ('bn160518985', '2021-10-11 19:23:39.819',  4.04  ),\n",
       "           ('bn140219319', '2021-10-18 16:43:27.608',  8.23  ),\n",
       "           ('bn170817908', '2021-10-21 11:02:54.311',  3.69  ),\n",
       "           ('bn170219002', '2021-10-27 05:51:52.696',  1.41  ),\n",
       "           ('bn210101620', '2021-11-02 08:06:03.219',  4.56  ),\n",
       "           ('bn220623649', '2021-11-02 14:05:35.140',  4.06  ),\n",
       "           ('bn221018459', '2021-11-03 22:47:04.209',  5.88  ),\n",
       "           ('bn140105065', '2021-11-04 12:57:41.643',  6.07  ),\n",
       "           ('bn130722605', '2021-11-04 18:21:49.113',  8.85  ),\n",
       "           ('bn160803373', '2021-11-09 00:39:44.168',  7.05  ),\n",
       "           ('bn160804180', '2021-11-09 02:42:47.336',  6.69  ),\n",
       "           ('bn100417166', '2021-11-11 01:50:36.974',  9.18  ),\n",
       "           ('bn170119228', '2021-11-12 14:34:22.373',  4.41  ),\n",
       "           ('bn110421757', '2021-11-13 10:49:38.698',  1.71  ),\n",
       "           ('bn130208684', '2021-11-15 16:31:22.410',  4.67  ),\n",
       "           ('bn090831317', '2021-11-16 08:42:33.609',  1.92  ),\n",
       "           ('bn170718229', '2021-11-16 11:40:59.976',  7.9833),\n",
       "           ('bn120625119', '2021-11-16 14:03:53.348',  1.17  ),\n",
       "           ('bn100714672', '2021-11-18 23:38:14.587',  3.69  ),\n",
       "           ('bn210125369', '2021-11-20 13:09:46.838',  6.51  ),\n",
       "           ('bn090511684', '2021-11-24 02:29:53.557',  7.    ),\n",
       "           ('bn171207055', '2021-11-30 15:16:27.028',  9.54  ),\n",
       "           ('bn090109332', '2021-12-01 02:03:54.877',  9.8   ),\n",
       "           ('bn190408536', '2021-12-01 20:42:52.881',  9.0833),\n",
       "           ('bn170506169', '2021-12-04 11:50:05.858',  9.69  ),\n",
       "           ('bn230613373', '2021-12-04 21:37:00.552',  3.47  ),\n",
       "           ('bn080723339', '2021-12-07 09:59:09.093',  5.5667),\n",
       "           ('bn161217128', '2021-12-10 22:29:51.290',  7.56  ),\n",
       "           ('bn130112286', '2021-12-11 21:48:42.842',  4.93  ),\n",
       "           ('bn221211274', '2021-12-12 09:28:03.511',  4.7   ),\n",
       "           ('bn120226447', '2021-12-12 12:46:26.439',  1.15  ),\n",
       "           ('bn160206430', '2021-12-16 06:45:52.056',  4.17  ),\n",
       "           ('bn150829183', '2021-12-16 13:21:07.392',  2.17  ),\n",
       "           ('bn180201780', '2021-12-17 07:04:30.327',  9.21  ),\n",
       "           ('bn150317798', '2021-12-19 14:55:22.567',  5.    ),\n",
       "           ('bn220401429', '2021-12-19 21:49:46.008',  4.55  ),\n",
       "           ('bn120101354', '2021-12-21 20:48:40.580',  8.77  ),\n",
       "           ('bn090815946', '2021-12-23 08:23:22.258',  2.35  ),\n",
       "           ('bn150416773', '2021-12-25 00:20:28.067',  1.93  ),\n",
       "           ('bn181127274', '2021-12-31 07:00:31.787',  9.3   ),\n",
       "           ('bn150802512', '2022-01-01 22:18:30.632',  7.05  ),\n",
       "           ('bn090902401', '2022-01-03 02:20:03.681',  3.8   ),\n",
       "           ('bn220507423', '2022-01-03 21:03:12.889',  3.67  ),\n",
       "           ('bn160512536', '2022-01-04 04:01:02.604',  5.08  ),\n",
       "           ('bn160211119', '2022-01-05 06:01:31.434',  4.97  ),\n",
       "           ('bn090815438', '2022-01-05 07:06:40.737',  5.65  ),\n",
       "           ('bn131126163', '2022-01-09 07:39:10.685',  2.28  ),\n",
       "           ('bn200924284', '2022-01-09 09:28:12.787',  3.08  ),\n",
       "           ('bn130304410', '2022-01-09 12:57:21.984',  1.2   ),\n",
       "           ('bn140608713', '2022-01-10 15:55:38.323',  2.91  ),\n",
       "           ('bn090909487', '2022-01-11 06:30:49.104',  8.05  ),\n",
       "           ('bn150622892', '2022-01-11 18:21:07.760',  4.8833),\n",
       "           ('bn090429530', '2022-01-11 19:21:49.433',  4.8   ),\n",
       "           ('bn221205022', '2022-01-12 01:03:46.833',  7.67  ),\n",
       "           ('bn190601325', '2022-01-12 02:19:22.232',  8.28  ),\n",
       "           ('bn091223511', '2022-01-12 04:31:20.071',  2.39  ),\n",
       "           ('bn200802491', '2022-01-12 05:42:51.541',  2.12  ),\n",
       "           ('bn180428102', '2022-01-13 06:49:04.371',  3.04  ),\n",
       "           ('bn120522361', '2022-01-13 10:28:59.035',  2.02  ),\n",
       "           ('bn201031744', '2022-01-14 04:02:16.627',  4.    ),\n",
       "           ('bn121211289', '2022-01-14 11:26:42.769',  8.8   ),\n",
       "           ('bn120308588', '2022-01-14 11:39:42.666',  1.19  ),\n",
       "           ('bn160101215', '2022-01-14 13:23:05.832',  1.37  ),\n",
       "           ('bn200529504', '2022-01-14 14:01:47.413',  3.65  ),\n",
       "           ('bn130925546', '2022-01-15 00:49:17.356',  4.12  ),\n",
       "           ('bn200808469', '2022-01-15 05:30:29.953',  5.32  ),\n",
       "           ('bn110522256', '2022-01-15 07:05:44.907',  5.56  ),\n",
       "           ('bn170207906', '2022-01-15 08:16:31.270',  6.085 ),\n",
       "           ('bn230130204', '2022-01-15 09:26:39.887',  6.27  ),\n",
       "           ('bn211204901', '2022-01-15 12:39:25.292',  1.72  ),\n",
       "           ('bn140829880', '2022-01-15 14:20:00.880',  3.53  ),\n",
       "           ('bn190712095', '2022-01-15 17:00:27.581',  7.59  ),\n",
       "           ('bn170428136', '2022-01-15 18:52:49.070',  7.46  ),\n",
       "           ('bn100722291', '2022-01-15 22:37:50.514',  8.06  ),\n",
       "           ('bn120616630', '2022-01-17 01:27:12.742',  8.54  ),\n",
       "           ('bn200830413', '2022-01-17 01:39:37.260',  7.19  ),\n",
       "           ('bn170511477', '2022-01-19 11:46:07.857',  6.79  ),\n",
       "           ('bn171212948', '2022-01-20 05:54:01.088',  9.95  ),\n",
       "           ('bn150912117', '2022-01-20 14:51:55.915',  4.6833),\n",
       "           ('bn200619108', '2022-01-24 01:47:00.032',  4.02  ),\n",
       "           ('bn221206586', '2022-01-25 19:01:21.666',  6.21  ),\n",
       "           ('bn211102338', '2022-01-30 23:14:35.949',  4.1   ),\n",
       "           ('bn081229187', '2022-01-31 05:40:28.513',  8.8   ),\n",
       "           ('bn160303201', '2022-02-03 15:22:40.041',  9.05  ),\n",
       "           ('bn140705539', '2022-02-09 23:00:50.423',  5.83  ),\n",
       "           ('bn090306245', '2022-02-11 01:07:48.877',  4.1   ),\n",
       "           ('bn140716306', '2022-02-11 15:46:28.962',  5.67  ),\n",
       "           ('bn131112243', '2022-02-11 22:01:44.635',  4.7833),\n",
       "           ('bn200714247', '2022-02-14 00:02:40.608',  6.67  ),\n",
       "           ('bn150206407', '2022-02-22 02:21:17.836',  6.76  ),\n",
       "           ('bn130818941', '2022-02-22 19:24:07.136',  2.23  ),\n",
       "           ('bn221004622', '2022-03-05 11:33:20.478',  9.97  ),\n",
       "           ('bn160709370', '2022-03-05 16:13:02.180',  3.04  ),\n",
       "           ('bn161115745', '2022-03-06 07:20:00.522',  8.44  ),\n",
       "           ('bn200723691', '2022-03-08 05:35:30.099',  4.01  ),\n",
       "           ('bn180426549', '2022-03-10 02:55:07.867',  1.65  ),\n",
       "           ('bn151212064', '2022-03-13 18:50:51.769',  1.69  ),\n",
       "           ('bn120926335', '2022-03-14 21:32:57.716',  1.51  ),\n",
       "           ('bn120206949', '2022-03-15 02:25:56.875',  2.25  ),\n",
       "           ('bn101202154', '2022-03-16 11:25:37.875',  6.13  ),\n",
       "           ('bn100506653', '2022-03-20 04:39:54.512',  3.9   ),\n",
       "           ('bn140824606', '2022-03-21 06:46:22.002',  1.49  ),\n",
       "           ('bn110806050', '2022-03-23 12:10:11.567',  3.35  ),\n",
       "           ('bn220620016', '2022-03-24 02:39:04.314',  9.23  ),\n",
       "           ('bn120715066', '2022-03-30 12:28:09.273',  3.73  ),\n",
       "           ('bn090814368', '2022-04-01 10:17:40.891',  5.53  ),\n",
       "           ('bn190326975', '2022-04-01 21:29:49.486',  4.59  ),\n",
       "           ('bn170908071', '2022-04-03 10:10:02.661',  8.1   ),\n",
       "           ('bn150512432', '2022-04-03 22:16:46.499',  3.64  ),\n",
       "           ('bn090219074', '2022-04-04 17:47:23.327',  5.2   ),\n",
       "           ('bn130601547', '2022-04-05 06:11:39.121',  6.2667),\n",
       "           ('bn130215649', '2022-04-07 04:00:42.152',  2.1   ),\n",
       "           ('bn120716577', '2022-04-11 07:20:00.530',  5.09  ),\n",
       "           ('bn140912664', '2022-04-13 04:01:04.779',  8.21  ),\n",
       "           ('bn220523558', '2022-04-15 15:28:59.684',  1.89  ),\n",
       "           ('bn130224370', '2022-04-17 13:52:35.964',  2.62  ),\n",
       "           ('bn160118060', '2022-04-17 22:31:39.145',  1.49  ),\n",
       "           ('bn121113544', '2022-04-18 15:51:58.878',  2.06  ),\n",
       "           ('bn160317640', '2022-04-21 08:17:54.527',  3.84  ),\n",
       "           ('bn230227687', '2022-04-23 08:30:02.748',  7.0667),\n",
       "           ('bn211216556', '2022-04-24 11:32:49.172',  4.29  ),\n",
       "           ('bn150919556', '2022-04-26 07:10:36.182',  7.7   ),\n",
       "           ('bn091106762', '2022-04-30 05:28:17.848',  5.6   ),\n",
       "           ('bn170315582', '2022-04-30 21:35:59.799',  9.18  ),\n",
       "           ('bn100304004', '2022-05-01 04:49:36.246',  3.26  ),\n",
       "           ('bn180618245', '2022-05-01 11:28:01.143',  6.2167),\n",
       "           ('bn170127239', '2022-05-07 10:09:05.746',  6.95  ),\n",
       "           ('bn181221565', '2022-05-08 22:32:49.516',  6.06  ),\n",
       "           ('bn200614608', '2022-05-10 03:31:06.351',  6.46  ),\n",
       "           ('bn160316573', '2022-05-12 05:03:55.169',  3.44  ),\n",
       "           ('bn120602539', '2022-05-16 12:35:37.674',  7.1333),\n",
       "           ('bn190513824', '2022-05-18 17:11:52.279',  8.2333),\n",
       "           ('bn190222537', '2022-05-21 23:32:58.780',  1.5   ),\n",
       "           ('bn090225009', '2022-05-23 04:11:29.897',  8.7   ),\n",
       "           ('bn130831058', '2022-05-23 13:24:08.418',  8.06  ),\n",
       "           ('bn210227115', '2022-05-23 17:29:36.048',  5.8   ),\n",
       "           ('bn201004365', '2022-05-28 06:12:47.414',  4.29  ),\n",
       "           ('bn120415958', '2022-05-30 11:09:58.514',  4.96  ),\n",
       "           ('bn100714686', '2022-06-06 11:53:32.318',  9.69  ),\n",
       "           ('bn100410740', '2022-06-07 15:16:28.900',  1.7   ),\n",
       "           ('bn080809808', '2022-06-07 16:54:15.288',  7.1   ),\n",
       "           ('bn221110619', '2022-06-08 05:03:44.751',  5.65  ),\n",
       "           ('bn171212040', '2022-06-08 07:36:27.951',  5.    ),\n",
       "           ('bn190406465', '2022-06-08 15:02:03.937',  7.09  ),\n",
       "           ('bn230128950', '2022-06-09 13:11:11.039',  6.27  ),\n",
       "           ('bn090830775', '2022-06-09 14:48:02.862',  5.9833),\n",
       "           ('bn220418661', '2022-06-10 07:04:41.813',  7.77  ),\n",
       "           ('bn191019469', '2022-06-10 21:44:36.930',  3.28  ),\n",
       "           ('bn190612165', '2022-06-12 00:18:46.568',  9.3   ),\n",
       "           ('bn121019233', '2022-06-16 03:52:35.184',  7.52  ),\n",
       "           ('bn210615982', '2022-06-17 00:51:40.777',  7.55  ),\n",
       "           ('bn100811781', '2022-06-19 04:58:24.880',  3.57  ),\n",
       "           ('bn150224127', '2022-06-20 00:22:46.101',  6.05  ),\n",
       "           ('bn170808065', '2022-06-20 01:32:06.216',  2.    ),\n",
       "           ('bn140204547', '2022-06-20 06:16:25.944',  5.64  ),\n",
       "           ('bn110722710', '2022-06-23 15:33:56.432',  4.66  ),\n",
       "           ('bn160421137', '2022-06-24 10:20:24.234',  1.18  ),\n",
       "           ('bn140311618', '2022-06-26 06:26:43.555',  3.32  ),\n",
       "           ('bn220330520', '2022-06-27 21:36:56.390',  3.75  ),\n",
       "           ('bn191130253', '2022-06-28 12:06:50.563',  2.27  ),\n",
       "           ('bn150128624', '2022-07-02 20:12:46.598',  9.09  ),\n",
       "           ('bn121118576', '2022-07-04 13:48:01.166',  2.4   ),\n",
       "           ('bn161124636', '2022-07-08 08:06:21.531',  6.2333),\n",
       "           ('bn130106995', '2022-07-09 15:01:35.311',  1.87  ),\n",
       "           ('bn221221944', '2022-07-11 16:11:58.536',  2.74  ),\n",
       "           ('bn170521882', '2022-07-13 16:35:42.058',  9.7   ),\n",
       "           ('bn081209981', '2022-07-14 04:28:17.616',  4.9   ),\n",
       "           ('bn170111815', '2022-07-15 08:49:40.342',  6.71  ),\n",
       "           ('bn220823618', '2022-07-15 16:34:30.670',  7.78  ),\n",
       "           ('bn200421865', '2022-07-19 14:05:31.585',  2.28  ),\n",
       "           ('bn160301113', '2022-07-21 00:30:25.386',  6.6   ),\n",
       "           ('bn170731751', '2022-07-24 10:58:03.670',  6.3   ),\n",
       "           ('bn100610276', '2022-07-24 23:43:03.456',  7.9   ),\n",
       "           ('bn200112525', '2022-07-25 13:31:15.516',  2.    ),\n",
       "           ('bn220606496', '2022-07-26 09:42:47.016',  6.4167),\n",
       "           ('bn130725527', '2022-07-27 04:36:27.709',  2.27  ),\n",
       "           ('bn161106499', '2022-08-04 02:08:32.767',  1.5   ),\n",
       "           ('bn090325526', '2022-08-07 06:53:05.157',  7.7167),\n",
       "           ('bn081115165', '2022-08-07 13:56:26.508',  3.2   ),\n",
       "           ('bn160803157', '2022-08-08 06:38:59.663',  4.35  ),\n",
       "           ('bn110503130', '2022-08-09 04:47:12.485',  5.8833),\n",
       "           ('bn140110814', '2022-08-09 05:02:48.311',  3.19  ),\n",
       "           ('bn161029357', '2022-08-09 06:25:11.529',  6.35  ),\n",
       "           ('bn200507662', '2022-08-10 04:32:48.692',  2.2   ),\n",
       "           ('bn150228213', '2022-08-10 06:12:01.186',  5.45  ),\n",
       "           ('bn150911337', '2022-08-10 23:15:42.081',  4.9333),\n",
       "           ('bn191009298', '2022-08-11 05:58:19.026',  1.41  ),\n",
       "           ('bn150828333', '2022-08-11 12:21:02.869',  2.26  ),\n",
       "           ('bn151227072', '2022-08-15 23:16:32.666',  1.53  ),\n",
       "           ('bn131002326', '2022-08-20 06:55:04.243',  7.05  ),\n",
       "           ('bn210503815', '2022-08-21 07:05:35.441',  5.1   ),\n",
       "           ('bn110221244', '2022-08-22 06:27:34.162',  1.24  ),\n",
       "           ('bn151212030', '2022-08-23 03:28:52.386',  3.6   ),\n",
       "           ('bn111018595', '2022-08-23 14:50:33.960',  7.15  ),\n",
       "           ('bn210416998', '2022-08-25 01:57:48.503',  7.2833),\n",
       "           ('bn130408653', '2022-08-26 05:13:16.969',  3.93  ),\n",
       "           ('bn200609380', '2022-08-26 10:21:19.718',  1.88  ),\n",
       "           ('bn140725583', '2022-08-27 04:09:20.935',  5.28  ),\n",
       "           ('bn170723116', '2022-08-30 07:39:27.297',  1.41  ),\n",
       "           ('bn150908689', '2022-08-31 13:11:36.161',  6.2167),\n",
       "           ('bn170205521', '2022-08-31 15:56:35.373',  4.99  ),\n",
       "           ('bn170709848', '2022-09-02 10:30:00.374',  7.7   ),\n",
       "           ('bn120423889', '2022-09-03 12:16:18.167',  5.9333),\n",
       "           ('bn220620064', '2022-09-04 00:05:59.645',  2.57  ),\n",
       "           ('bn210820004', '2022-09-04 23:50:49.948',  5.01  ),\n",
       "           ('bn111012811', '2022-09-05 01:32:52.682',  1.71  ),\n",
       "           ('bn150817819', '2022-09-05 10:23:47.910',  6.35  ),\n",
       "           ('bn160611244', '2022-09-05 23:37:48.856',  9.2667),\n",
       "           ('bn120915000', '2022-09-06 21:42:05.473',  5.87  ),\n",
       "           ('bn110831936', '2022-09-08 22:56:01.713',  9.1167),\n",
       "           ('bn160812507', '2022-09-09 21:02:42.223',  6.4667),\n",
       "           ('bn160322484', '2022-09-10 20:48:31.515',  6.55  ),\n",
       "           ('bn150506630', '2022-09-12 00:50:21.526',  3.21  ),\n",
       "           ('bn170127382', '2022-09-15 00:31:40.361',  9.55  ),\n",
       "           ('bn121009292', '2022-09-15 05:13:40.898',  1.53  ),\n",
       "           ('bn110529034', '2022-09-15 09:35:18.767',  1.5   ),\n",
       "           ('bn110430375', '2022-09-24 13:02:01.298',  2.53  ),\n",
       "           ('bn151110925', '2022-09-24 21:44:54.414',  6.0167),\n",
       "           ('bn111012456', '2022-09-25 11:05:56.092',  2.08  ),\n",
       "           ('bn090425377', '2022-09-27 05:36:20.950',  2.1   ),\n",
       "           ('bn161212652', '2022-09-27 20:51:09.078',  8.5   ),\n",
       "           ('bn120322979', '2022-10-02 11:33:41.079',  8.7   ),\n",
       "           ('bn131215298', '2022-10-04 14:56:11.903',  1.38  ),\n",
       "           ('bn230301278', '2022-10-05 15:35:06.248',  3.01  ),\n",
       "           ('bn190326314', '2022-10-05 18:10:05.105',  1.26  ),\n",
       "           ('bn150412128', '2022-10-05 21:50:15.795',  3.9667),\n",
       "           ('bn230308564', '2022-10-06 08:03:56.927',  1.17  ),\n",
       "           ('bn150817677', '2022-10-06 19:50:32.833',  5.4   ),\n",
       "           ('bn230320884', '2022-10-08 05:54:42.230',  2.59  ),\n",
       "           ('bn160317385', '2022-10-10 06:47:14.517',  5.5   ),\n",
       "           ('bn161004849', '2022-10-11 10:41:16.680',  6.5333),\n",
       "           ('bn170908104', '2022-10-11 14:11:36.804',  4.8   ),\n",
       "           ('bn160201883', '2022-10-12 17:00:47.285',  2.9   ),\n",
       "           ('bn180618385', '2022-10-13 00:42:20.233',  4.4   ),\n",
       "           ('bn230525449', '2022-10-13 07:18:07.147',  6.75  ),\n",
       "           ('bn150428305', '2022-10-13 08:00:36.492',  6.06  ),\n",
       "           ('bn151106957', '2022-10-13 09:01:10.875',  9.3667),\n",
       "           ('bn220310122', '2022-10-13 09:23:44.178',  5.65  ),\n",
       "           ('bn210812699', '2022-10-14 03:54:39.083',  1.12  ),\n",
       "           ('bn151206363', '2022-10-14 05:42:15.465',  5.1333),\n",
       "           ('bn170124238', '2022-10-14 07:12:28.769',  2.61  ),\n",
       "           ('bn130615398', '2022-10-14 07:24:42.106',  6.2   ),\n",
       "           ('bn171205642', '2022-10-14 08:59:07.246',  4.65  ),\n",
       "           ('bn180420612', '2022-10-14 10:28:39.869',  4.6167),\n",
       "           ('bn110712566', '2022-10-14 11:41:59.729',  7.1333),\n",
       "           ('bn191028589', '2022-10-14 11:58:40.240',  7.67  ),\n",
       "           ('bn180910032', '2022-10-14 12:30:41.219',  2.12  ),\n",
       "           ('bn151007630', '2022-10-18 11:00:27.469',  7.3167),\n",
       "           ('bn210417494', '2022-10-20 00:11:42.702',  5.05  ),\n",
       "           ('bn150417817', '2022-10-20 05:23:52.826',  8.1167),\n",
       "           ('bn081207680', '2022-10-22 14:41:46.429',  1.2   ),\n",
       "           ('bn181105904', '2022-10-22 22:55:48.912',  8.7667),\n",
       "           ('bn171225119', '2022-10-25 00:58:18.419',  5.2   ),\n",
       "           ('bn170716717', '2022-10-25 22:54:16.624',  5.2667),\n",
       "           ('bn131118137', '2022-11-03 06:50:18.653',  4.3333),\n",
       "           ('bn160615209', '2022-11-06 06:31:27.538',  5.4333),\n",
       "           ('bn211118985', '2022-11-07 01:22:52.457',  2.68  ),\n",
       "           ('bn221121274', '2022-11-08 19:48:49.898',  1.11  ),\n",
       "           ('bn150713951', '2022-11-10 09:03:33.249',  6.25  ),\n",
       "           ('bn091115177', '2022-11-10 14:50:57.648',  7.94  ),\n",
       "           ('bn220324110', '2022-11-10 23:43:45.980',  2.64  ),\n",
       "           ('bn150919606', '2022-11-12 06:18:04.355',  2.57  ),\n",
       "           ('bn150912260', '2022-11-12 18:02:05.731',  8.5333),\n",
       "           ('bn230102401', '2022-11-14 12:58:31.609',  6.9833),\n",
       "           ('bn220323507', '2022-11-14 14:46:38.843',  9.93  ),\n",
       "           ('bn100827455', '2022-11-15 00:25:28.800',  5.68  ),\n",
       "           ('bn091219462', '2022-11-18 12:21:16.166',  5.42  ),\n",
       "           ('bn120527573', '2022-11-18 13:48:19.534',  5.8333),\n",
       "           ('bn140809133', '2022-11-21 06:34:49.744',  4.11  ),\n",
       "           ('bn120315732', '2022-11-26 13:07:29.943',  6.15  ),\n",
       "           ('bn120630398', '2022-11-29 04:00:06.211',  1.1   ),\n",
       "           ('bn220708338', '2022-11-30 20:47:49.762',  5.0667),\n",
       "           ('bn140508629', '2022-12-02 21:41:52.069',  3.56  ),\n",
       "           ('bn220719587', '2022-12-03 12:52:59.454',  6.4833),\n",
       "           ('bn150608303', '2022-12-04 07:31:02.019',  5.1667),\n",
       "           ('bn131209963', '2022-12-04 23:13:33.803',  6.14  ),\n",
       "           ('bn150613619', '2022-12-05 00:31:56.981',  7.35  ),\n",
       "           ('bn220115230', '2022-12-06 11:07:27.091',  2.42  ),\n",
       "           ('bn151210329', '2022-12-06 14:04:24.212',  6.1167),\n",
       "           ('bn230701025', '2022-12-11 06:34:53.713',  3.96  ),\n",
       "           ('bn230210260', '2022-12-13 06:57:10.586',  8.92  ),\n",
       "           ('bn140308710', '2022-12-15 16:09:34.071',  2.67  ),\n",
       "           ('bn141229808', '2022-12-16 19:51:04.565',  5.4667),\n",
       "           ('bn151216140', '2022-12-16 20:20:17.858',  5.05  ),\n",
       "           ('bn220209959', '2022-12-18 01:06:40.741',  1.4   ),\n",
       "           ('bn110605811', '2022-12-18 18:07:57.646',  9.4833),\n",
       "           ('bn211116363', '2022-12-19 16:19:04.680',  5.1333),\n",
       "           ('bn200403919', '2022-12-21 21:57:43.788',  4.19  ),\n",
       "           ('bn150912600', '2022-12-21 22:39:30.568',  6.38  ),\n",
       "           ('bn161030278', '2022-12-22 05:57:12.496',  5.6167),\n",
       "           ('bn110619959', '2022-12-22 15:35:37.354',  9.1333),\n",
       "           ('bn220909877', '2022-12-23 13:39:35.643',  9.0333),\n",
       "           ('bn110711502', '2022-12-23 15:17:42.668',  7.3667),\n",
       "           ('bn220904994', '2022-12-23 23:56:06.759',  5.8167),\n",
       "           ('bn150910276', '2022-12-24 04:49:43.491',  5.3167),\n",
       "           ('bn150529948', '2022-12-25 00:21:47.753',  8.35  ),\n",
       "           ('bn100702531', '2022-12-26 16:44:27.057',  8.5167),\n",
       "           ('bn120630963', '2022-12-26 20:54:20.374',  6.4333),\n",
       "           ('bn160810523', '2022-12-27 12:43:17.911',  7.6667),\n",
       "           ('bn160219747', '2022-12-28 04:53:14.796',  6.7167),\n",
       "           ('bn130726509', '2022-12-29 04:57:02.441',  5.7167),\n",
       "           ('bn140523985', '2023-01-01 02:16:38.999',  9.2   ),\n",
       "           ('bn090305052', '2023-01-02 00:22:12.967',  5.4   ),\n",
       "           ('bn110929345', '2023-01-02 09:37:03.538',  5.0667),\n",
       "           ('bn161028295', '2023-01-10 15:34:09.040',  6.15  ),\n",
       "           ('bn120618672', '2023-01-14 16:59:13.896',  7.3667),\n",
       "           ('bn160815299', '2023-01-16 04:54:34.289',  8.08  ),\n",
       "           ('bn161222118', '2023-01-16 13:48:15.121',  4.3167),\n",
       "           ('bn180416924', '2023-01-17 05:04:04.254',  2.13  ),\n",
       "           ('bn110808445', '2023-01-19 13:23:36.319',  8.6167),\n",
       "           ('bn221006336', '2023-01-24 15:18:46.699',  8.0167),\n",
       "           ('bn230314119', '2023-01-26 18:20:44.448',  4.61  ),\n",
       "           ('bn180407745', '2023-01-28 22:47:49.077',  9.7667),\n",
       "           ('bn210516982', '2023-01-29 13:00:26.187',  9.52  ),\n",
       "           ('bn120605953', '2023-01-30 04:53:48.905',  7.7   ),\n",
       "           ('bn171226604', '2023-02-01 05:39:33.405',  7.65  ),\n",
       "           ('bn160904462', '2023-02-01 19:56:48.104',  9.1167),\n",
       "           ('bn190323179', '2023-02-02 03:23:03.235',  6.54  ),\n",
       "           ('bn150818741', '2023-02-04 03:06:30.415',  7.5333),\n",
       "           ('bn150808961', '2023-02-07 00:30:44.274',  6.6667),\n",
       "           ('bn100725573', '2023-02-10 06:14:06.965',  5.1667),\n",
       "           ('bn110621949', '2023-02-20 21:25:05.793',  6.75  ),\n",
       "           ('bn220815970', '2023-02-24 14:57:54.229',  7.55  ),\n",
       "           ('bn120628973', '2023-02-24 21:35:01.106',  7.15  ),\n",
       "           ('bn140525971', '2023-02-25 11:02:58.393',  8.2833),\n",
       "           ('bn230227194', '2023-02-25 14:49:19.501',  4.9333),\n",
       "           ('bn170915342', '2023-02-27 04:39:17.065',  5.2   ),\n",
       "           ('bn111005398', '2023-02-27 10:22:03.229',  5.28  ),\n",
       "           ('bn160101791', '2023-02-27 15:49:57.665',  8.6333),\n",
       "           ('bn120618128', '2023-02-27 16:29:11.404',  2.59  ),\n",
       "           ('bn170414551', '2023-02-28 16:31:50.509',  2.27  ),\n",
       "           ('bn170128303', '2023-02-28 21:14:01.389',  5.2667),\n",
       "           ('bn160510506', '2023-03-01 06:40:10.892',  6.5833),\n",
       "           ('bn160804152', '2023-03-01 16:28:43.235',  6.8167),\n",
       "           ('bn230116575', '2023-03-04 06:20:54.160',  1.41  ),\n",
       "           ('bn160729273', '2023-03-04 14:59:09.807',  6.6333),\n",
       "           ('bn181225786', '2023-03-04 22:01:39.796',  6.61  ),\n",
       "           ('bn230508672', '2023-03-05 01:15:15.528',  5.2333),\n",
       "           ('bn091223191', '2023-03-05 13:40:29.283',  8.85  ),\n",
       "           ('bn190203975', '2023-03-08 13:32:27.402',  9.0333),\n",
       "           ('bn191117006', '2023-03-10 00:45:01.131',  9.1   ),\n",
       "           ('bn201020732', '2023-03-12 19:29:33.814',  1.62  ),\n",
       "           ('bn160807127', '2023-03-13 11:38:43.007',  7.4   ),\n",
       "           ('bn140217043', '2023-03-14 02:51:24.129',  3.08  ),\n",
       "           ('bn150911197', '2023-03-16 13:06:30.316',  9.85  ),\n",
       "           ('bn151108942', '2023-03-17 11:52:41.372',  9.6833),\n",
       "           ('bn170717639', '2023-03-20 03:35:24.055',  4.4833),\n",
       "           ('bn180622578', '2023-03-20 21:12:25.550',  2.16  ),\n",
       "           ('bn151226980', '2023-03-21 06:12:19.930',  9.1833),\n",
       "           ('bn190118937', '2023-03-22 20:57:41.278',  3.42  ),\n",
       "           ('bn091230712', '2023-03-23 16:43:33.727',  5.07  ),\n",
       "           ('bn110527564', '2023-03-24 01:10:41.291',  7.6167),\n",
       "           ('bn150815832', '2023-03-24 03:35:04.047',  5.7333),\n",
       "           ('bn230423971', '2023-03-24 04:25:10.178',  3.5333),\n",
       "           ('bn120315329', '2023-03-28 13:58:24.246',  6.6333),\n",
       "           ('bn141124277', '2023-03-30 00:26:04.892',  4.98  ),\n",
       "           ('bn100610417', '2023-03-30 04:34:29.478',  4.4833),\n",
       "           ('bn181105315', '2023-04-04 23:00:07.327',  4.8833),\n",
       "           ('bn221223637', '2023-04-05 15:03:04.584',  8.2833),\n",
       "           ('bn151113830', '2023-04-09 00:48:13.828',  5.3333),\n",
       "           ('bn210701324', '2023-04-09 15:00:58.203',  8.3833),\n",
       "           ('bn230423964', '2023-04-10 11:26:00.136',  5.0167),\n",
       "           ('bn120530121', '2023-04-15 20:48:48.632',  3.27  ),\n",
       "           ('bn160122338', '2023-04-18 21:11:33.494',  6.1333),\n",
       "           ('bn140404030', '2023-04-20 13:41:23.126',  4.88  ),\n",
       "           ('bn141109447', '2023-04-21 16:19:20.304',  2.77  ),\n",
       "           ('bn221129167', '2023-04-23 23:08:01.240',  4.9167),\n",
       "           ('bn170202190', '2023-04-23 23:18:00.685',  5.2833),\n",
       "           ('bn151014430', '2023-04-24 07:42:14.742',  6.55  ),\n",
       "           ('bn160128807', '2023-04-24 11:09:13.708',  7.5   ),\n",
       "           ('bn150915165', '2023-04-24 23:03:18.206',  4.6833),\n",
       "           ('bn220125793', '2023-04-30 07:47:18.805',  5.6333),\n",
       "           ('bn150623895', '2023-04-30 08:50:32.330',  4.6167),\n",
       "           ('bn170823820', '2023-05-03 20:19:07.437',  5.3667),\n",
       "           ('bn150716433', '2023-05-06 05:08:16.650',  8.25  ),\n",
       "           ('bn151211252', '2023-05-08 16:07:31.513',  7.5333),\n",
       "           ('bn161026312', '2023-05-11 03:28:07.466',  5.8333),\n",
       "           ('bn211103949', '2023-05-11 13:08:30.719',  6.75  ),\n",
       "           ('bn171012680', '2023-05-13 22:17:19.429',  7.1167),\n",
       "           ('bn220908956', '2023-05-14 23:54:17.432',  6.85  ),\n",
       "           ('bn170917325', '2023-05-16 17:49:54.762',  6.8833),\n",
       "           ('bn120822628', '2023-05-17 11:05:46.299',  7.7   ),\n",
       "           ('bn110301817', '2023-05-18 04:00:23.000',  5.1333),\n",
       "           ('bn150628787', '2023-05-21 03:11:18.827',  9.6667),\n",
       "           ('bn150824125', '2023-05-21 20:26:04.301',  4.84  ),\n",
       "           ('bn150908288', '2023-05-23 07:14:15.013',  5.7833),\n",
       "           ('bn170923188', '2023-05-23 11:23:09.188',  5.03  ),\n",
       "           ('bn111018785', '2023-05-24 05:43:46.145',  7.46  ),\n",
       "           ('bn150715906', '2023-05-24 06:06:35.807',  6.3   ),\n",
       "           ('bn180426005', '2023-05-24 08:34:31.512',  2.8   ),\n",
       "           ('bn140319964', '2023-05-25 10:46:08.332',  3.64  ),\n",
       "           ('bn181013796', '2023-05-27 06:57:14.916',  5.3167),\n",
       "           ('bn220822269', '2023-06-01 11:06:19.891',  7.1   ),\n",
       "           ('bn220820288', '2023-06-01 13:24:54.410',  9.    ),\n",
       "           ('bn180715741', '2023-06-03 12:35:29.446',  5.12  ),\n",
       "           ('bn160518039', '2023-06-13 08:56:25.711',  2.18  ),\n",
       "           ('bn080803772', '2023-06-14 00:12:15.466',  5.9   ),\n",
       "           ('bn221008246', '2023-06-21 23:45:24.826',  8.7333),\n",
       "           ('bn220313785', '2023-06-25 18:24:10.711',  7.1667),\n",
       "           ('bn160307326', '2023-06-28 01:36:00.847',  6.8667),\n",
       "           ('bn150816756', '2023-06-28 17:36:34.863',  5.6333),\n",
       "           ('bn180128915', '2023-06-28 20:22:31.563',  3.62  ),\n",
       "           ('bn180618314', '2023-07-01 00:36:36.751',  5.0667),\n",
       "           ('bn210909447', '2023-07-01 22:44:39.122',  1.82  ),\n",
       "           ('bn180330891', '2023-07-02 12:38:53.062',  3.7   ),\n",
       "           ('bn220512211', '2023-07-03 23:46:03.513',  1.68  ),\n",
       "           ('bn160725306', '2023-07-04 19:42:15.436',  6.75  ),\n",
       "           ('bn220915400', '2023-07-07 18:46:20.290',  6.48  ),\n",
       "           ('bn230523302', '2023-07-09 16:56:14.471',  7.2667),\n",
       "           ('bn221106272', '2023-07-09 17:38:26.825',  3.95  ),\n",
       "           ('bn160317762', '2023-07-09 21:39:25.455',  7.65  ),\n",
       "           ('bn180826785', '2023-07-10 19:50:00.794',  5.3167),\n",
       "           ('bn230405627', '2023-07-12 20:49:57.210',  4.19  ),\n",
       "           ('bn210624041', '2023-07-13 23:59:05.945',  4.64  ),\n",
       "           ('bn091012783', '2023-07-15 01:43:15.940',  2.45  ),\n",
       "           ('bn180304259', '2023-07-15 04:33:27.857',  9.5   ),\n",
       "           ('bn220810258', '2023-07-17 12:44:07.785',  5.1   )],\n",
       "          dtype=[('trigger_name', '<U23'), ('trigger_time', '<U23'), ('error_radius', '<f8')])"
      ]
     },
     "execution_count": 6,
     "metadata": {},
     "output_type": "execute_result"
    }
   ],
   "source": [
    "sliced_trigcat2.get_table(columns=('trigger_name', 'trigger_time', 'error_radius'))\n"
   ]
  },
  {
   "cell_type": "code",
   "execution_count": 8,
   "id": "2d3b1005",
   "metadata": {},
   "outputs": [
    {
     "data": {
      "text/plain": [
       "array(['name', 'ra', 'dec', 'trigger_time', 't90', 't90_error',\n",
       "       't90_start', 'fluence', 'fluence_error', 'flux_1024',\n",
       "       'flux_1024_error', 'flux_1024_time', 'flux_64', 'flux_64_error',\n",
       "       'flnc_band_ampl', 'flnc_band_ampl_pos_err',\n",
       "       'flnc_band_ampl_neg_err', 'flnc_band_epeak',\n",
       "       'flnc_band_epeak_pos_err', 'flnc_band_epeak_neg_err',\n",
       "       'flnc_band_alpha', 'flnc_band_alpha_pos_err',\n",
       "       'flnc_band_alpha_neg_err', 'flnc_band_beta',\n",
       "       'flnc_band_beta_pos_err', 'flnc_band_beta_neg_err',\n",
       "       'flnc_spectrum_start', 'flnc_spectrum_stop',\n",
       "       'pflx_best_fitting_model', 'pflx_best_model_redchisq',\n",
       "       'flnc_best_fitting_model', 'flnc_best_model_redchisq',\n",
       "       'actual_1024ms_interval', 'actual_256ms_interval',\n",
       "       'actual_64ms_interval', 'back_interval_high_start',\n",
       "       'back_interval_high_stop', 'back_interval_low_start',\n",
       "       'back_interval_low_stop', 'bcat_detector_mask', 'bcatalog', 'bii',\n",
       "       'duration_energy_high', 'duration_energy_low', 'error_radius',\n",
       "       'flnc_band_dof', 'flnc_band_ergflnc', 'flnc_band_ergflnc_error',\n",
       "       'flnc_band_ergflncb', 'flnc_band_ergflncb_error',\n",
       "       'flnc_band_ergflux', 'flnc_band_ergflux_error',\n",
       "       'flnc_band_phtflnc', 'flnc_band_phtflnc_error',\n",
       "       'flnc_band_phtflncb', 'flnc_band_phtflncb_error',\n",
       "       'flnc_band_phtflux', 'flnc_band_phtflux_error',\n",
       "       'flnc_band_phtfluxb', 'flnc_band_phtfluxb_error',\n",
       "       'flnc_band_redchisq', 'flnc_band_redfitstat',\n",
       "       'flnc_band_statistic', 'flnc_comp_ampl', 'flnc_comp_ampl_neg_err',\n",
       "       'flnc_comp_ampl_pos_err', 'flnc_comp_dof', 'flnc_comp_epeak',\n",
       "       'flnc_comp_epeak_neg_err', 'flnc_comp_epeak_pos_err',\n",
       "       'flnc_comp_ergflnc', 'flnc_comp_ergflnc_error',\n",
       "       'flnc_comp_ergflncb', 'flnc_comp_ergflncb_error',\n",
       "       'flnc_comp_ergflux', 'flnc_comp_ergflux_error', 'flnc_comp_index',\n",
       "       'flnc_comp_index_neg_err', 'flnc_comp_index_pos_err',\n",
       "       'flnc_comp_phtflnc', 'flnc_comp_phtflnc_error',\n",
       "       'flnc_comp_phtflncb', 'flnc_comp_phtflncb_error',\n",
       "       'flnc_comp_phtflux', 'flnc_comp_phtflux_error',\n",
       "       'flnc_comp_phtfluxb', 'flnc_comp_phtfluxb_error',\n",
       "       'flnc_comp_pivot', 'flnc_comp_pivot_neg_err',\n",
       "       'flnc_comp_pivot_pos_err', 'flnc_comp_redchisq',\n",
       "       'flnc_comp_redfitstat', 'flnc_comp_statistic', 'flnc_plaw_ampl',\n",
       "       'flnc_plaw_ampl_neg_err', 'flnc_plaw_ampl_pos_err',\n",
       "       'flnc_plaw_dof', 'flnc_plaw_ergflnc', 'flnc_plaw_ergflnc_error',\n",
       "       'flnc_plaw_ergflncb', 'flnc_plaw_ergflncb_error',\n",
       "       'flnc_plaw_ergflux', 'flnc_plaw_ergflux_error', 'flnc_plaw_index',\n",
       "       'flnc_plaw_index_neg_err', 'flnc_plaw_index_pos_err',\n",
       "       'flnc_plaw_phtflnc', 'flnc_plaw_phtflnc_error',\n",
       "       'flnc_plaw_phtflncb', 'flnc_plaw_phtflncb_error',\n",
       "       'flnc_plaw_phtflux', 'flnc_plaw_phtflux_error',\n",
       "       'flnc_plaw_phtfluxb', 'flnc_plaw_phtfluxb_error',\n",
       "       'flnc_plaw_pivot', 'flnc_plaw_pivot_neg_err',\n",
       "       'flnc_plaw_pivot_pos_err', 'flnc_plaw_redchisq',\n",
       "       'flnc_plaw_redfitstat', 'flnc_plaw_statistic', 'flnc_sbpl_ampl',\n",
       "       'flnc_sbpl_ampl_neg_err', 'flnc_sbpl_ampl_pos_err',\n",
       "       'flnc_sbpl_brken', 'flnc_sbpl_brken_neg_err',\n",
       "       'flnc_sbpl_brken_pos_err', 'flnc_sbpl_brksc',\n",
       "       'flnc_sbpl_brksc_neg_err', 'flnc_sbpl_brksc_pos_err',\n",
       "       'flnc_sbpl_dof', 'flnc_sbpl_ergflnc', 'flnc_sbpl_ergflnc_error',\n",
       "       'flnc_sbpl_ergflncb', 'flnc_sbpl_ergflncb_error',\n",
       "       'flnc_sbpl_ergflux', 'flnc_sbpl_ergflux_error', 'flnc_sbpl_indx1',\n",
       "       'flnc_sbpl_indx1_neg_err', 'flnc_sbpl_indx1_pos_err',\n",
       "       'flnc_sbpl_indx2', 'flnc_sbpl_indx2_neg_err',\n",
       "       'flnc_sbpl_indx2_pos_err', 'flnc_sbpl_phtflnc',\n",
       "       'flnc_sbpl_phtflnc_error', 'flnc_sbpl_phtflncb',\n",
       "       'flnc_sbpl_phtflncb_error', 'flnc_sbpl_phtflux',\n",
       "       'flnc_sbpl_phtflux_error', 'flnc_sbpl_phtfluxb',\n",
       "       'flnc_sbpl_phtfluxb_error', 'flnc_sbpl_pivot',\n",
       "       'flnc_sbpl_pivot_neg_err', 'flnc_sbpl_pivot_pos_err',\n",
       "       'flnc_sbpl_redchisq', 'flnc_sbpl_redfitstat',\n",
       "       'flnc_sbpl_statistic', 'flu_high', 'flu_low', 'fluence_batse',\n",
       "       'fluence_batse_error', 'flux_256', 'flux_256_error',\n",
       "       'flux_256_time', 'flux_64_time', 'flux_batse_1024',\n",
       "       'flux_batse_1024_error', 'flux_batse_1024_time', 'flux_batse_256',\n",
       "       'flux_batse_256_error', 'flux_batse_256_time', 'flux_batse_64',\n",
       "       'flux_batse_64_error', 'flux_batse_64_time', 'last_modified',\n",
       "       'lii', 'pflx_band_alpha', 'pflx_band_alpha_neg_err',\n",
       "       'pflx_band_alpha_pos_err', 'pflx_band_ampl',\n",
       "       'pflx_band_ampl_neg_err', 'pflx_band_ampl_pos_err',\n",
       "       'pflx_band_beta', 'pflx_band_beta_neg_err',\n",
       "       'pflx_band_beta_pos_err', 'pflx_band_dof', 'pflx_band_epeak',\n",
       "       'pflx_band_epeak_neg_err', 'pflx_band_epeak_pos_err',\n",
       "       'pflx_band_ergflnc', 'pflx_band_ergflnc_error',\n",
       "       'pflx_band_ergflncb', 'pflx_band_ergflncb_error',\n",
       "       'pflx_band_ergflux', 'pflx_band_ergflux_error',\n",
       "       'pflx_band_phtflnc', 'pflx_band_phtflnc_error',\n",
       "       'pflx_band_phtflncb', 'pflx_band_phtflncb_error',\n",
       "       'pflx_band_phtflux', 'pflx_band_phtflux_error',\n",
       "       'pflx_band_phtfluxb', 'pflx_band_phtfluxb_error',\n",
       "       'pflx_band_redchisq', 'pflx_band_redfitstat',\n",
       "       'pflx_band_statistic', 'pflx_comp_ampl', 'pflx_comp_ampl_neg_err',\n",
       "       'pflx_comp_ampl_pos_err', 'pflx_comp_dof', 'pflx_comp_epeak',\n",
       "       'pflx_comp_epeak_neg_err', 'pflx_comp_epeak_pos_err',\n",
       "       'pflx_comp_ergflnc', 'pflx_comp_ergflnc_error',\n",
       "       'pflx_comp_ergflncb', 'pflx_comp_ergflncb_error',\n",
       "       'pflx_comp_ergflux', 'pflx_comp_ergflux_error', 'pflx_comp_index',\n",
       "       'pflx_comp_index_neg_err', 'pflx_comp_index_pos_err',\n",
       "       'pflx_comp_phtflnc', 'pflx_comp_phtflnc_error',\n",
       "       'pflx_comp_phtflncb', 'pflx_comp_phtflncb_error',\n",
       "       'pflx_comp_phtflux', 'pflx_comp_phtflux_error',\n",
       "       'pflx_comp_phtfluxb', 'pflx_comp_phtfluxb_error',\n",
       "       'pflx_comp_pivot', 'pflx_comp_pivot_neg_err',\n",
       "       'pflx_comp_pivot_pos_err', 'pflx_comp_redchisq',\n",
       "       'pflx_comp_redfitstat', 'pflx_comp_statistic', 'pflx_plaw_ampl',\n",
       "       'pflx_plaw_ampl_neg_err', 'pflx_plaw_ampl_pos_err',\n",
       "       'pflx_plaw_dof', 'pflx_plaw_ergflnc', 'pflx_plaw_ergflnc_error',\n",
       "       'pflx_plaw_ergflncb', 'pflx_plaw_ergflncb_error',\n",
       "       'pflx_plaw_ergflux', 'pflx_plaw_ergflux_error', 'pflx_plaw_index',\n",
       "       'pflx_plaw_index_neg_err', 'pflx_plaw_index_pos_err',\n",
       "       'pflx_plaw_phtflnc', 'pflx_plaw_phtflnc_error',\n",
       "       'pflx_plaw_phtflncb', 'pflx_plaw_phtflncb_error',\n",
       "       'pflx_plaw_phtflux', 'pflx_plaw_phtflux_error',\n",
       "       'pflx_plaw_phtfluxb', 'pflx_plaw_phtfluxb_error',\n",
       "       'pflx_plaw_pivot', 'pflx_plaw_pivot_neg_err',\n",
       "       'pflx_plaw_pivot_pos_err', 'pflx_plaw_redchisq',\n",
       "       'pflx_plaw_redfitstat', 'pflx_plaw_statistic', 'pflx_sbpl_ampl',\n",
       "       'pflx_sbpl_ampl_neg_err', 'pflx_sbpl_ampl_pos_err',\n",
       "       'pflx_sbpl_brken', 'pflx_sbpl_brken_neg_err',\n",
       "       'pflx_sbpl_brken_pos_err', 'pflx_sbpl_brksc',\n",
       "       'pflx_sbpl_brksc_neg_err', 'pflx_sbpl_brksc_pos_err',\n",
       "       'pflx_sbpl_dof', 'pflx_sbpl_ergflnc', 'pflx_sbpl_ergflnc_error',\n",
       "       'pflx_sbpl_ergflncb', 'pflx_sbpl_ergflncb_error',\n",
       "       'pflx_sbpl_ergflux', 'pflx_sbpl_ergflux_error', 'pflx_sbpl_indx1',\n",
       "       'pflx_sbpl_indx1_neg_err', 'pflx_sbpl_indx1_pos_err',\n",
       "       'pflx_sbpl_indx2', 'pflx_sbpl_indx2_neg_err',\n",
       "       'pflx_sbpl_indx2_pos_err', 'pflx_sbpl_phtflnc',\n",
       "       'pflx_sbpl_phtflnc_error', 'pflx_sbpl_phtflncb',\n",
       "       'pflx_sbpl_phtflncb_error', 'pflx_sbpl_phtflux',\n",
       "       'pflx_sbpl_phtflux_error', 'pflx_sbpl_phtfluxb',\n",
       "       'pflx_sbpl_phtfluxb_error', 'pflx_sbpl_pivot',\n",
       "       'pflx_sbpl_pivot_neg_err', 'pflx_sbpl_pivot_pos_err',\n",
       "       'pflx_sbpl_redchisq', 'pflx_sbpl_redfitstat',\n",
       "       'pflx_sbpl_statistic', 'pflx_spectrum_start', 'pflx_spectrum_stop',\n",
       "       'scat_detector_mask', 'scatalog', 't50', 't50_error', 't50_start',\n",
       "       'trigger_name'], dtype='<U24')"
      ]
     },
     "execution_count": 8,
     "metadata": {},
     "output_type": "execute_result"
    }
   ],
   "source": [
    "burstcat.columns"
   ]
  },
  {
   "cell_type": "code",
   "execution_count": 7,
   "id": "30f68dd2",
   "metadata": {},
   "outputs": [],
   "source": [
    "bursts = burstcat.get_table(columns=('name','trigger_name', 't90','t90_error'))"
   ]
  },
  {
   "cell_type": "code",
   "execution_count": 29,
   "id": "f5b17892",
   "metadata": {},
   "outputs": [
    {
     "ename": "ValueError",
     "evalue": "190114873 is not a valid trigger number",
     "output_type": "error",
     "traceback": [
      "\u001b[0;31m---------------------------------------------------------------------------\u001b[0m",
      "\u001b[0;31mSSLEOFError\u001b[0m                               Traceback (most recent call last)",
      "File \u001b[0;32m~/Research/GBM/gbm_data_tools-1.1.1/gbm/finder.py:193\u001b[0m, in \u001b[0;36mFtpFinder.ls\u001b[0;34m(self, id)\u001b[0m\n\u001b[1;32m    192\u001b[0m \u001b[38;5;28;01mtry\u001b[39;00m:\n\u001b[0;32m--> 193\u001b[0m     files \u001b[38;5;241m=\u001b[39m \u001b[38;5;28;43mself\u001b[39;49m\u001b[38;5;241;43m.\u001b[39;49m\u001b[43m_ftp\u001b[49m\u001b[38;5;241;43m.\u001b[39;49m\u001b[43mnlst\u001b[49m\u001b[43m(\u001b[49m\u001b[43mpath\u001b[49m\u001b[43m)\u001b[49m\n\u001b[1;32m    194\u001b[0m \u001b[38;5;28;01mexcept\u001b[39;00m \u001b[38;5;167;01mAttributeError\u001b[39;00m:\n",
      "File \u001b[0;32m~/miniconda3/envs/gbm/lib/python3.11/ftplib.py:553\u001b[0m, in \u001b[0;36mFTP.nlst\u001b[0;34m(self, *args)\u001b[0m\n\u001b[1;32m    552\u001b[0m files \u001b[38;5;241m=\u001b[39m []\n\u001b[0;32m--> 553\u001b[0m \u001b[38;5;28;43mself\u001b[39;49m\u001b[38;5;241;43m.\u001b[39;49m\u001b[43mretrlines\u001b[49m\u001b[43m(\u001b[49m\u001b[43mcmd\u001b[49m\u001b[43m,\u001b[49m\u001b[43m \u001b[49m\u001b[43mfiles\u001b[49m\u001b[38;5;241;43m.\u001b[39;49m\u001b[43mappend\u001b[49m\u001b[43m)\u001b[49m\n\u001b[1;32m    554\u001b[0m \u001b[38;5;28;01mreturn\u001b[39;00m files\n",
      "File \u001b[0;32m~/miniconda3/envs/gbm/lib/python3.11/ftplib.py:461\u001b[0m, in \u001b[0;36mFTP.retrlines\u001b[0;34m(self, cmd, callback)\u001b[0m\n\u001b[1;32m    460\u001b[0m     callback \u001b[38;5;241m=\u001b[39m print_line\n\u001b[0;32m--> 461\u001b[0m resp \u001b[38;5;241m=\u001b[39m \u001b[38;5;28;43mself\u001b[39;49m\u001b[38;5;241;43m.\u001b[39;49m\u001b[43msendcmd\u001b[49m\u001b[43m(\u001b[49m\u001b[38;5;124;43m'\u001b[39;49m\u001b[38;5;124;43mTYPE A\u001b[39;49m\u001b[38;5;124;43m'\u001b[39;49m\u001b[43m)\u001b[49m\n\u001b[1;32m    462\u001b[0m \u001b[38;5;28;01mwith\u001b[39;00m \u001b[38;5;28mself\u001b[39m\u001b[38;5;241m.\u001b[39mtransfercmd(cmd) \u001b[38;5;28;01mas\u001b[39;00m conn, \\\n\u001b[1;32m    463\u001b[0m          conn\u001b[38;5;241m.\u001b[39mmakefile(\u001b[38;5;124m'\u001b[39m\u001b[38;5;124mr\u001b[39m\u001b[38;5;124m'\u001b[39m, encoding\u001b[38;5;241m=\u001b[39m\u001b[38;5;28mself\u001b[39m\u001b[38;5;241m.\u001b[39mencoding) \u001b[38;5;28;01mas\u001b[39;00m fp:\n",
      "File \u001b[0;32m~/miniconda3/envs/gbm/lib/python3.11/ftplib.py:280\u001b[0m, in \u001b[0;36mFTP.sendcmd\u001b[0;34m(self, cmd)\u001b[0m\n\u001b[1;32m    279\u001b[0m \u001b[38;5;250m\u001b[39m\u001b[38;5;124;03m'''Send a command and return the response.'''\u001b[39;00m\n\u001b[0;32m--> 280\u001b[0m \u001b[38;5;28;43mself\u001b[39;49m\u001b[38;5;241;43m.\u001b[39;49m\u001b[43mputcmd\u001b[49m\u001b[43m(\u001b[49m\u001b[43mcmd\u001b[49m\u001b[43m)\u001b[49m\n\u001b[1;32m    281\u001b[0m \u001b[38;5;28;01mreturn\u001b[39;00m \u001b[38;5;28mself\u001b[39m\u001b[38;5;241m.\u001b[39mgetresp()\n",
      "File \u001b[0;32m~/miniconda3/envs/gbm/lib/python3.11/ftplib.py:207\u001b[0m, in \u001b[0;36mFTP.putcmd\u001b[0;34m(self, line)\u001b[0m\n\u001b[1;32m    206\u001b[0m \u001b[38;5;28;01mif\u001b[39;00m \u001b[38;5;28mself\u001b[39m\u001b[38;5;241m.\u001b[39mdebugging: \u001b[38;5;28mprint\u001b[39m(\u001b[38;5;124m'\u001b[39m\u001b[38;5;124m*cmd*\u001b[39m\u001b[38;5;124m'\u001b[39m, \u001b[38;5;28mself\u001b[39m\u001b[38;5;241m.\u001b[39msanitize(line))\n\u001b[0;32m--> 207\u001b[0m \u001b[38;5;28;43mself\u001b[39;49m\u001b[38;5;241;43m.\u001b[39;49m\u001b[43mputline\u001b[49m\u001b[43m(\u001b[49m\u001b[43mline\u001b[49m\u001b[43m)\u001b[49m\n",
      "File \u001b[0;32m~/miniconda3/envs/gbm/lib/python3.11/ftplib.py:202\u001b[0m, in \u001b[0;36mFTP.putline\u001b[0;34m(self, line)\u001b[0m\n\u001b[1;32m    201\u001b[0m     \u001b[38;5;28mprint\u001b[39m(\u001b[38;5;124m'\u001b[39m\u001b[38;5;124m*put*\u001b[39m\u001b[38;5;124m'\u001b[39m, \u001b[38;5;28mself\u001b[39m\u001b[38;5;241m.\u001b[39msanitize(line))\n\u001b[0;32m--> 202\u001b[0m \u001b[38;5;28;43mself\u001b[39;49m\u001b[38;5;241;43m.\u001b[39;49m\u001b[43msock\u001b[49m\u001b[38;5;241;43m.\u001b[39;49m\u001b[43msendall\u001b[49m\u001b[43m(\u001b[49m\u001b[43mline\u001b[49m\u001b[38;5;241;43m.\u001b[39;49m\u001b[43mencode\u001b[49m\u001b[43m(\u001b[49m\u001b[38;5;28;43mself\u001b[39;49m\u001b[38;5;241;43m.\u001b[39;49m\u001b[43mencoding\u001b[49m\u001b[43m)\u001b[49m\u001b[43m)\u001b[49m\n",
      "File \u001b[0;32m~/miniconda3/envs/gbm/lib/python3.11/ssl.py:1241\u001b[0m, in \u001b[0;36mSSLSocket.sendall\u001b[0;34m(self, data, flags)\u001b[0m\n\u001b[1;32m   1240\u001b[0m \u001b[38;5;28;01mwhile\u001b[39;00m count \u001b[38;5;241m<\u001b[39m amount:\n\u001b[0;32m-> 1241\u001b[0m     v \u001b[38;5;241m=\u001b[39m \u001b[38;5;28;43mself\u001b[39;49m\u001b[38;5;241;43m.\u001b[39;49m\u001b[43msend\u001b[49m\u001b[43m(\u001b[49m\u001b[43mbyte_view\u001b[49m\u001b[43m[\u001b[49m\u001b[43mcount\u001b[49m\u001b[43m:\u001b[49m\u001b[43m]\u001b[49m\u001b[43m)\u001b[49m\n\u001b[1;32m   1242\u001b[0m     count \u001b[38;5;241m+\u001b[39m\u001b[38;5;241m=\u001b[39m v\n",
      "File \u001b[0;32m~/miniconda3/envs/gbm/lib/python3.11/ssl.py:1210\u001b[0m, in \u001b[0;36mSSLSocket.send\u001b[0;34m(self, data, flags)\u001b[0m\n\u001b[1;32m   1207\u001b[0m         \u001b[38;5;28;01mraise\u001b[39;00m \u001b[38;5;167;01mValueError\u001b[39;00m(\n\u001b[1;32m   1208\u001b[0m             \u001b[38;5;124m\"\u001b[39m\u001b[38;5;124mnon-zero flags not allowed in calls to send() on \u001b[39m\u001b[38;5;132;01m%s\u001b[39;00m\u001b[38;5;124m\"\u001b[39m \u001b[38;5;241m%\u001b[39m\n\u001b[1;32m   1209\u001b[0m             \u001b[38;5;28mself\u001b[39m\u001b[38;5;241m.\u001b[39m\u001b[38;5;18m__class__\u001b[39m)\n\u001b[0;32m-> 1210\u001b[0m     \u001b[38;5;28;01mreturn\u001b[39;00m \u001b[38;5;28mself\u001b[39m\u001b[38;5;241m.\u001b[39m_sslobj\u001b[38;5;241m.\u001b[39mwrite(data)\n\u001b[1;32m   1211\u001b[0m \u001b[38;5;28;01melse\u001b[39;00m:\n",
      "\u001b[0;31mSSLEOFError\u001b[0m: EOF occurred in violation of protocol (_ssl.c:2423)",
      "\nDuring handling of the above exception, another exception occurred:\n",
      "\u001b[0;31mFileExistsError\u001b[0m                           Traceback (most recent call last)",
      "File \u001b[0;32m~/Research/GBM/gbm_data_tools-1.1.1/gbm/finder.py:247\u001b[0m, in \u001b[0;36mTriggerFtp.__init__\u001b[0;34m(self, tnum)\u001b[0m\n\u001b[1;32m    246\u001b[0m \u001b[38;5;28;01mtry\u001b[39;00m:\n\u001b[0;32m--> 247\u001b[0m     \u001b[38;5;28mself\u001b[39m\u001b[38;5;241m.\u001b[39m_file_list \u001b[38;5;241m=\u001b[39m \u001b[38;5;28;43mself\u001b[39;49m\u001b[38;5;241;43m.\u001b[39;49m\u001b[43mls\u001b[49m\u001b[43m(\u001b[49m\u001b[43mtnum\u001b[49m\u001b[43m)\u001b[49m\n\u001b[1;32m    248\u001b[0m     \u001b[38;5;28mself\u001b[39m\u001b[38;5;241m.\u001b[39m_ftp\u001b[38;5;241m.\u001b[39mcwd(\u001b[38;5;28mself\u001b[39m\u001b[38;5;241m.\u001b[39m_construct_path(tnum))\n",
      "File \u001b[0;32m~/Research/GBM/gbm_data_tools-1.1.1/gbm/finder.py:203\u001b[0m, in \u001b[0;36mFtpFinder.ls\u001b[0;34m(self, id)\u001b[0m\n\u001b[1;32m    202\u001b[0m \u001b[38;5;28;01mexcept\u001b[39;00m:\n\u001b[0;32m--> 203\u001b[0m     \u001b[38;5;28;01mraise\u001b[39;00m \u001b[38;5;167;01mFileExistsError\u001b[39;00m(\u001b[38;5;124m'\u001b[39m\u001b[38;5;132;01m{}\u001b[39;00m\u001b[38;5;124m does not exist\u001b[39m\u001b[38;5;124m'\u001b[39m\u001b[38;5;241m.\u001b[39mformat(path))\n\u001b[1;32m    204\u001b[0m files \u001b[38;5;241m=\u001b[39m \u001b[38;5;28msorted\u001b[39m([os\u001b[38;5;241m.\u001b[39mpath\u001b[38;5;241m.\u001b[39mbasename(f) \u001b[38;5;28;01mfor\u001b[39;00m f \u001b[38;5;129;01min\u001b[39;00m files])\n",
      "\u001b[0;31mFileExistsError\u001b[0m: /fermi/data/gbm/triggers/2019/bn190114873/current does not exist",
      "\nDuring handling of the above exception, another exception occurred:\n",
      "\u001b[0;31mValueError\u001b[0m                                Traceback (most recent call last)",
      "Cell \u001b[0;32mIn[29], line 5\u001b[0m\n\u001b[1;32m      2\u001b[0m \u001b[38;5;28;01mfrom\u001b[39;00m \u001b[38;5;21;01mgbm\u001b[39;00m\u001b[38;5;21;01m.\u001b[39;00m\u001b[38;5;21;01mfinder\u001b[39;00m \u001b[38;5;28;01mimport\u001b[39;00m TriggerFtp\n\u001b[1;32m      4\u001b[0m \u001b[38;5;66;03m# initialize the Trigger data finder with a trigger number\u001b[39;00m\n\u001b[0;32m----> 5\u001b[0m trig_finder \u001b[38;5;241m=\u001b[39m \u001b[43mTriggerFtp\u001b[49m\u001b[43m(\u001b[49m\u001b[38;5;124;43m'\u001b[39;49m\u001b[38;5;124;43m190114873\u001b[39;49m\u001b[38;5;124;43m'\u001b[39;49m\u001b[43m)\u001b[49m\n\u001b[1;32m      6\u001b[0m trig_finder\u001b[38;5;241m.\u001b[39mnum_files\n\u001b[1;32m      8\u001b[0m \u001b[38;5;66;03m# bursts.name[0]\u001b[39;00m\n",
      "File \u001b[0;32m~/Research/GBM/gbm_data_tools-1.1.1/gbm/finder.py:251\u001b[0m, in \u001b[0;36mTriggerFtp.__init__\u001b[0;34m(self, tnum)\u001b[0m\n\u001b[1;32m    249\u001b[0m     \u001b[38;5;28mself\u001b[39m\u001b[38;5;241m.\u001b[39m_tnum \u001b[38;5;241m=\u001b[39m tnum\n\u001b[1;32m    250\u001b[0m \u001b[38;5;28;01mexcept\u001b[39;00m \u001b[38;5;167;01mFileExistsError\u001b[39;00m:\n\u001b[0;32m--> 251\u001b[0m     \u001b[38;5;28;01mraise\u001b[39;00m \u001b[38;5;167;01mValueError\u001b[39;00m(\n\u001b[1;32m    252\u001b[0m         \u001b[38;5;124m'\u001b[39m\u001b[38;5;132;01m{}\u001b[39;00m\u001b[38;5;124m is not a valid trigger number\u001b[39m\u001b[38;5;124m'\u001b[39m\u001b[38;5;241m.\u001b[39mformat(tnum))\n",
      "\u001b[0;31mValueError\u001b[0m: 190114873 is not a valid trigger number"
     ]
    }
   ],
   "source": [
    "# the datafinder class for triggers\n",
    "from gbm.finder import TriggerFtp\n",
    "\n",
    "# initialize the Trigger data finder with a trigger number\n",
    "trig_finder = TriggerFtp('190114873')\n",
    "trig_finder.num_files\n",
    "\n",
    "# bursts.name[0]"
   ]
  },
  {
   "cell_type": "code",
   "execution_count": 19,
   "id": "e902f2a2",
   "metadata": {},
   "outputs": [
    {
     "name": "stderr",
     "output_type": "stream",
     "text": [
      "/Users/tahumada/Research/GBM/gbm_data_tools-1.1.1/gbm/plot/lal_post_subs.py:184: UserWarning: Basemap not installed. Some functionality not available.\n",
      "  warnings.warn('Basemap not installed. Some functionality not available.')\n"
     ]
    },
    {
     "data": {
      "image/png": "[encoded data removed]",
      "text/plain": [
       "<Figure size 770x470 with 1 Axes>"
      ]
     },
     "metadata": {},
     "output_type": "display_data"
    }
   ],
   "source": [
    "from gbm import test_data_dir\n",
    "from gbm.data import TTE\n",
    "from gbm.binning.unbinned import bin_by_time\n",
    "\n",
    "# open a TTE file\n",
    "tte = TTE.open(test_data_dir+'/glg_tte_n9_bn090131090_v00.fit')\n",
    "# bin to 1.024 s resolution, reference time is trigger time\n",
    "phaii = tte.to_phaii(bin_by_time, 1.024, time_ref=0.0)\n",
    "%matplotlib inline\n",
    "from gbm.plot import Lightcurve, Spectrum\n",
    "\n",
    "erange = (8.0, 900.0)\n",
    "\n",
    "lc_data = phaii.to_lightcurve(energy_range=erange)\n",
    "lcplot = Lightcurve(data=lc_data)\n"
   ]
  },
  {
   "cell_type": "code",
   "execution_count": 26,
   "id": "4ca64899",
   "metadata": {},
   "outputs": [
    {
     "data": {
      "text/plain": [
       "<gbm.finder.BurstCatalog at 0x1205a6fd0>"
      ]
     },
     "execution_count": 26,
     "metadata": {},
     "output_type": "execute_result"
    }
   ],
   "source": [
    "burstcat"
   ]
  },
  {
   "cell_type": "code",
   "execution_count": 2,
   "id": "0a0c1967",
   "metadata": {},
   "outputs": [],
   "source": [
    "# the datafinder class for continuous data\n",
    "from gbm.finder import ContinuousFtp\n",
    "\n",
    "# initialize the continuous data finder with a time (Fermi MET, UTC, or GPS)\n",
    "cont_finder = ContinuousFtp(utc='2020-08-16T00:00:00')\n",
    "# cont_finder.num_files"
   ]
  },
  {
   "cell_type": "code",
   "execution_count": 8,
   "id": "e9132973",
   "metadata": {},
   "outputs": [
    {
     "name": "stdout",
     "output_type": "stream",
     "text": [
      "Connection appears to have failed.  Attempting to reconnect...\n",
      "Reconnected.\n"
     ]
    },
    {
     "data": {
      "text/plain": [
       "122"
      ]
     },
     "execution_count": 8,
     "metadata": {},
     "output_type": "execute_result"
    }
   ],
   "source": [
    "# the datafinder class for triggers\n",
    "from gbm.finder import TriggerFtp\n",
    "\n",
    "# initialize the Trigger data finder with a trigger number\n",
    "trig_finder = TriggerFtp('190114873')\n",
    "trig_finder.num_files"
   ]
  },
  {
   "cell_type": "code",
   "execution_count": 102,
   "id": "57166c06",
   "metadata": {},
   "outputs": [
    {
     "data": {
      "text/plain": [
       "'b0'"
      ]
     },
     "execution_count": 102,
     "metadata": {},
     "output_type": "execute_result"
    }
   ],
   "source": [
    "trig_finder.ls_tte()[0][8:10]"
   ]
  },
  {
   "cell_type": "code",
   "execution_count": null,
   "id": "72ebb2b7",
   "metadata": {},
   "outputs": [],
   "source": []
  }
 ],
 "metadata": {
  "kernelspec": {
   "display_name": "Python 3 (ipykernel)",
   "language": "python",
   "name": "python3"
  },
  "language_info": {
   "codemirror_mode": {
    "name": "ipython",
    "version": 3
   },
   "file_extension": ".py",
   "mimetype": "text/x-python",
   "name": "python",
   "nbconvert_exporter": "python",
   "pygments_lexer": "ipython3",
   "version": "3.11.3"
  }
 },
 "nbformat": 4,
 "nbformat_minor": 5
}
